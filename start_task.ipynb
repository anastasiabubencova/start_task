{
  "nbformat": 4,
  "nbformat_minor": 0,
  "metadata": {
    "colab": {
      "provenance": []
    },
    "kernelspec": {
      "name": "python3",
      "display_name": "Python 3"
    },
    "language_info": {
      "name": "python"
    }
  },
  "cells": [
    {
      "cell_type": "code",
      "source": [
        "pip install datatable"
      ],
      "metadata": {
        "colab": {
          "base_uri": "https://localhost:8080/"
        },
        "id": "1Se4X21X2JeV",
        "outputId": "fbea6128-9785-4384-e8d1-99f7998117b4"
      },
      "execution_count": 123,
      "outputs": [
        {
          "output_type": "stream",
          "name": "stdout",
          "text": [
            "Looking in indexes: https://pypi.org/simple, https://us-python.pkg.dev/colab-wheels/public/simple/\n",
            "Requirement already satisfied: datatable in /usr/local/lib/python3.7/dist-packages (1.0.0)\n"
          ]
        }
      ]
    },
    {
      "cell_type": "code",
      "source": [
        "import pandas as pd\n",
        "import random\n",
        "import string\n",
        "from datetime import datetime\n",
        "import os\n",
        "from matplotlib import pyplot as plt\n",
        "import h5py\n",
        "import warnings\n",
        "import datatable as dt\n",
        "import msgpack\n",
        "from sklearn import preprocessing\n",
        "warnings.simplefilter(action='ignore', category=FutureWarning)"
      ],
      "metadata": {
        "id": "HA9nkY5a2EEU"
      },
      "execution_count": 131,
      "outputs": []
    },
    {
      "cell_type": "code",
      "source": [
        "types = ['int', 'float', 'string', 'boolean']\n",
        "\n",
        "def int_column(length) :\n",
        "\n",
        "    column = []\n",
        "    for i in range(length) :\n",
        "        column.append(random.randint(-2147483648, 2147483647))\n",
        "    return column\n",
        "\n",
        "def float_column(length) :\n",
        "    column = []\n",
        "    for i in range(length) :\n",
        "        column.append(random.uniform(-100, 100))\n",
        "    return column\n",
        "\n",
        "def boolean_column(length) :\n",
        "    column = []\n",
        "    for i in range(length) :\n",
        "        column.append(bool(random.randint(0,1)))\n",
        "    return column\n",
        "\n",
        "def string_column(length) :\n",
        "    column = []\n",
        "    letters = string.ascii_lowercase\n",
        "    for i in range(length) :\n",
        "        column.append(''.join([random.choice(letters) for j in range(random.randint(0,10))]))\n",
        "    return column\n",
        "\n",
        "def column(column_type, length) :\n",
        "    if types[column_type] == 'int' :\n",
        "        return int_column(length)\n",
        "    elif types[column_type] == 'float':\n",
        "        return float_column(length)\n",
        "    elif types[column_type] == 'boolean' :\n",
        "        return boolean_column(length)\n",
        "    elif types[column_type] == 'string' :\n",
        "        return string_column(length)\n",
        "\n",
        "def write_hdf(filename, ds) :\n",
        "    ds = pd.concat([pd.DataFrame(ds.columns), ds], axis=1)\n",
        "    new_ds = pd.DataFrame([ds[i].astype('string') for i in ds.columns])\n",
        "    with h5py.File(filename, 'w') as f:\n",
        "        f.create_dataset('dataset', data=new_ds.values)\n",
        "\n",
        "def read_hdf(filename) :\n",
        "  with h5py.File(filename, \"r\") as f:\n",
        "        a_group_key = list(f.keys())[0]\n",
        "        readed_ds = h5py.Dataset.asstr(f[a_group_key])\n",
        "        ds = pd.DataFrame(list(readed_ds[1:]))\n",
        "        #ds = ds.T\n",
        "        ds.columns = list(readed_ds[0])\n",
        "        return ds\n",
        "\n",
        "def write_jay(filename, ds) :\n",
        "  ddt = dt.Frame([i.astype(str) for i in ds.values])\n",
        "  ddt.names = list(ds.columns)\n",
        "  ddt.to_jay('results/dataset.jay', method='auto')\n",
        "\n",
        "def read_jay(filename) :\n",
        "  ddt = dt.fread(filename)\n",
        "  ds = ddt.to_pandas()\n",
        "  col = ds.columns\n",
        "  ind = ds.index\n",
        "  ds = ds.T\n",
        "  ds.columns = col\n",
        "  ds.index = ind\n",
        "  return ds\n",
        "\n",
        "def write_msgpack(filename, ds) :\n",
        "  with open(filename, \"wb\") as outfile:\n",
        "    packed = msgpack.packb(ds.to_dict())\n",
        "    outfile.write(packed)\n",
        "\n",
        "def read_msgpack(filename) :\n",
        "  with open('results/dataset.msg', \"rb\") as data_file:\n",
        "    byte_data = data_file.read()\n",
        "    data_loaded = msgpack.unpackb(byte_data, strict_map_key=False)\n",
        "    return pd.DataFrame(data_loaded)"
      ],
      "metadata": {
        "id": "zTD7xi_t2aAZ"
      },
      "execution_count": 128,
      "outputs": []
    },
    {
      "cell_type": "code",
      "source": [
        "def main() :\n",
        "    #columns_num = random.randint(1, 100)\n",
        "    #rows_num = random.randint(1, 100)\n",
        "    #dim = columns_num * rows_num\n",
        "\n",
        "    ds = pd.DataFrame()\n",
        "    columns_num = 256\n",
        "    rows_num = 256\n",
        "\n",
        "    for i in range(columns_num) :\n",
        "        type = random.randint(0, 3)\n",
        "        ds = pd.concat([ds, pd.DataFrame(column(type, rows_num), columns=['col' + str(i) + \"_\" + types[type]])], axis=1)\n",
        "        ds.iloc[:, -1] = ds.iloc[:, -1].astype(types[type])\n",
        "\n",
        "    start_csv = datetime.now()\n",
        "    ds.to_csv('results/dataset.csv', index=False)\n",
        "    start_feather = datetime.now()\n",
        "    ds.reset_index(drop=True).to_feather('results/dataset.feather')\n",
        "    start_hdf = datetime.now()\n",
        "    write_hdf('results/dataset.hdf5', ds)\n",
        "    start_msgpack = datetime.now()\n",
        "    write_msgpack('results/dataset.msg', ds)\n",
        "    start_parquet = datetime.now()\n",
        "    ds.to_parquet('results/dataset.gzip', compression='gzip')\n",
        "    start_pickle = datetime.now()\n",
        "    ds.to_pickle('results/dataset.pkl')\n",
        "    start_jay = datetime.now()\n",
        "    write_jay('results/dataset.jay', ds)\n",
        "    end_time = datetime.now()\n",
        "\n",
        "\n",
        "    result = pd.DataFrame()\n",
        "    result['file'] = ['csv', 'feather', 'hdf', 'msgpack', 'parquet', 'pickle', 'jay']\n",
        "    result['save_time'] = [(start_feather - start_csv).microseconds, (start_hdf - start_feather).microseconds,\n",
        "                           (start_msgpack - start_hdf).microseconds, (start_parquet - start_msgpack).microseconds,\n",
        "                           (start_pickle - start_parquet).microseconds, (start_jay - start_pickle).microseconds,\n",
        "                           (end_time - start_jay).microseconds]\n",
        "\n",
        "    start_csv = datetime.now()\n",
        "    ds = pd.read_csv('results/dataset.csv')\n",
        "    start_feather = datetime.now()\n",
        "    ds = pd.read_feather('results/dataset.feather')\n",
        "    start_hdf = datetime.now()\n",
        "    ds = read_hdf('results/dataset.hdf5')\n",
        "    start_msgpack = datetime.now()\n",
        "    ds = read_msgpack('results/dataset.msg')\n",
        "    start_parquet = datetime.now()\n",
        "    ds = pd.read_parquet('results/dataset.gzip')\n",
        "    start_pickle = datetime.now()\n",
        "    ds = pd.read_pickle('results/dataset.pkl')\n",
        "    start_jay = datetime.now()\n",
        "    ds = read_jay('results/dataset.jay')\n",
        "    end_time = datetime.now()\n",
        "\n",
        "    result['load_time'] = [(start_feather - start_csv).microseconds, (start_hdf - start_feather).microseconds,\n",
        "                           (start_msgpack - start_hdf).microseconds, (start_parquet - start_msgpack).microseconds,\n",
        "                           (start_pickle - start_parquet).microseconds, (start_jay - start_pickle).microseconds,\n",
        "                           (end_time - start_jay).microseconds]\n",
        "\n",
        "    result['size'] = [os.stat('results/dataset.csv').st_size, os.stat('results/dataset.feather').st_size,\n",
        "                      os.stat('results/dataset.hdf5').st_size, os.stat('results/dataset.msg').st_size,\n",
        "                      os.stat('results/dataset.gzip').st_size, os.stat('results/dataset.pkl').st_size, os.stat('results/dataset.jay').st_size]\n",
        "\n",
        "    return result"
      ],
      "metadata": {
        "id": "EMT0nvOt2a1k"
      },
      "execution_count": 126,
      "outputs": []
    },
    {
      "cell_type": "code",
      "source": [],
      "metadata": {
        "id": "A-w43FvJNrJj"
      },
      "execution_count": 156,
      "outputs": []
    },
    {
      "cell_type": "code",
      "source": [
        "result = pd.DataFrame(columns=['file', 'save_time', 'load_time', 'size'])\n",
        "for i in range(100) :\n",
        "        result = pd.concat([result, main()])\n",
        "\n",
        "res = result.groupby('file', as_index=False).mean()\n",
        "print(res)\n",
        "\n",
        "res['save_time'] = preprocessing.normalize(res['save_time'].values.reshape(1, -1))[0]\n",
        "res['load_time'] = preprocessing.normalize(res['load_time'].values.reshape(1, -1))[0]\n",
        "res['size'] = preprocessing.normalize(res['size'].values.reshape(1, -1))[0]\n",
        "\n",
        "res['sum'] = res['save_time'] + res['load_time'] + res['size']"
      ],
      "metadata": {
        "colab": {
          "base_uri": "https://localhost:8080/"
        },
        "id": "a5StXDDq2gQJ",
        "outputId": "47d42313-989e-4ddc-fd14-00274ab38d4e"
      },
      "execution_count": 173,
      "outputs": [
        {
          "output_type": "stream",
          "name": "stdout",
          "text": [
            "      file  save_time  load_time        size\n",
            "0      csv   63597.07   35559.13   675467.04\n",
            "1  feather   44995.26   24885.42   496391.84\n",
            "2      hdf  204773.67   73533.94  3040337.92\n",
            "3      jay   53984.52   46219.94   889233.20\n",
            "4  msgpack   80531.29   38690.77   444941.43\n",
            "5  parquet   76819.22   48901.90   510950.89\n",
            "6   pickle    8202.24    8764.44   453791.90\n"
          ]
        }
      ]
    },
    {
      "cell_type": "code",
      "source": [
        "fig = plt.figure(figsize=(24,10))\n",
        "plt.subplot(1, 4, 1)\n",
        "plt.bar(result['file'].values, result['save_time'].values)\n",
        "plt.title('saving, microseconds')\n",
        "plt.subplot(1, 4, 2)\n",
        "plt.bar(result['file'].values, result['load_time'].values)\n",
        "plt.title('loading, microseconds')\n",
        "plt.subplot(1, 4, 3)\n",
        "plt.bar(result['file'].values, result['size'].values)\n",
        "plt.title('size, bytes')\n",
        "plt.subplot(1, 4, 4)\n",
        "plt.bar(res.sort_values('sum')['file'].values, res.sort_values('sum')['sum'].values)\n",
        "plt.title('final rank')\n",
        "plt.savefig('results/res1.png')"
      ],
      "metadata": {
        "colab": {
          "base_uri": "https://localhost:8080/",
          "height": 487
        },
        "id": "IUNkUGBUPjWb",
        "outputId": "89777cd3-1907-4213-aa45-4d1f8f3945c0"
      },
      "execution_count": 178,
      "outputs": [
        {
          "output_type": "display_data",
          "data": {
            "text/plain": [
              "<Figure size 1728x720 with 4 Axes>"
            ],
            "image/png": "[encoded data removed]"
          },
          "metadata": {
            "needs_background": "light"
          }
        }
      ]
    }
  ]
}