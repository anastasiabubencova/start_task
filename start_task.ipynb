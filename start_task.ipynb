{
  "nbformat": 4,
  "nbformat_minor": 0,
  "metadata": {
    "colab": {
      "provenance": []
    },
    "kernelspec": {
      "name": "python3",
      "display_name": "Python 3"
    },
    "language_info": {
      "name": "python"
    }
  },
  "cells": [
    {
      "cell_type": "code",
      "source": [
        "pip install datatable"
      ],
      "metadata": {
        "colab": {
          "base_uri": "https://localhost:8080/"
        },
        "id": "1Se4X21X2JeV",
        "outputId": "16e46e68-0db3-44f0-efc9-07481f5f6fd8"
      },
      "execution_count": null,
      "outputs": [
        {
          "output_type": "stream",
          "name": "stdout",
          "text": [
            "Looking in indexes: https://pypi.org/simple, https://us-python.pkg.dev/colab-wheels/public/simple/\n",
            "Collecting datatable\n",
            "  Downloading datatable-1.0.0-cp37-cp37m-manylinux_2_12_x86_64.whl (96.9 MB)\n",
            "\u001b[K     |████████████████████████████████| 96.9 MB 1.3 MB/s \n",
            "\u001b[?25hInstalling collected packages: datatable\n",
            "Successfully installed datatable-1.0.0\n"
          ]
        }
      ]
    },
    {
      "cell_type": "code",
      "source": [
        "import pandas as pd\n",
        "import random\n",
        "import string\n",
        "from datetime import datetime\n",
        "import os\n",
        "from matplotlib import pyplot as plt\n",
        "import h5py\n",
        "import warnings\n",
        "import datatable as dt\n",
        "import msgpack\n",
        "from sklearn import preprocessing\n",
        "warnings.simplefilter(action='ignore', category=FutureWarning)"
      ],
      "metadata": {
        "id": "HA9nkY5a2EEU"
      },
      "execution_count": 78,
      "outputs": []
    },
    {
      "cell_type": "code",
      "source": [
        "types = ['int', 'float', 'string', 'boolean']\n",
        "\n",
        "def int_column(length) :\n",
        "\n",
        "    column = []\n",
        "    for i in range(length) :\n",
        "        column.append(random.randint(-2147483648, 2147483647))\n",
        "    return column\n",
        "\n",
        "def float_column(length) :\n",
        "    column = []\n",
        "    for i in range(length) :\n",
        "        column.append(random.uniform(-100, 100))\n",
        "    return column\n",
        "\n",
        "def boolean_column(length) :\n",
        "    column = []\n",
        "    for i in range(length) :\n",
        "        column.append(bool(random.randint(0,1)))\n",
        "    return column\n",
        "\n",
        "def string_column(length) :\n",
        "    column = []\n",
        "    letters = string.ascii_lowercase\n",
        "    for i in range(length) :\n",
        "        column.append(''.join([random.choice(letters) for j in range(random.randint(0,10))]))\n",
        "    return column\n",
        "\n",
        "def column(column_type, length) :\n",
        "    if types[column_type] == 'int' :\n",
        "        return int_column(length)\n",
        "    elif types[column_type] == 'float':\n",
        "        return float_column(length)\n",
        "    elif types[column_type] == 'boolean' :\n",
        "        return boolean_column(length)\n",
        "    elif types[column_type] == 'string' :\n",
        "        return string_column(length)\n",
        "\n",
        "def write_hdf(filename, ds) :\n",
        "    ds = pd.concat([pd.DataFrame(ds.columns), ds], axis=1)\n",
        "    new_ds = pd.DataFrame([ds[i].astype('string') for i in ds.columns])\n",
        "    with h5py.File(filename, 'w') as f:\n",
        "        f.create_dataset('dataset', data=new_ds.values)\n",
        "\n",
        "def read_hdf(filename) :\n",
        "  with h5py.File(filename, \"r\") as f:\n",
        "        a_group_key = list(f.keys())[0]\n",
        "        readed_ds = h5py.Dataset.asstr(f[a_group_key])\n",
        "        ds = pd.DataFrame(list(readed_ds[1:]))\n",
        "        ds = ds.T\n",
        "        ds.columns = list(readed_ds[0])\n",
        "        return to_correct_types(ds)\n",
        "\n",
        "def write_jay(filename, ds) :\n",
        "  ddt = dt.Frame([i.astype(str) for i in ds.values])\n",
        "  ddt.names = list(ds.columns)\n",
        "  ddt.to_jay('results/dataset.jay', method='auto')\n",
        "\n",
        "def read_jay(filename) :\n",
        "  ddt = dt.fread(filename)\n",
        "  ds = ddt.to_pandas()\n",
        "  col = ds.columns\n",
        "  ind = ds.index\n",
        "  ds = ds.T\n",
        "  ds.columns = col\n",
        "  ds.index = ind\n",
        "  return to_correct_types(ds)\n",
        "\n",
        "def write_msgpack(filename, ds) :\n",
        "  with open(filename, \"wb\") as outfile:\n",
        "    packed = msgpack.packb(ds.to_dict())\n",
        "    outfile.write(packed)\n",
        "\n",
        "def read_msgpack(filename) :\n",
        "  with open('results/dataset.msg', \"rb\") as data_file:\n",
        "    byte_data = data_file.read()\n",
        "    data_loaded = msgpack.unpackb(byte_data, strict_map_key=False)\n",
        "    return pd.DataFrame(data_loaded)\n",
        "\n",
        "def to_correct_types(ds) :\n",
        "  for i in range(len(ds.columns)) :\n",
        "    try :\n",
        "      ds[ds.columns[i]] = ds[ds.columns[i]].astype('boolean')\n",
        "    except :\n",
        "      try :\n",
        "        ds[ds.columns[i]] = ds[ds.columns[i]].astype('int')\n",
        "      except :\n",
        "        try :\n",
        "          ds[ds.columns[i]] = ds[ds.columns[i]].astype('float64')\n",
        "        except :\n",
        "          ds[ds.columns[i]] = ds[ds.columns[i]].astype('string')\n",
        "  return ds"
      ],
      "metadata": {
        "id": "zTD7xi_t2aAZ"
      },
      "execution_count": 79,
      "outputs": []
    },
    {
      "cell_type": "code",
      "source": [
        "def main() :\n",
        "    #columns_num = random.randint(1, 100)\n",
        "    #rows_num = random.randint(1, 100)\n",
        "    #dim = columns_num * rows_num\n",
        "\n",
        "    ds = pd.DataFrame()\n",
        "    columns_num = 256\n",
        "    rows_num = 256\n",
        "\n",
        "    for i in range(columns_num) :\n",
        "        type = random.randint(0, 3)\n",
        "        ds = pd.concat([ds, pd.DataFrame(column(type, rows_num), columns=['col' + str(i) + \"_\" + types[type]])], axis=1)\n",
        "        ds.iloc[:, -1] = ds.iloc[:, -1].astype(types[type])\n",
        "\n",
        "    start_csv = datetime.now()\n",
        "    ds.to_csv('results/dataset.csv', index=False)\n",
        "    start_feather = datetime.now()\n",
        "    ds.reset_index(drop=True).to_feather('results/dataset.feather')\n",
        "    start_hdf = datetime.now()\n",
        "    write_hdf('results/dataset.hdf5', ds)\n",
        "    start_msgpack = datetime.now()\n",
        "    write_msgpack('results/dataset.msg', ds)\n",
        "    start_parquet = datetime.now()\n",
        "    ds.to_parquet('results/dataset.gzip', compression='gzip')\n",
        "    start_pickle = datetime.now()\n",
        "    ds.to_pickle('results/dataset.pkl')\n",
        "    start_jay = datetime.now()\n",
        "    write_jay('results/dataset.jay', ds)\n",
        "    end_time = datetime.now()\n",
        "\n",
        "\n",
        "    result = pd.DataFrame()\n",
        "    result['file'] = ['csv', 'feather', 'hdf', 'msgpack', 'parquet', 'pickle', 'jay']\n",
        "    result['save_time'] = [(start_feather - start_csv).microseconds, (start_hdf - start_feather).microseconds,\n",
        "                           (start_msgpack - start_hdf).microseconds, (start_parquet - start_msgpack).microseconds,\n",
        "                           (start_pickle - start_parquet).microseconds, (start_jay - start_pickle).microseconds,\n",
        "                           (end_time - start_jay).microseconds]\n",
        "\n",
        "    start_csv = datetime.now()\n",
        "    ds = pd.read_csv('results/dataset.csv')\n",
        "    start_feather = datetime.now()\n",
        "    ds = pd.read_feather('results/dataset.feather')\n",
        "    start_hdf = datetime.now()\n",
        "    ds = read_hdf('results/dataset.hdf5')\n",
        "    start_msgpack = datetime.now()\n",
        "    ds = read_msgpack('results/dataset.msg')\n",
        "    start_parquet = datetime.now()\n",
        "    ds = pd.read_parquet('results/dataset.gzip')\n",
        "    start_pickle = datetime.now()\n",
        "    ds = pd.read_pickle('results/dataset.pkl')\n",
        "    start_jay = datetime.now()\n",
        "    ds = read_jay('results/dataset.jay')\n",
        "    end_time = datetime.now()\n",
        "\n",
        "    result['load_time'] = [(start_feather - start_csv).microseconds, (start_hdf - start_feather).microseconds,\n",
        "                           (start_msgpack - start_hdf).microseconds, (start_parquet - start_msgpack).microseconds,\n",
        "                           (start_pickle - start_parquet).microseconds, (start_jay - start_pickle).microseconds,\n",
        "                           (end_time - start_jay).microseconds]\n",
        "\n",
        "    result['size'] = [os.stat('results/dataset.csv').st_size, os.stat('results/dataset.feather').st_size,\n",
        "                      os.stat('results/dataset.hdf5').st_size, os.stat('results/dataset.msg').st_size,\n",
        "                      os.stat('results/dataset.gzip').st_size, os.stat('results/dataset.pkl').st_size, os.stat('results/dataset.jay').st_size]\n",
        "\n",
        "    return result"
      ],
      "metadata": {
        "id": "EMT0nvOt2a1k"
      },
      "execution_count": 80,
      "outputs": []
    },
    {
      "cell_type": "code",
      "source": [
        "result = pd.DataFrame(columns=['file', 'save_time', 'load_time', 'size'])\n",
        "for i in range(100) :\n",
        "        result = pd.concat([result, main()])\n",
        "\n",
        "res = result.groupby('file', as_index=False).mean()\n",
        "print(res)\n",
        "\n",
        "res['save_time'] = preprocessing.normalize(res['save_time'].values.reshape(1, -1))[0]\n",
        "res['load_time'] = preprocessing.normalize(res['load_time'].values.reshape(1, -1))[0]\n",
        "res['size'] = preprocessing.normalize(res['size'].values.reshape(1, -1))[0]\n",
        "\n",
        "res['sum'] = res['save_time'] + res['load_time'] + res['size']"
      ],
      "metadata": {
        "colab": {
          "base_uri": "https://localhost:8080/"
        },
        "id": "a5StXDDq2gQJ",
        "outputId": "960bce86-7efe-4e13-a299-d853331a6bfb"
      },
      "execution_count": 81,
      "outputs": [
        {
          "output_type": "stream",
          "name": "stdout",
          "text": [
            "      file  save_time  load_time        size\n",
            "0      csv   46470.04   31797.70   679569.25\n",
            "1  feather   26186.11   19224.04   498332.88\n",
            "2      hdf  150137.24  228911.90  3045908.48\n",
            "3      jay   40671.59  226168.65   893335.04\n",
            "4  msgpack   60212.65   26604.18   447600.51\n",
            "5  parquet   60865.48   34208.45   513153.59\n",
            "6   pickle    5949.38    6457.96   454545.06\n"
          ]
        }
      ]
    },
    {
      "cell_type": "code",
      "source": [
        "fig = plt.figure(figsize=(24,11))\n",
        "plt.subplot(1, 4, 1)\n",
        "plt.bar(res['file'].values, res['save_time'].values)\n",
        "plt.title('Saving')\n",
        "plt.xlabel(\"Files\")\n",
        "plt.ylabel(\"Scores\")\n",
        "plt.subplot(1, 4, 2)\n",
        "plt.bar(res['file'].values, res['load_time'].values)\n",
        "plt.title('Loading')\n",
        "plt.xlabel(\"Files\")\n",
        "plt.ylabel(\"Scores\")\n",
        "plt.subplot(1, 4, 3)\n",
        "plt.bar(res['file'].values, res['size'].values)\n",
        "plt.title('Size')\n",
        "plt.xlabel(\"Files\")\n",
        "plt.ylabel(\"Scores\")\n",
        "plt.subplot(1, 4, 4)\n",
        "plt.bar(res.sort_values('sum')['file'].values, res.sort_values('sum')['sum'].values)\n",
        "plt.title('final rank')\n",
        "plt.xlabel(\"Files\")\n",
        "plt.ylabel(\"Scores\")\n",
        "plt.savefig('results/res1.png')"
      ],
      "metadata": {
        "colab": {
          "base_uri": "https://localhost:8080/",
          "height": 545
        },
        "id": "H-Sf5eC9qIBZ",
        "outputId": "1c170d23-338a-4527-e0c3-c784977a7c0b"
      },
      "execution_count": 102,
      "outputs": [
        {
          "output_type": "display_data",
          "data": {
            "text/plain": [
              "<Figure size 1728x792 with 4 Axes>"
            ],
            "image/png": "[encoded data removed]"
          },
          "metadata": {
            "needs_background": "light"
          }
        }
      ]
    },
    {
      "cell_type": "code",
      "source": [
        "res = res.sort_values(by='sum')\n",
        "fig = plt.figure(figsize=(10,7))\n",
        "x = np.arange(7)\n",
        "width = 0.2\n",
        "plt.bar(x-0.2, res['save_time'].values, width, color='cyan')\n",
        "plt.bar(x, res['load_time'].values, width, color='orange')\n",
        "plt.bar(x+0.2, res['size'].values, width, color='green')\n",
        "plt.xticks(x, res['file'].values)\n",
        "plt.xlabel(\"Files\")\n",
        "plt.ylabel(\"Scores\")\n",
        "plt.title('Results sorted by final rank')\n",
        "plt.legend([\"Saving\", \"Loading\", \"Size\"])\n",
        "plt.savefig('results/res2.png')"
      ],
      "metadata": {
        "colab": {
          "base_uri": "https://localhost:8080/",
          "height": 458
        },
        "id": "_xvIDKpZoqSy",
        "outputId": "6abc8ab4-1059-4ac1-d9cc-1b27f259f9b7"
      },
      "execution_count": 104,
      "outputs": [
        {
          "output_type": "display_data",
          "data": {
            "text/plain": [
              "<Figure size 720x504 with 1 Axes>"
            ],
            "image/png": "[encoded data removed]"
          },
          "metadata": {
            "needs_background": "light"
          }
        }
      ]
    }
  ]
}