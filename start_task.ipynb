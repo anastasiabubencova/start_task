{
  "nbformat": 4,
  "nbformat_minor": 0,
  "metadata": {
    "colab": {
      "provenance": []
    },
    "kernelspec": {
      "name": "python3",
      "display_name": "Python 3"
    },
    "language_info": {
      "name": "python"
    }
  },
  "cells": [
    {
      "cell_type": "code",
      "source": [
        "pip install datatable"
      ],
      "metadata": {
        "colab": {
          "base_uri": "https://localhost:8080/"
        },
        "id": "1Se4X21X2JeV",
        "outputId": "6d6323f2-c7d3-4191-af1a-83c55a089de6"
      },
      "execution_count": 2,
      "outputs": [
        {
          "output_type": "stream",
          "name": "stdout",
          "text": [
            "Looking in indexes: https://pypi.org/simple, https://us-python.pkg.dev/colab-wheels/public/simple/\n",
            "Requirement already satisfied: datatable in /usr/local/lib/python3.7/dist-packages (1.0.0)\n"
          ]
        }
      ]
    },
    {
      "cell_type": "code",
      "source": [
        "import pandas as pd\n",
        "import random\n",
        "import string\n",
        "from datetime import datetime\n",
        "import os\n",
        "from matplotlib import pyplot as plt\n",
        "import h5py\n",
        "import warnings\n",
        "import datatable as dt\n",
        "import msgpack\n",
        "warnings.simplefilter(action='ignore', category=FutureWarning)"
      ],
      "metadata": {
        "id": "HA9nkY5a2EEU"
      },
      "execution_count": 7,
      "outputs": []
    },
    {
      "cell_type": "code",
      "source": [
        "types = ['int', 'float', 'string', 'boolean']\n",
        "\n",
        "def int_column(length) :\n",
        "\n",
        "    column = []\n",
        "    for i in range(length) :\n",
        "        column.append(random.randint(-2147483648, 2147483647))\n",
        "    return column\n",
        "\n",
        "def float_column(length) :\n",
        "    column = []\n",
        "    for i in range(length) :\n",
        "        column.append(random.uniform(-100, 100))\n",
        "    return column\n",
        "\n",
        "def boolean_column(length) :\n",
        "    column = []\n",
        "    for i in range(length) :\n",
        "        column.append(bool(random.randint(0,1)))\n",
        "    return column\n",
        "\n",
        "def string_column(length) :\n",
        "    column = []\n",
        "    letters = string.ascii_lowercase\n",
        "    for i in range(length) :\n",
        "        column.append(''.join([random.choice(letters) for j in range(random.randint(0,10))]))\n",
        "    return column\n",
        "\n",
        "def column(column_type, length) :\n",
        "    if types[column_type] == 'int' :\n",
        "        return int_column(length)\n",
        "    elif types[column_type] == 'float':\n",
        "        return float_column(length)\n",
        "    elif types[column_type] == 'boolean' :\n",
        "        return boolean_column(length)\n",
        "    elif types[column_type] == 'string' :\n",
        "        return string_column(length)\n",
        "\n",
        "def write_hdf(filename, ds) :\n",
        "    ds = pd.concat([pd.DataFrame(ds.columns), ds], axis=1)\n",
        "    new_ds = pd.DataFrame([ds[i].astype('string') for i in ds.columns]).T.T\n",
        "    with h5py.File(filename, 'w') as f:\n",
        "        f.create_dataset('dataset', data=new_ds.values)\n",
        "\n",
        "def read_hdf(filename) :\n",
        "    with h5py.File(filename, \"r\") as f:\n",
        "        a_group_key = list(f.keys())[0]\n",
        "        readed_ds = h5py.Dataset.asstr(f[a_group_key])\n",
        "        ds = pd.DataFrame(list(readed_ds[1:]))\n",
        "        ds.columns = list(readed_ds[0])\n",
        "        return ds\n",
        "\n",
        "def write_jay(filename, ds) :\n",
        "  ddt = dt.Frame([i.astype(str) for i in ds.values])\n",
        "  ddt.names = list(ds.columns)\n",
        "  ddt.to_jay('results/dataset.jay', method='auto')\n",
        "\n",
        "def write_msgpack(filename, ds) :\n",
        "  with open(filename, \"wb\") as outfile:\n",
        "    packed = msgpack.packb(ds.to_dict())\n",
        "    outfile.write(packed)\n",
        "\n",
        "def read_msgpack(filename) :\n",
        "  with open('results/dataset.msg', \"rb\") as data_file:\n",
        "    byte_data = data_file.read()\n",
        "    data_loaded = msgpack.unpackb(byte_data, strict_map_key=False)\n",
        "    return pd.DataFrame(data_loaded)"
      ],
      "metadata": {
        "id": "zTD7xi_t2aAZ"
      },
      "execution_count": 28,
      "outputs": []
    },
    {
      "cell_type": "code",
      "source": [
        "def main() :\n",
        "    #columns_num = random.randint(1, 100)\n",
        "    #rows_num = random.randint(1, 100)\n",
        "    #dim = columns_num * rows_num\n",
        "\n",
        "    ds = pd.DataFrame()\n",
        "    columns_num = 256\n",
        "    rows_num = 256\n",
        "\n",
        "    for i in range(columns_num) :\n",
        "        type = random.randint(0, 2)\n",
        "        ds = pd.concat([ds, pd.DataFrame(column(type, rows_num), columns=['col' + str(i) + \"_\" + types[type]])], axis=1)\n",
        "        ds.iloc[:, -1] = ds.iloc[:, -1].astype(types[type])\n",
        "\n",
        "    start_csv = datetime.now()\n",
        "    ds.to_csv('results/dataset.csv', index=False)\n",
        "    start_feather = datetime.now()\n",
        "    ds.reset_index(drop=True).to_feather('results/dataset.feather')\n",
        "    start_hdf = datetime.now()\n",
        "    write_hdf('results/dataset.hdf5', ds)\n",
        "    start_msgpack = datetime.now()\n",
        "    write_msgpack('results/dataset.msg', ds)\n",
        "    start_parquet = datetime.now()\n",
        "    ds.to_parquet('results/dataset.gzip', compression='gzip')\n",
        "    start_pickle = datetime.now()\n",
        "    ds.to_pickle('results/dataset.pkl')\n",
        "    start_jay = datetime.now()\n",
        "    write_jay('results/dataset.jay', ds)\n",
        "    end_time = datetime.now()\n",
        "\n",
        "\n",
        "    result = pd.DataFrame()\n",
        "    result['file'] = ['csv', 'feather', 'hdf', 'msgpack', 'parquet', 'pickle', 'jay']\n",
        "    result['save_time'] = [(start_feather - start_csv).microseconds, (start_hdf - start_feather).microseconds,\n",
        "                           (start_msgpack - start_hdf).microseconds, (start_parquet - start_msgpack).microseconds,\n",
        "                           (start_pickle - start_parquet).microseconds, (start_jay - start_pickle).microseconds,\n",
        "                           (end_time - start_jay).microseconds]\n",
        "\n",
        "    start_csv = datetime.now()\n",
        "    ds = pd.read_csv('results/dataset.csv')\n",
        "    start_feather = datetime.now()\n",
        "    ds = pd.read_feather('results/dataset.feather')\n",
        "    start_hdf = datetime.now()\n",
        "    ds = read_hdf('results/dataset.hdf5')\n",
        "    start_msgpack = datetime.now()\n",
        "    ds = read_msgpack('results/dataset.msg')\n",
        "    start_parquet = datetime.now()\n",
        "    ds = pd.read_parquet('results/dataset.gzip')\n",
        "    start_pickle = datetime.now()\n",
        "    ds = pd.read_pickle('results/dataset.pkl')\n",
        "    start_jay = datetime.now()\n",
        "    ds = dt.fread('results/dataset.jay')\n",
        "    end_time = datetime.now()\n",
        "\n",
        "    result['load_time'] = [(start_feather - start_csv).microseconds, (start_hdf - start_feather).microseconds,\n",
        "                           (start_msgpack - start_hdf).microseconds, (start_parquet - start_msgpack).microseconds,\n",
        "                           (start_pickle - start_parquet).microseconds, (start_jay - start_pickle).microseconds,\n",
        "                           (end_time - start_jay).microseconds]\n",
        "\n",
        "    result['size'] = [os.stat('results/dataset.csv').st_size, os.stat('results/dataset.feather').st_size,\n",
        "                      os.stat('results/dataset.hdf5').st_size, os.stat('results/dataset.msg').st_size,\n",
        "                      os.stat('results/dataset.gzip').st_size, os.stat('results/dataset.pkl').st_size, os.stat('results/dataset.jay').st_size]\n",
        "\n",
        "    return result"
      ],
      "metadata": {
        "id": "EMT0nvOt2a1k"
      },
      "execution_count": 29,
      "outputs": []
    },
    {
      "cell_type": "code",
      "source": [
        "result = pd.DataFrame(columns=['file', 'save_time', 'load_time', 'size'])\n",
        "for i in range(100) :\n",
        "        result = pd.concat([result, main()])\n",
        "\n",
        "print(result.groupby('file', as_index=False).mean())\n",
        "\n",
        "fig = plt.figure(figsize=(20,10))\n",
        "plt.subplot(1, 3, 1)\n",
        "plt.bar(result['file'].values, result['save_time'].values)\n",
        "plt.title('saving')\n",
        "plt.subplot(1, 3, 2)\n",
        "plt.bar(result['file'].values, result['load_time'].values)\n",
        "plt.title('loading')\n",
        "plt.subplot(1, 3, 3)\n",
        "plt.bar(result['file'].values, result['size'].values)\n",
        "plt.title('size')\n",
        "plt.savefig('results/res1.png')\n"
      ],
      "metadata": {
        "colab": {
          "base_uri": "https://localhost:8080/",
          "height": 715
        },
        "id": "a5StXDDq2gQJ",
        "outputId": "2d164703-9ab9-4a4c-b280-b54d8a53c6fe"
      },
      "execution_count": 31,
      "outputs": [
        {
          "output_type": "stream",
          "name": "stdout",
          "text": [
            "      file  save_time  load_time       size\n",
            "0      csv    65941.0    43539.0   778349.0\n",
            "1  feather    33572.0    21698.0   623466.0\n",
            "2      hdf   192668.0    63007.0  3160064.0\n",
            "3      jay    58844.0     1167.0   992240.0\n",
            "4  msgpack    77113.0    35946.0   536869.0\n",
            "5  parquet    74430.0    36816.0   628710.0\n",
            "6   pickle     9209.0     7853.0   549185.0\n"
          ]
        },
        {
          "output_type": "display_data",
          "data": {
            "text/plain": [
              "<Figure size 1440x720 with 3 Axes>"
            ],
            "image/png": "[encoded data removed]"
          },
          "metadata": {
            "needs_background": "light"
          }
        }
      ]
    }
  ]
}