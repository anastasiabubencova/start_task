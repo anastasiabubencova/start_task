{
  "nbformat": 4,
  "nbformat_minor": 0,
  "metadata": {
    "colab": {
      "provenance": []
    },
    "kernelspec": {
      "name": "python3",
      "display_name": "Python 3"
    },
    "language_info": {
      "name": "python"
    }
  },
  "cells": [
    {
      "cell_type": "code",
      "source": [
        "pip install datatable"
      ],
      "metadata": {
        "colab": {
          "base_uri": "https://localhost:8080/"
        },
        "id": "1Se4X21X2JeV",
        "outputId": "e829e687-c7b3-42a8-8268-a89a39bf8da2"
      },
      "execution_count": null,
      "outputs": [
        {
          "output_type": "stream",
          "name": "stdout",
          "text": [
            "Looking in indexes: https://pypi.org/simple, https://us-python.pkg.dev/colab-wheels/public/simple/\n",
            "Requirement already satisfied: datatable in /usr/local/lib/python3.7/dist-packages (1.0.0)\n"
          ]
        }
      ]
    },
    {
      "cell_type": "code",
      "source": [
        "pip install memory_profiler"
      ],
      "metadata": {
        "colab": {
          "base_uri": "https://localhost:8080/"
        },
        "id": "nMaZ4wr7xYbf",
        "outputId": "cb7bbb35-ca64-49cf-ffd8-629869fd7f72"
      },
      "execution_count": null,
      "outputs": [
        {
          "output_type": "stream",
          "name": "stdout",
          "text": [
            "Looking in indexes: https://pypi.org/simple, https://us-python.pkg.dev/colab-wheels/public/simple/\n",
            "Requirement already satisfied: memory_profiler in /usr/local/lib/python3.7/dist-packages (0.60.0)\n",
            "Requirement already satisfied: psutil in /usr/local/lib/python3.7/dist-packages (from memory_profiler) (5.4.8)\n"
          ]
        }
      ]
    },
    {
      "cell_type": "code",
      "source": [
        "import pandas as pd\n",
        "import numpy as np\n",
        "import random\n",
        "import string\n",
        "from datetime import datetime\n",
        "import time\n",
        "import os\n",
        "from matplotlib import pyplot as plt\n",
        "import h5py\n",
        "import warnings\n",
        "import datatable as dt\n",
        "import msgpack\n",
        "import memory_profiler\n",
        "from sklearn import preprocessing\n",
        "import distutils\n",
        "warnings.simplefilter(action='ignore', category=FutureWarning)\n",
        "from tables import NaturalNameWarning\n",
        "warnings.filterwarnings('ignore', category=NaturalNameWarning)"
      ],
      "metadata": {
        "id": "HA9nkY5a2EEU",
        "colab": {
          "base_uri": "https://localhost:8080/",
          "height": 17
        },
        "outputId": "5b8074a8-18c0-4acc-9910-da52bb9ad9e1"
      },
      "execution_count": null,
      "outputs": [
        {
          "output_type": "display_data",
          "data": {
            "text/plain": [
              "<IPython.core.display.HTML object>"
            ],
            "text/html": [
              "<style type='text/css'>\n",
              ".datatable table.frame { margin-bottom: 0; }\n",
              ".datatable table.frame thead { border-bottom: none; }\n",
              ".datatable table.frame tr.coltypes td {  color: #FFFFFF;  line-height: 6px;  padding: 0 0.5em;}\n",
              ".datatable .bool    { background: #DDDD99; }\n",
              ".datatable .object  { background: #565656; }\n",
              ".datatable .int     { background: #5D9E5D; }\n",
              ".datatable .float   { background: #4040CC; }\n",
              ".datatable .str     { background: #CC4040; }\n",
              ".datatable .time    { background: #40CC40; }\n",
              ".datatable .row_index {  background: var(--jp-border-color3);  border-right: 1px solid var(--jp-border-color0);  color: var(--jp-ui-font-color3);  font-size: 9px;}\n",
              ".datatable .frame tbody td { text-align: left; }\n",
              ".datatable .frame tr.coltypes .row_index {  background: var(--jp-border-color0);}\n",
              ".datatable th:nth-child(2) { padding-left: 12px; }\n",
              ".datatable .hellipsis {  color: var(--jp-cell-editor-border-color);}\n",
              ".datatable .vellipsis {  background: var(--jp-layout-color0);  color: var(--jp-cell-editor-border-color);}\n",
              ".datatable .na {  color: var(--jp-cell-editor-border-color);  font-size: 80%;}\n",
              ".datatable .sp {  opacity: 0.25;}\n",
              ".datatable .footer { font-size: 9px; }\n",
              ".datatable .frame_dimensions {  background: var(--jp-border-color3);  border-top: 1px solid var(--jp-border-color0);  color: var(--jp-ui-font-color3);  display: inline-block;  opacity: 0.6;  padding: 1px 10px 1px 5px;}\n",
              "</style>\n"
            ]
          },
          "metadata": {}
        }
      ]
    },
    {
      "cell_type": "code",
      "source": [
        "os.mkdir(\"results\")"
      ],
      "metadata": {
        "id": "SWA-y4l5JCSH"
      },
      "execution_count": null,
      "outputs": []
    },
    {
      "cell_type": "code",
      "source": [
        "types = ['int', 'float', 'string', 'boolean', 'datetime64[ns]']\n",
        "num_iterations = 10"
      ],
      "metadata": {
        "id": "30UXtnb-uwnu"
      },
      "execution_count": null,
      "outputs": []
    },
    {
      "cell_type": "markdown",
      "source": [
        "Генерация колонок"
      ],
      "metadata": {
        "id": "XKiuX_f2g2VW"
      }
    },
    {
      "cell_type": "code",
      "source": [
        "def column(column_type, length) :\n",
        "  if types[column_type] == 'int' :\n",
        "    return int_column(length)\n",
        "  elif types[column_type] == 'float':\n",
        "    return float_column(length)\n",
        "  elif types[column_type] == 'boolean' :\n",
        "    return boolean_column(length)\n",
        "  elif types[column_type] == 'string' :\n",
        "    return string_column(length)\n",
        "  elif types[column_type] == 'datetime64[ns]' :\n",
        "    return date_column(length)\n",
        "\n",
        "def int_column(length) :\n",
        "  column = []\n",
        "  for i in range(length) :\n",
        "    column.append(random.randint(-2147483648, 2147483647))\n",
        "  return column\n",
        "\n",
        "def float_column(length) :\n",
        "  column = []\n",
        "  for i in range(length) :\n",
        "    column.append(random.uniform(-100, 100))\n",
        "  return column\n",
        "\n",
        "def boolean_column(length) :\n",
        "  column = []\n",
        "  for i in range(length) :\n",
        "    column.append(bool(random.randint(0,1)))\n",
        "  return column\n",
        "\n",
        "def string_column(length) :\n",
        "  column = []\n",
        "  letters = string.ascii_lowercase\n",
        "  for i in range(length) :\n",
        "    column.append(''.join([random.choice(letters) for j in range(random.randint(0,10))]))\n",
        "  return column\n",
        "\n",
        "def date_column(length) :\n",
        "  column = []\n",
        "  for i in range(length) :\n",
        "    column.append(datetime.fromtimestamp(random.randint(0, round(time.time()))).strftime(\"%Y-%m-%d\"))\n",
        "  return column"
      ],
      "metadata": {
        "id": "K-DbUz5Yg1oN"
      },
      "execution_count": null,
      "outputs": []
    },
    {
      "cell_type": "markdown",
      "source": [
        "Функции записи и чтения файлов"
      ],
      "metadata": {
        "id": "j36cumTniRsQ"
      }
    },
    {
      "cell_type": "code",
      "source": [
        "def read_csv(filename):\n",
        "  ds = pd.read_csv(filename)\n",
        "  return(to_correct_date(ds))\n",
        "  \n",
        "def write_hdf(filename, ds) :\n",
        "  for i in range(len(ds.columns)) :\n",
        "    if (ds.dtypes[i] == 'boolean') | ((ds.dtypes[i] == 'string')  | (ds.dtypes[i] == 'datetime64[ns]')) :\n",
        "      ds[ds.columns[i]] = ds[ds.columns[i]].astype(str)#.convert_objects()#.astype(object)\n",
        "      h = 0\n",
        "  ds.to_hdf(filename, key='ds', format='table', data_columns=True)\n",
        "\n",
        "def read_hdf(filename) :\n",
        "  ds = pd.read_hdf(filename)\n",
        "  return to_correct_types(ds)\n",
        "\n",
        "def write_jay(filename, ds) :\n",
        "  ddt = dt.Frame([i.astype(str) for i in ds.values])\n",
        "  ddt.names = list(ds.columns)\n",
        "  ddt.to_jay(filename, method='auto')\n",
        "\n",
        "def read_jay(filename) :\n",
        "  ddt = dt.fread(filename)\n",
        "  ds = ddt.to_pandas()\n",
        "  col = ds.columns\n",
        "  ind = ds.index\n",
        "  ds = ds.T\n",
        "  ds.columns = col\n",
        "  ds.index = ind\n",
        "  return to_correct_types(ds)\n",
        "\n",
        "def write_msgpack(filename, ds) :\n",
        "\n",
        "  for i in range(len(ds.columns)) :\n",
        "    if ds.dtypes[i] == 'datetime64[ns]' :\n",
        "      ds[ds.columns[i]] = ds[ds.columns[i]].astype('string')\n",
        "\n",
        "  with open(filename, \"wb\") as outfile:\n",
        "    packed = msgpack.packb(ds.to_dict())\n",
        "    outfile.write(packed)\n",
        "\n",
        "def read_msgpack(filename) :\n",
        "  with open(filename, \"rb\") as data_file:\n",
        "    byte_data = data_file.read()\n",
        "    data_loaded = msgpack.unpackb(byte_data, strict_map_key=False)\n",
        "    return to_correct_date(pd.DataFrame(data_loaded))"
      ],
      "metadata": {
        "id": "zTD7xi_t2aAZ"
      },
      "execution_count": null,
      "outputs": []
    },
    {
      "cell_type": "markdown",
      "source": [
        "Приведение данных к корректным типам после чтения"
      ],
      "metadata": {
        "id": "VhGCKxDRiQz7"
      }
    },
    {
      "cell_type": "code",
      "source": [
        "def to_correct_types(ds) :\n",
        "  for i in range(len(ds.columns)) :\n",
        "    try :\n",
        "      ds[ds.columns[i]] = [eval(i) for i in ds[ds.columns[i]]]\n",
        "    except :\n",
        "      try :\n",
        "        ds[ds.columns[i]] = ds[ds.columns[i]].astype('int')\n",
        "      except :\n",
        "        try :\n",
        "          ds[ds.columns[i]] = ds[ds.columns[i]].astype('float64')\n",
        "        except :\n",
        "          try:\n",
        "            ds[ds.columns[i]] = ds[ds.columns[i]].astype('datetime64[ns]')\n",
        "          except:\n",
        "            ds[ds.columns[i]] = ds[ds.columns[i]].astype('string')\n",
        "  return ds\n",
        "\n",
        "def to_correct_date(ds) :\n",
        "  for i in range(len(ds.columns)) :\n",
        "    if ds.dtypes[i] == 'object' :\n",
        "      try:\n",
        "        ds[ds.columns[i]] = ds[ds.columns[i]].astype('datetime64[ns]')\n",
        "      except:\n",
        "        ds[ds.columns[i]] = ds[ds.columns[i]].astype('string')\n",
        "  return ds"
      ],
      "metadata": {
        "id": "7JDdtoJWiQXo"
      },
      "execution_count": null,
      "outputs": []
    },
    {
      "cell_type": "markdown",
      "source": [
        "Запись файлов"
      ],
      "metadata": {
        "id": "vrBPISwUj3dR"
      }
    },
    {
      "cell_type": "code",
      "source": [
        "def saving(ds, name) :\n",
        "  before_csv = memory_profiler.memory_usage()[0]\n",
        "  start_csv = datetime.now()\n",
        "  ds.to_csv('results/' + name + '.csv', index=False)\n",
        "\n",
        "  before_feather = memory_profiler.memory_usage()[0]\n",
        "  start_feather = datetime.now()\n",
        "  ds.reset_index(drop=True).to_feather('results/' + name + '.feather')\n",
        "\n",
        "  dss = ds.copy()\n",
        "  before_hdf = memory_profiler.memory_usage()[0]\n",
        "  start_hdf = datetime.now()\n",
        "  write_hdf('results/' + name + '.hdf5', dss)\n",
        "\n",
        "  dss = ds.copy()\n",
        "  before_msgpack = memory_profiler.memory_usage()[0]\n",
        "  start_msgpack = datetime.now()\n",
        "  write_msgpack('results/' + name + '.msg', dss)\n",
        "\n",
        "  before_parquet = memory_profiler.memory_usage()[0]\n",
        "  start_parquet = datetime.now()\n",
        "  ds.to_parquet('results/' + name + '.gzip', compression='gzip')\n",
        "\n",
        "  before_pickle = memory_profiler.memory_usage()[0]\n",
        "  start_pickle = datetime.now()\n",
        "  ds.to_pickle('results/' + name + '.pkl')\n",
        "\n",
        "  dss = ds.copy()\n",
        "  before_jay = memory_profiler.memory_usage()[0]\n",
        "  start_jay = datetime.now()\n",
        "  write_jay('results/' + name + '.jay', dss)\n",
        "\n",
        "  after = memory_profiler.memory_usage()[0]\n",
        "  end_time = datetime.now()\n",
        "\n",
        "\n",
        "  result = pd.DataFrame()\n",
        "  result['file'] = ['csv', 'feather', 'hdf', 'msgpack', 'parquet', 'pickle', 'jay']\n",
        "  result['save_time'] = [(start_feather - start_csv).microseconds, (start_hdf - start_feather).microseconds,\n",
        "                        (start_msgpack - start_hdf).microseconds, (start_parquet - start_msgpack).microseconds,\n",
        "                        (start_pickle - start_parquet).microseconds, (start_jay - start_pickle).microseconds,\n",
        "                        (end_time - start_jay).microseconds]\n",
        "  result['save_memory'] = [abs(before_feather - before_csv), abs(before_hdf - before_feather),\n",
        "                          abs(before_msgpack - before_hdf), abs(before_parquet - before_msgpack),\n",
        "                          abs(before_pickle - before_parquet), abs(before_jay - before_pickle),\n",
        "                          abs(after - before_jay)]\n",
        "  return result"
      ],
      "metadata": {
        "id": "gcJ_Tf28y7X0"
      },
      "execution_count": null,
      "outputs": []
    },
    {
      "cell_type": "markdown",
      "source": [
        "Чтение файлов"
      ],
      "metadata": {
        "id": "CPof9Gfdj5ck"
      }
    },
    {
      "cell_type": "code",
      "source": [
        "def loading(ds, result, name) :\n",
        "  before_csv = memory_profiler.memory_usage()[0]\n",
        "  start_csv = datetime.now()\n",
        "  ds = pd.read_csv('results/' + name + '.csv')\n",
        "\n",
        "  before_feather = memory_profiler.memory_usage()[0]\n",
        "  start_feather = datetime.now()\n",
        "  ds = pd.read_feather('results/' + name + '.feather')\n",
        "\n",
        "  before_hdf = memory_profiler.memory_usage()[0]\n",
        "  start_hdf = datetime.now()\n",
        "  ds = read_hdf('results/' + name + '.hdf5')\n",
        "\n",
        "  before_msgpack = memory_profiler.memory_usage()[0]\n",
        "  start_msgpack = datetime.now()\n",
        "  ds = read_msgpack('results/' + name + '.msg')\n",
        "\n",
        "  before_parquet = memory_profiler.memory_usage()[0]\n",
        "  start_parquet = datetime.now()\n",
        "  ds = pd.read_parquet('results/' + name + '.gzip')\n",
        "\n",
        "  before_pickle = memory_profiler.memory_usage()[0]\n",
        "  start_pickle = datetime.now()\n",
        "  ds = pd.read_pickle('results/' + name + '.pkl')\n",
        "\n",
        "  before_jay = memory_profiler.memory_usage()[0]\n",
        "  start_jay = datetime.now()\n",
        "  ds = read_jay('results/' + name + '.jay')\n",
        "\n",
        "  after = memory_profiler.memory_usage()[0]\n",
        "  end_time = datetime.now()\n",
        "\n",
        "  result['load_time'] = [(start_feather - start_csv).microseconds, (start_hdf - start_feather).microseconds,\n",
        "                        (start_msgpack - start_hdf).microseconds, (start_parquet - start_msgpack).microseconds,\n",
        "                        (start_pickle - start_parquet).microseconds, (start_jay - start_pickle).microseconds,\n",
        "                        (end_time - start_jay).microseconds]\n",
        "\n",
        "  result['load_memory'] = [abs(before_feather - before_csv), abs(before_hdf - before_feather),\n",
        "                          abs(before_msgpack - before_hdf), abs(before_parquet - before_msgpack),\n",
        "                          abs(before_pickle - before_parquet), abs(before_jay - before_pickle),\n",
        "                          abs(after - before_jay)]\n",
        "  return result"
      ],
      "metadata": {
        "id": "A7gkCnNAzZ0q"
      },
      "execution_count": null,
      "outputs": []
    },
    {
      "cell_type": "markdown",
      "source": [
        "Генерация датасета"
      ],
      "metadata": {
        "id": "PhKnZQ8Kkwtt"
      }
    },
    {
      "cell_type": "code",
      "source": [
        "def generate_dataset(types) :\n",
        "  ds = pd.DataFrame()\n",
        "  columns_num = 256\n",
        "  rows_num = 256\n",
        "\n",
        "  for i in range(columns_num) :\n",
        "    type_ = random.randint(0, len(types)-1)\n",
        "    ds = pd.concat([ds, pd.DataFrame(column(type_, rows_num), columns=['col' + str(i) + \"_\" + types[type_]])], axis=1)\n",
        "    ds.iloc[:, -1] = ds.iloc[:, -1].astype(types[type_])\n",
        "    if types[type_] == 'datetime64[ns]' :\n",
        "      ds[ds.columns[i]] = ds[ds.columns[i]].dt.tz_localize(None)\n",
        "  return ds"
      ],
      "metadata": {
        "id": "jlzdqYFMkykD"
      },
      "execution_count": null,
      "outputs": []
    },
    {
      "cell_type": "markdown",
      "source": [
        "Результаты по одной итерации"
      ],
      "metadata": {
        "id": "EMSlWM5okwn5"
      }
    },
    {
      "cell_type": "code",
      "source": [
        "def iteration_result(name, types) :\n",
        "  ds = generate_dataset(types)\n",
        "  result = saving(ds, name)\n",
        "  result['size'] = [os.stat('results/' + name + '.csv').st_size, os.stat('results/' + name + '.feather').st_size,\n",
        "                   os.stat('results/' + name + '.hdf5').st_size, os.stat('results/' + name + '.msg').st_size,\n",
        "                   os.stat('results/' + name + '.gzip').st_size, os.stat('results/' + name + '.pkl').st_size, os.stat('results/' + name + '.jay').st_size]   \n",
        "  result = loading(ds, result, name)\n",
        "  return result"
      ],
      "metadata": {
        "id": "EMT0nvOt2a1k"
      },
      "execution_count": null,
      "outputs": []
    },
    {
      "cell_type": "markdown",
      "source": [
        "Средние результаты по всем итерациям"
      ],
      "metadata": {
        "id": "0mHy1Cyfnh6D"
      }
    },
    {
      "cell_type": "code",
      "source": [
        "def final_result(name, types) :\n",
        "  result = pd.DataFrame(columns=['file', 'save_time', 'save_memory', 'load_time', 'load_memory', 'size'])\n",
        "  for i in range(num_iterations) :\n",
        "     result = pd.concat([result, iteration_result(name, types)])\n",
        "     print(str(i) + ' iteration finished')\n",
        "\n",
        "  res = pd.concat([result[['file', 'save_time', 'load_time', 'size']].groupby('file', as_index=False).mean(), result[['file', 'save_memory', 'load_memory']].groupby('file', as_index=False).mean()], axis=1)\n",
        "  files = res['file']\n",
        "  res = res.drop(res.columns[0], axis=1)\n",
        "\n",
        "  for i in range(len(res.columns)) :\n",
        "    try:\n",
        "      res[res.columns[i]] = preprocessing.normalize(res[res.columns[i]].values.reshape(1, -1))[0]\n",
        "    except :\n",
        "      's' \n",
        "\n",
        "  res['sum'] = res['save_time'] + res['load_time'] + res['size'] + res['save_memory'] + res['load_memory']\n",
        "  res['file'] = files.iloc[:,0]\n",
        "  res = res.sort_values(by='sum')\n",
        "  #print(res)\n",
        "  return res"
      ],
      "metadata": {
        "id": "a5StXDDq2gQJ"
      },
      "execution_count": null,
      "outputs": []
    },
    {
      "cell_type": "markdown",
      "source": [
        "Визуализация"
      ],
      "metadata": {
        "id": "ew1Jmgnc5zb1"
      }
    },
    {
      "cell_type": "code",
      "source": [
        "def features(res, name) :\n",
        "  fig = plt.figure(figsize=(24,11))\n",
        "  for i in range(1, 6) :\n",
        "    plt.subplot(2, 3, i)\n",
        "    res = res.sort_values(by=res.columns[i-1])\n",
        "    plt.bar(res['file'].values, res[res.columns[i-1]].values)\n",
        "    plt.title(res.columns[i-1])\n",
        "    plt.xlabel(\"Files\")\n",
        "    plt.ylabel(\"Scores\")\n",
        "\n",
        "  plt.savefig('results/features_' + name + '.png')"
      ],
      "metadata": {
        "id": "D1-vwu14p6f7"
      },
      "execution_count": null,
      "outputs": []
    },
    {
      "cell_type": "code",
      "source": [
        "def all_features(res, name) :\n",
        "  fig = plt.figure(figsize=(15,7))\n",
        "  x = np.arange(7)\n",
        "  width = 0.1\n",
        "  plt.bar(x-0.2, res['save_time'].values, width, color='cyan')\n",
        "  plt.bar(x-0.1, res['load_time'].values, width, color='orange')\n",
        "  plt.bar(x, res['save_memory'].values, width, color='green')\n",
        "  plt.bar(x+0.1, res['load_memory'].values, width, color='brown')\n",
        "  plt.bar(x+0.2, res['size'].values, width, color='slateblue')\n",
        "  plt.xticks(x, res['file'].values)\n",
        "  plt.xlabel(\"Files\")\n",
        "  plt.ylabel(\"Scores\")\n",
        "  plt.title('Results sorted by final rank')\n",
        "  plt.legend([\"Saving time\", \"Loading time\", \"Saving memory\", \"Loading memory\", \"Size\"])\n",
        "  plt.savefig('results/all features_' + name + '.png')"
      ],
      "metadata": {
        "id": "9lqXFE3RqI3U"
      },
      "execution_count": null,
      "outputs": []
    },
    {
      "cell_type": "code",
      "source": [
        "def result_graph(res, name) :\n",
        "  fig = plt.figure(figsize=(10,7))\n",
        "  plt.bar(res['file'].values, res['sum'].values)\n",
        "  plt.title(\"Result\")\n",
        "  plt.xlabel(\"Files\")\n",
        "  plt.ylabel(\"Scores\")\n",
        "\n",
        "  plt.savefig('results/result_' + name + '.png')"
      ],
      "metadata": {
        "id": "0EXr2qyCqlEq"
      },
      "execution_count": null,
      "outputs": []
    },
    {
      "cell_type": "markdown",
      "source": [
        "<h1>Данные разных типов</h1>"
      ],
      "metadata": {
        "id": "pIEA7gl4huL5"
      }
    },
    {
      "cell_type": "code",
      "source": [
        "res = final_result('dataset', types)\n",
        "res"
      ],
      "metadata": {
        "colab": {
          "base_uri": "https://localhost:8080/",
          "height": 442
        },
        "id": "rk8Jr1eFpWFR",
        "outputId": "a39723c5-a8cd-4bf7-f0be-de28ee856e66"
      },
      "execution_count": null,
      "outputs": [
        {
          "output_type": "stream",
          "name": "stdout",
          "text": [
            "0 iteration finished\n",
            "1 iteration finished\n",
            "2 iteration finished\n",
            "3 iteration finished\n",
            "4 iteration finished\n",
            "5 iteration finished\n",
            "6 iteration finished\n",
            "7 iteration finished\n",
            "8 iteration finished\n",
            "9 iteration finished\n"
          ]
        },
        {
          "output_type": "execute_result",
          "data": {
            "text/plain": [
              "   save_time  load_time      size  save_memory  load_memory       sum     file\n",
              "6   0.166252   0.102456  0.105827     0.005573     0.060875  0.440982   pickle\n",
              "1   0.199895   0.121194  0.116712     0.157058     0.253401  0.848261  feather\n",
              "4   0.635332   0.326740  0.115533     0.037152     0.084737  1.199494  msgpack\n",
              "0   0.322266   0.130627  0.152168     0.023034     0.657121  1.285217      csv\n",
              "5   0.270281   0.147277  0.120767     0.271764     0.614103  1.424192  parquet\n",
              "3   0.390637   0.653217  0.226201     0.097895     0.221584  1.589534      jay\n",
              "2   0.446374   0.634516  0.934304     0.943373     0.258595  3.217162      hdf"
            ],
            "text/html": [
              "\n",
              "  <div id=\"df-c1d45071-6728-4fd9-b18a-5777fcd87d35\">\n",
              "    <div class=\"colab-df-container\">\n",
              "      <div>\n",
              "<style scoped>\n",
              "    .dataframe tbody tr th:only-of-type {\n",
              "        vertical-align: middle;\n",
              "    }\n",
              "\n",
              "    .dataframe tbody tr th {\n",
              "        vertical-align: top;\n",
              "    }\n",
              "\n",
              "    .dataframe thead th {\n",
              "        text-align: right;\n",
              "    }\n",
              "</style>\n",
              "<table border=\"1\" class=\"dataframe\">\n",
              "  <thead>\n",
              "    <tr style=\"text-align: right;\">\n",
              "      <th></th>\n",
              "      <th>save_time</th>\n",
              "      <th>load_time</th>\n",
              "      <th>size</th>\n",
              "      <th>save_memory</th>\n",
              "      <th>load_memory</th>\n",
              "      <th>sum</th>\n",
              "      <th>file</th>\n",
              "    </tr>\n",
              "  </thead>\n",
              "  <tbody>\n",
              "    <tr>\n",
              "      <th>6</th>\n",
              "      <td>0.166252</td>\n",
              "      <td>0.102456</td>\n",
              "      <td>0.105827</td>\n",
              "      <td>0.005573</td>\n",
              "      <td>0.060875</td>\n",
              "      <td>0.440982</td>\n",
              "      <td>pickle</td>\n",
              "    </tr>\n",
              "    <tr>\n",
              "      <th>1</th>\n",
              "      <td>0.199895</td>\n",
              "      <td>0.121194</td>\n",
              "      <td>0.116712</td>\n",
              "      <td>0.157058</td>\n",
              "      <td>0.253401</td>\n",
              "      <td>0.848261</td>\n",
              "      <td>feather</td>\n",
              "    </tr>\n",
              "    <tr>\n",
              "      <th>4</th>\n",
              "      <td>0.635332</td>\n",
              "      <td>0.326740</td>\n",
              "      <td>0.115533</td>\n",
              "      <td>0.037152</td>\n",
              "      <td>0.084737</td>\n",
              "      <td>1.199494</td>\n",
              "      <td>msgpack</td>\n",
              "    </tr>\n",
              "    <tr>\n",
              "      <th>0</th>\n",
              "      <td>0.322266</td>\n",
              "      <td>0.130627</td>\n",
              "      <td>0.152168</td>\n",
              "      <td>0.023034</td>\n",
              "      <td>0.657121</td>\n",
              "      <td>1.285217</td>\n",
              "      <td>csv</td>\n",
              "    </tr>\n",
              "    <tr>\n",
              "      <th>5</th>\n",
              "      <td>0.270281</td>\n",
              "      <td>0.147277</td>\n",
              "      <td>0.120767</td>\n",
              "      <td>0.271764</td>\n",
              "      <td>0.614103</td>\n",
              "      <td>1.424192</td>\n",
              "      <td>parquet</td>\n",
              "    </tr>\n",
              "    <tr>\n",
              "      <th>3</th>\n",
              "      <td>0.390637</td>\n",
              "      <td>0.653217</td>\n",
              "      <td>0.226201</td>\n",
              "      <td>0.097895</td>\n",
              "      <td>0.221584</td>\n",
              "      <td>1.589534</td>\n",
              "      <td>jay</td>\n",
              "    </tr>\n",
              "    <tr>\n",
              "      <th>2</th>\n",
              "      <td>0.446374</td>\n",
              "      <td>0.634516</td>\n",
              "      <td>0.934304</td>\n",
              "      <td>0.943373</td>\n",
              "      <td>0.258595</td>\n",
              "      <td>3.217162</td>\n",
              "      <td>hdf</td>\n",
              "    </tr>\n",
              "  </tbody>\n",
              "</table>\n",
              "</div>\n",
              "      <button class=\"colab-df-convert\" onclick=\"convertToInteractive('df-c1d45071-6728-4fd9-b18a-5777fcd87d35')\"\n",
              "              title=\"Convert this dataframe to an interactive table.\"\n",
              "              style=\"display:none;\">\n",
              "        \n",
              "  <svg xmlns=\"http://www.w3.org/2000/svg\" height=\"24px\"viewBox=\"0 0 24 24\"\n",
              "       width=\"24px\">\n",
              "    <path d=\"M0 0h24v24H0V0z\" fill=\"none\"/>\n",
              "    <path d=\"M18.56 5.44l.94 2.06.94-2.06 2.06-.94-2.06-.94-.94-2.06-.94 2.06-2.06.94zm-11 1L8.5 8.5l.94-2.06 2.06-.94-2.06-.94L8.5 2.5l-.94 2.06-2.06.94zm10 10l.94 2.06.94-2.06 2.06-.94-2.06-.94-.94-2.06-.94 2.06-2.06.94z\"/><path d=\"M17.41 7.96l-1.37-1.37c-.4-.4-.92-.59-1.43-.59-.52 0-1.04.2-1.43.59L10.3 9.45l-7.72 7.72c-.78.78-.78 2.05 0 2.83L4 21.41c.39.39.9.59 1.41.59.51 0 1.02-.2 1.41-.59l7.78-7.78 2.81-2.81c.8-.78.8-2.07 0-2.86zM5.41 20L4 18.59l7.72-7.72 1.47 1.35L5.41 20z\"/>\n",
              "  </svg>\n",
              "      </button>\n",
              "      \n",
              "  <style>\n",
              "    .colab-df-container {\n",
              "      display:flex;\n",
              "      flex-wrap:wrap;\n",
              "      gap: 12px;\n",
              "    }\n",
              "\n",
              "    .colab-df-convert {\n",
              "      background-color: #E8F0FE;\n",
              "      border: none;\n",
              "      border-radius: 50%;\n",
              "      cursor: pointer;\n",
              "      display: none;\n",
              "      fill: #1967D2;\n",
              "      height: 32px;\n",
              "      padding: 0 0 0 0;\n",
              "      width: 32px;\n",
              "    }\n",
              "\n",
              "    .colab-df-convert:hover {\n",
              "      background-color: #E2EBFA;\n",
              "      box-shadow: 0px 1px 2px rgba(60, 64, 67, 0.3), 0px 1px 3px 1px rgba(60, 64, 67, 0.15);\n",
              "      fill: #174EA6;\n",
              "    }\n",
              "\n",
              "    [theme=dark] .colab-df-convert {\n",
              "      background-color: #3B4455;\n",
              "      fill: #D2E3FC;\n",
              "    }\n",
              "\n",
              "    [theme=dark] .colab-df-convert:hover {\n",
              "      background-color: #434B5C;\n",
              "      box-shadow: 0px 1px 3px 1px rgba(0, 0, 0, 0.15);\n",
              "      filter: drop-shadow(0px 1px 2px rgba(0, 0, 0, 0.3));\n",
              "      fill: #FFFFFF;\n",
              "    }\n",
              "  </style>\n",
              "\n",
              "      <script>\n",
              "        const buttonEl =\n",
              "          document.querySelector('#df-c1d45071-6728-4fd9-b18a-5777fcd87d35 button.colab-df-convert');\n",
              "        buttonEl.style.display =\n",
              "          google.colab.kernel.accessAllowed ? 'block' : 'none';\n",
              "\n",
              "        async function convertToInteractive(key) {\n",
              "          const element = document.querySelector('#df-c1d45071-6728-4fd9-b18a-5777fcd87d35');\n",
              "          const dataTable =\n",
              "            await google.colab.kernel.invokeFunction('convertToInteractive',\n",
              "                                                     [key], {});\n",
              "          if (!dataTable) return;\n",
              "\n",
              "          const docLinkHtml = 'Like what you see? Visit the ' +\n",
              "            '<a target=\"_blank\" href=https://colab.research.google.com/notebooks/data_table.ipynb>data table notebook</a>'\n",
              "            + ' to learn more about interactive tables.';\n",
              "          element.innerHTML = '';\n",
              "          dataTable['output_type'] = 'display_data';\n",
              "          await google.colab.output.renderOutput(dataTable, element);\n",
              "          const docLink = document.createElement('div');\n",
              "          docLink.innerHTML = docLinkHtml;\n",
              "          element.appendChild(docLink);\n",
              "        }\n",
              "      </script>\n",
              "    </div>\n",
              "  </div>\n",
              "  "
            ]
          },
          "metadata": {},
          "execution_count": 16
        }
      ]
    },
    {
      "cell_type": "code",
      "source": [
        "features(res, 'different types')"
      ],
      "metadata": {
        "id": "o7P0zhBzqGp0",
        "colab": {
          "base_uri": "https://localhost:8080/",
          "height": 545
        },
        "outputId": "f718a02d-36fd-47c2-a43e-1159508df4a9"
      },
      "execution_count": null,
      "outputs": [
        {
          "output_type": "display_data",
          "data": {
            "text/plain": [
              "<Figure size 1728x792 with 5 Axes>"
            ],
            "image/png": "[encoded data removed]"
          },
          "metadata": {
            "needs_background": "light"
          }
        }
      ]
    },
    {
      "cell_type": "code",
      "source": [
        "all_features(res, 'different types')"
      ],
      "metadata": {
        "id": "x-7UOJJqq3_B",
        "colab": {
          "base_uri": "https://localhost:8080/",
          "height": 458
        },
        "outputId": "78cce555-1354-4e6b-a7c7-99fd56d920a6"
      },
      "execution_count": null,
      "outputs": [
        {
          "output_type": "display_data",
          "data": {
            "text/plain": [
              "<Figure size 1080x504 with 1 Axes>"
            ],
            "image/png": "[encoded data removed]"
          },
          "metadata": {
            "needs_background": "light"
          }
        }
      ]
    },
    {
      "cell_type": "code",
      "source": [
        "result_graph(res, 'different types')"
      ],
      "metadata": {
        "colab": {
          "base_uri": "https://localhost:8080/",
          "height": 458
        },
        "id": "ukX3dVbJq4Xn",
        "outputId": "c874d274-91e3-4067-f54f-597d1a2e7646"
      },
      "execution_count": null,
      "outputs": [
        {
          "output_type": "display_data",
          "data": {
            "text/plain": [
              "<Figure size 720x504 with 1 Axes>"
            ],
            "image/png": "[encoded data removed]"
          },
          "metadata": {
            "needs_background": "light"
          }
        }
      ]
    },
    {
      "cell_type": "markdown",
      "source": [
        "<h1>Числовые данные</h1>"
      ],
      "metadata": {
        "id": "Q4M-FFmfh1K9"
      }
    },
    {
      "cell_type": "code",
      "source": [
        "res = final_result('numbers', ['int', 'float'])\n",
        "res"
      ],
      "metadata": {
        "id": "sHaagddGwwL5",
        "colab": {
          "base_uri": "https://localhost:8080/",
          "height": 442
        },
        "outputId": "506bef4b-9651-474f-a105-49aae011f352"
      },
      "execution_count": null,
      "outputs": [
        {
          "output_type": "stream",
          "name": "stdout",
          "text": [
            "0 iteration finished\n",
            "1 iteration finished\n",
            "2 iteration finished\n",
            "3 iteration finished\n",
            "4 iteration finished\n",
            "5 iteration finished\n",
            "6 iteration finished\n",
            "7 iteration finished\n",
            "8 iteration finished\n",
            "9 iteration finished\n"
          ]
        },
        {
          "output_type": "execute_result",
          "data": {
            "text/plain": [
              "   save_time  load_time      size  save_memory  load_memory       sum     file\n",
              "6   0.141404   0.126076  0.120104     0.000000     0.000000  0.387585   pickle\n",
              "4   0.231759   0.202495  0.123310     0.000000     0.000000  0.557564  msgpack\n",
              "0   0.255317   0.157227  0.214497     0.057454     0.498983  1.183478      csv\n",
              "1   0.182930   0.131671  0.129411     0.337001     0.422395  1.203409  feather\n",
              "5   0.259717   0.170167  0.149528     0.302722     0.694649  1.576782  parquet\n",
              "3   0.207733   0.796613  0.275643     0.108149     0.276003  1.664141      jay\n",
              "2   0.846780   0.487333  0.899598     0.883059     0.117828  3.234598      hdf"
            ],
            "text/html": [
              "\n",
              "  <div id=\"df-a8c515d2-c1ac-4d57-9043-f11b1b878ab2\">\n",
              "    <div class=\"colab-df-container\">\n",
              "      <div>\n",
              "<style scoped>\n",
              "    .dataframe tbody tr th:only-of-type {\n",
              "        vertical-align: middle;\n",
              "    }\n",
              "\n",
              "    .dataframe tbody tr th {\n",
              "        vertical-align: top;\n",
              "    }\n",
              "\n",
              "    .dataframe thead th {\n",
              "        text-align: right;\n",
              "    }\n",
              "</style>\n",
              "<table border=\"1\" class=\"dataframe\">\n",
              "  <thead>\n",
              "    <tr style=\"text-align: right;\">\n",
              "      <th></th>\n",
              "      <th>save_time</th>\n",
              "      <th>load_time</th>\n",
              "      <th>size</th>\n",
              "      <th>save_memory</th>\n",
              "      <th>load_memory</th>\n",
              "      <th>sum</th>\n",
              "      <th>file</th>\n",
              "    </tr>\n",
              "  </thead>\n",
              "  <tbody>\n",
              "    <tr>\n",
              "      <th>6</th>\n",
              "      <td>0.141404</td>\n",
              "      <td>0.126076</td>\n",
              "      <td>0.120104</td>\n",
              "      <td>0.000000</td>\n",
              "      <td>0.000000</td>\n",
              "      <td>0.387585</td>\n",
              "      <td>pickle</td>\n",
              "    </tr>\n",
              "    <tr>\n",
              "      <th>4</th>\n",
              "      <td>0.231759</td>\n",
              "      <td>0.202495</td>\n",
              "      <td>0.123310</td>\n",
              "      <td>0.000000</td>\n",
              "      <td>0.000000</td>\n",
              "      <td>0.557564</td>\n",
              "      <td>msgpack</td>\n",
              "    </tr>\n",
              "    <tr>\n",
              "      <th>0</th>\n",
              "      <td>0.255317</td>\n",
              "      <td>0.157227</td>\n",
              "      <td>0.214497</td>\n",
              "      <td>0.057454</td>\n",
              "      <td>0.498983</td>\n",
              "      <td>1.183478</td>\n",
              "      <td>csv</td>\n",
              "    </tr>\n",
              "    <tr>\n",
              "      <th>1</th>\n",
              "      <td>0.182930</td>\n",
              "      <td>0.131671</td>\n",
              "      <td>0.129411</td>\n",
              "      <td>0.337001</td>\n",
              "      <td>0.422395</td>\n",
              "      <td>1.203409</td>\n",
              "      <td>feather</td>\n",
              "    </tr>\n",
              "    <tr>\n",
              "      <th>5</th>\n",
              "      <td>0.259717</td>\n",
              "      <td>0.170167</td>\n",
              "      <td>0.149528</td>\n",
              "      <td>0.302722</td>\n",
              "      <td>0.694649</td>\n",
              "      <td>1.576782</td>\n",
              "      <td>parquet</td>\n",
              "    </tr>\n",
              "    <tr>\n",
              "      <th>3</th>\n",
              "      <td>0.207733</td>\n",
              "      <td>0.796613</td>\n",
              "      <td>0.275643</td>\n",
              "      <td>0.108149</td>\n",
              "      <td>0.276003</td>\n",
              "      <td>1.664141</td>\n",
              "      <td>jay</td>\n",
              "    </tr>\n",
              "    <tr>\n",
              "      <th>2</th>\n",
              "      <td>0.846780</td>\n",
              "      <td>0.487333</td>\n",
              "      <td>0.899598</td>\n",
              "      <td>0.883059</td>\n",
              "      <td>0.117828</td>\n",
              "      <td>3.234598</td>\n",
              "      <td>hdf</td>\n",
              "    </tr>\n",
              "  </tbody>\n",
              "</table>\n",
              "</div>\n",
              "      <button class=\"colab-df-convert\" onclick=\"convertToInteractive('df-a8c515d2-c1ac-4d57-9043-f11b1b878ab2')\"\n",
              "              title=\"Convert this dataframe to an interactive table.\"\n",
              "              style=\"display:none;\">\n",
              "        \n",
              "  <svg xmlns=\"http://www.w3.org/2000/svg\" height=\"24px\"viewBox=\"0 0 24 24\"\n",
              "       width=\"24px\">\n",
              "    <path d=\"M0 0h24v24H0V0z\" fill=\"none\"/>\n",
              "    <path d=\"M18.56 5.44l.94 2.06.94-2.06 2.06-.94-2.06-.94-.94-2.06-.94 2.06-2.06.94zm-11 1L8.5 8.5l.94-2.06 2.06-.94-2.06-.94L8.5 2.5l-.94 2.06-2.06.94zm10 10l.94 2.06.94-2.06 2.06-.94-2.06-.94-.94-2.06-.94 2.06-2.06.94z\"/><path d=\"M17.41 7.96l-1.37-1.37c-.4-.4-.92-.59-1.43-.59-.52 0-1.04.2-1.43.59L10.3 9.45l-7.72 7.72c-.78.78-.78 2.05 0 2.83L4 21.41c.39.39.9.59 1.41.59.51 0 1.02-.2 1.41-.59l7.78-7.78 2.81-2.81c.8-.78.8-2.07 0-2.86zM5.41 20L4 18.59l7.72-7.72 1.47 1.35L5.41 20z\"/>\n",
              "  </svg>\n",
              "      </button>\n",
              "      \n",
              "  <style>\n",
              "    .colab-df-container {\n",
              "      display:flex;\n",
              "      flex-wrap:wrap;\n",
              "      gap: 12px;\n",
              "    }\n",
              "\n",
              "    .colab-df-convert {\n",
              "      background-color: #E8F0FE;\n",
              "      border: none;\n",
              "      border-radius: 50%;\n",
              "      cursor: pointer;\n",
              "      display: none;\n",
              "      fill: #1967D2;\n",
              "      height: 32px;\n",
              "      padding: 0 0 0 0;\n",
              "      width: 32px;\n",
              "    }\n",
              "\n",
              "    .colab-df-convert:hover {\n",
              "      background-color: #E2EBFA;\n",
              "      box-shadow: 0px 1px 2px rgba(60, 64, 67, 0.3), 0px 1px 3px 1px rgba(60, 64, 67, 0.15);\n",
              "      fill: #174EA6;\n",
              "    }\n",
              "\n",
              "    [theme=dark] .colab-df-convert {\n",
              "      background-color: #3B4455;\n",
              "      fill: #D2E3FC;\n",
              "    }\n",
              "\n",
              "    [theme=dark] .colab-df-convert:hover {\n",
              "      background-color: #434B5C;\n",
              "      box-shadow: 0px 1px 3px 1px rgba(0, 0, 0, 0.15);\n",
              "      filter: drop-shadow(0px 1px 2px rgba(0, 0, 0, 0.3));\n",
              "      fill: #FFFFFF;\n",
              "    }\n",
              "  </style>\n",
              "\n",
              "      <script>\n",
              "        const buttonEl =\n",
              "          document.querySelector('#df-a8c515d2-c1ac-4d57-9043-f11b1b878ab2 button.colab-df-convert');\n",
              "        buttonEl.style.display =\n",
              "          google.colab.kernel.accessAllowed ? 'block' : 'none';\n",
              "\n",
              "        async function convertToInteractive(key) {\n",
              "          const element = document.querySelector('#df-a8c515d2-c1ac-4d57-9043-f11b1b878ab2');\n",
              "          const dataTable =\n",
              "            await google.colab.kernel.invokeFunction('convertToInteractive',\n",
              "                                                     [key], {});\n",
              "          if (!dataTable) return;\n",
              "\n",
              "          const docLinkHtml = 'Like what you see? Visit the ' +\n",
              "            '<a target=\"_blank\" href=https://colab.research.google.com/notebooks/data_table.ipynb>data table notebook</a>'\n",
              "            + ' to learn more about interactive tables.';\n",
              "          element.innerHTML = '';\n",
              "          dataTable['output_type'] = 'display_data';\n",
              "          await google.colab.output.renderOutput(dataTable, element);\n",
              "          const docLink = document.createElement('div');\n",
              "          docLink.innerHTML = docLinkHtml;\n",
              "          element.appendChild(docLink);\n",
              "        }\n",
              "      </script>\n",
              "    </div>\n",
              "  </div>\n",
              "  "
            ]
          },
          "metadata": {},
          "execution_count": 20
        }
      ]
    },
    {
      "cell_type": "code",
      "source": [
        "features(res, 'numbers')"
      ],
      "metadata": {
        "colab": {
          "base_uri": "https://localhost:8080/",
          "height": 545
        },
        "id": "CEGdf52bX3TC",
        "outputId": "d8e5bf74-88f5-4119-c97b-2573e8991637"
      },
      "execution_count": null,
      "outputs": [
        {
          "output_type": "display_data",
          "data": {
            "text/plain": [
              "<Figure size 1728x792 with 5 Axes>"
            ],
            "image/png": "[encoded data removed]"
          },
          "metadata": {
            "needs_background": "light"
          }
        }
      ]
    },
    {
      "cell_type": "code",
      "source": [
        "all_features(res, 'numbers')"
      ],
      "metadata": {
        "colab": {
          "base_uri": "https://localhost:8080/",
          "height": 458
        },
        "id": "HruM86-GX41v",
        "outputId": "d328977c-d031-421e-805d-4c4eee22424d"
      },
      "execution_count": null,
      "outputs": [
        {
          "output_type": "display_data",
          "data": {
            "text/plain": [
              "<Figure size 1080x504 with 1 Axes>"
            ],
            "image/png": "[encoded data removed]"
          },
          "metadata": {
            "needs_background": "light"
          }
        }
      ]
    },
    {
      "cell_type": "code",
      "source": [
        "result_graph(res, 'numbers')"
      ],
      "metadata": {
        "colab": {
          "base_uri": "https://localhost:8080/",
          "height": 458
        },
        "id": "_vaUN931X6WJ",
        "outputId": "cf06f421-552b-4bf5-8785-c4d9b9e49e1f"
      },
      "execution_count": null,
      "outputs": [
        {
          "output_type": "display_data",
          "data": {
            "text/plain": [
              "<Figure size 720x504 with 1 Axes>"
            ],
            "image/png": "[encoded data removed]"
          },
          "metadata": {
            "needs_background": "light"
          }
        }
      ]
    },
    {
      "cell_type": "markdown",
      "source": [
        "<h1>Данные нечисловых типов</h1>"
      ],
      "metadata": {
        "id": "K9ZJDpv3irAt"
      }
    },
    {
      "cell_type": "code",
      "source": [
        "res = final_result('not_numbers', ['string', 'boolean', 'datetime64[ns]'])\n",
        "res"
      ],
      "metadata": {
        "colab": {
          "base_uri": "https://localhost:8080/",
          "height": 442
        },
        "id": "cEfEcVThX-SF",
        "outputId": "0eb61224-3f5c-4b28-b0c5-61b79184c468"
      },
      "execution_count": null,
      "outputs": [
        {
          "output_type": "stream",
          "name": "stdout",
          "text": [
            "0 iteration finished\n",
            "1 iteration finished\n",
            "2 iteration finished\n",
            "3 iteration finished\n",
            "4 iteration finished\n",
            "5 iteration finished\n",
            "6 iteration finished\n",
            "7 iteration finished\n",
            "8 iteration finished\n",
            "9 iteration finished\n"
          ]
        },
        {
          "output_type": "execute_result",
          "data": {
            "text/plain": [
              "   save_time  load_time      size  save_memory  load_memory       sum     file\n",
              "6   0.130548   0.086574  0.091200     0.089876     0.000000  0.398199   pickle\n",
              "0   0.347659   0.112227  0.105340     0.234223     0.041306  0.840754      csv\n",
              "1   0.161635   0.117990  0.103213     0.298226     0.314091  0.995156  feather\n",
              "4   0.629223   0.410327  0.105850     0.000000     0.310107  1.455507  msgpack\n",
              "3   0.460754   0.600223  0.193420     0.165454     0.095821  1.515672      jay\n",
              "5   0.208777   0.132649  0.096967     0.623007     0.827791  1.889191  parquet\n",
              "2   0.429140   0.647887  0.954942     0.657731     0.330236  3.019936      hdf"
            ],
            "text/html": [
              "\n",
              "  <div id=\"df-2ca7b081-2e6a-4639-ae93-f926d9d118d2\">\n",
              "    <div class=\"colab-df-container\">\n",
              "      <div>\n",
              "<style scoped>\n",
              "    .dataframe tbody tr th:only-of-type {\n",
              "        vertical-align: middle;\n",
              "    }\n",
              "\n",
              "    .dataframe tbody tr th {\n",
              "        vertical-align: top;\n",
              "    }\n",
              "\n",
              "    .dataframe thead th {\n",
              "        text-align: right;\n",
              "    }\n",
              "</style>\n",
              "<table border=\"1\" class=\"dataframe\">\n",
              "  <thead>\n",
              "    <tr style=\"text-align: right;\">\n",
              "      <th></th>\n",
              "      <th>save_time</th>\n",
              "      <th>load_time</th>\n",
              "      <th>size</th>\n",
              "      <th>save_memory</th>\n",
              "      <th>load_memory</th>\n",
              "      <th>sum</th>\n",
              "      <th>file</th>\n",
              "    </tr>\n",
              "  </thead>\n",
              "  <tbody>\n",
              "    <tr>\n",
              "      <th>6</th>\n",
              "      <td>0.130548</td>\n",
              "      <td>0.086574</td>\n",
              "      <td>0.091200</td>\n",
              "      <td>0.089876</td>\n",
              "      <td>0.000000</td>\n",
              "      <td>0.398199</td>\n",
              "      <td>pickle</td>\n",
              "    </tr>\n",
              "    <tr>\n",
              "      <th>0</th>\n",
              "      <td>0.347659</td>\n",
              "      <td>0.112227</td>\n",
              "      <td>0.105340</td>\n",
              "      <td>0.234223</td>\n",
              "      <td>0.041306</td>\n",
              "      <td>0.840754</td>\n",
              "      <td>csv</td>\n",
              "    </tr>\n",
              "    <tr>\n",
              "      <th>1</th>\n",
              "      <td>0.161635</td>\n",
              "      <td>0.117990</td>\n",
              "      <td>0.103213</td>\n",
              "      <td>0.298226</td>\n",
              "      <td>0.314091</td>\n",
              "      <td>0.995156</td>\n",
              "      <td>feather</td>\n",
              "    </tr>\n",
              "    <tr>\n",
              "      <th>4</th>\n",
              "      <td>0.629223</td>\n",
              "      <td>0.410327</td>\n",
              "      <td>0.105850</td>\n",
              "      <td>0.000000</td>\n",
              "      <td>0.310107</td>\n",
              "      <td>1.455507</td>\n",
              "      <td>msgpack</td>\n",
              "    </tr>\n",
              "    <tr>\n",
              "      <th>3</th>\n",
              "      <td>0.460754</td>\n",
              "      <td>0.600223</td>\n",
              "      <td>0.193420</td>\n",
              "      <td>0.165454</td>\n",
              "      <td>0.095821</td>\n",
              "      <td>1.515672</td>\n",
              "      <td>jay</td>\n",
              "    </tr>\n",
              "    <tr>\n",
              "      <th>5</th>\n",
              "      <td>0.208777</td>\n",
              "      <td>0.132649</td>\n",
              "      <td>0.096967</td>\n",
              "      <td>0.623007</td>\n",
              "      <td>0.827791</td>\n",
              "      <td>1.889191</td>\n",
              "      <td>parquet</td>\n",
              "    </tr>\n",
              "    <tr>\n",
              "      <th>2</th>\n",
              "      <td>0.429140</td>\n",
              "      <td>0.647887</td>\n",
              "      <td>0.954942</td>\n",
              "      <td>0.657731</td>\n",
              "      <td>0.330236</td>\n",
              "      <td>3.019936</td>\n",
              "      <td>hdf</td>\n",
              "    </tr>\n",
              "  </tbody>\n",
              "</table>\n",
              "</div>\n",
              "      <button class=\"colab-df-convert\" onclick=\"convertToInteractive('df-2ca7b081-2e6a-4639-ae93-f926d9d118d2')\"\n",
              "              title=\"Convert this dataframe to an interactive table.\"\n",
              "              style=\"display:none;\">\n",
              "        \n",
              "  <svg xmlns=\"http://www.w3.org/2000/svg\" height=\"24px\"viewBox=\"0 0 24 24\"\n",
              "       width=\"24px\">\n",
              "    <path d=\"M0 0h24v24H0V0z\" fill=\"none\"/>\n",
              "    <path d=\"M18.56 5.44l.94 2.06.94-2.06 2.06-.94-2.06-.94-.94-2.06-.94 2.06-2.06.94zm-11 1L8.5 8.5l.94-2.06 2.06-.94-2.06-.94L8.5 2.5l-.94 2.06-2.06.94zm10 10l.94 2.06.94-2.06 2.06-.94-2.06-.94-.94-2.06-.94 2.06-2.06.94z\"/><path d=\"M17.41 7.96l-1.37-1.37c-.4-.4-.92-.59-1.43-.59-.52 0-1.04.2-1.43.59L10.3 9.45l-7.72 7.72c-.78.78-.78 2.05 0 2.83L4 21.41c.39.39.9.59 1.41.59.51 0 1.02-.2 1.41-.59l7.78-7.78 2.81-2.81c.8-.78.8-2.07 0-2.86zM5.41 20L4 18.59l7.72-7.72 1.47 1.35L5.41 20z\"/>\n",
              "  </svg>\n",
              "      </button>\n",
              "      \n",
              "  <style>\n",
              "    .colab-df-container {\n",
              "      display:flex;\n",
              "      flex-wrap:wrap;\n",
              "      gap: 12px;\n",
              "    }\n",
              "\n",
              "    .colab-df-convert {\n",
              "      background-color: #E8F0FE;\n",
              "      border: none;\n",
              "      border-radius: 50%;\n",
              "      cursor: pointer;\n",
              "      display: none;\n",
              "      fill: #1967D2;\n",
              "      height: 32px;\n",
              "      padding: 0 0 0 0;\n",
              "      width: 32px;\n",
              "    }\n",
              "\n",
              "    .colab-df-convert:hover {\n",
              "      background-color: #E2EBFA;\n",
              "      box-shadow: 0px 1px 2px rgba(60, 64, 67, 0.3), 0px 1px 3px 1px rgba(60, 64, 67, 0.15);\n",
              "      fill: #174EA6;\n",
              "    }\n",
              "\n",
              "    [theme=dark] .colab-df-convert {\n",
              "      background-color: #3B4455;\n",
              "      fill: #D2E3FC;\n",
              "    }\n",
              "\n",
              "    [theme=dark] .colab-df-convert:hover {\n",
              "      background-color: #434B5C;\n",
              "      box-shadow: 0px 1px 3px 1px rgba(0, 0, 0, 0.15);\n",
              "      filter: drop-shadow(0px 1px 2px rgba(0, 0, 0, 0.3));\n",
              "      fill: #FFFFFF;\n",
              "    }\n",
              "  </style>\n",
              "\n",
              "      <script>\n",
              "        const buttonEl =\n",
              "          document.querySelector('#df-2ca7b081-2e6a-4639-ae93-f926d9d118d2 button.colab-df-convert');\n",
              "        buttonEl.style.display =\n",
              "          google.colab.kernel.accessAllowed ? 'block' : 'none';\n",
              "\n",
              "        async function convertToInteractive(key) {\n",
              "          const element = document.querySelector('#df-2ca7b081-2e6a-4639-ae93-f926d9d118d2');\n",
              "          const dataTable =\n",
              "            await google.colab.kernel.invokeFunction('convertToInteractive',\n",
              "                                                     [key], {});\n",
              "          if (!dataTable) return;\n",
              "\n",
              "          const docLinkHtml = 'Like what you see? Visit the ' +\n",
              "            '<a target=\"_blank\" href=https://colab.research.google.com/notebooks/data_table.ipynb>data table notebook</a>'\n",
              "            + ' to learn more about interactive tables.';\n",
              "          element.innerHTML = '';\n",
              "          dataTable['output_type'] = 'display_data';\n",
              "          await google.colab.output.renderOutput(dataTable, element);\n",
              "          const docLink = document.createElement('div');\n",
              "          docLink.innerHTML = docLinkHtml;\n",
              "          element.appendChild(docLink);\n",
              "        }\n",
              "      </script>\n",
              "    </div>\n",
              "  </div>\n",
              "  "
            ]
          },
          "metadata": {},
          "execution_count": 41
        }
      ]
    },
    {
      "cell_type": "code",
      "source": [
        "features(res, 'not_numbers')"
      ],
      "metadata": {
        "id": "RNpli4erYP-8",
        "colab": {
          "base_uri": "https://localhost:8080/",
          "height": 545
        },
        "outputId": "1bcfe829-7485-4ab4-bf07-37ccb164c324"
      },
      "execution_count": null,
      "outputs": [
        {
          "output_type": "display_data",
          "data": {
            "text/plain": [
              "<Figure size 1728x792 with 5 Axes>"
            ],
            "image/png": "[encoded data removed]"
          },
          "metadata": {
            "needs_background": "light"
          }
        }
      ]
    },
    {
      "cell_type": "code",
      "source": [
        "all_features(res, 'not_numbers')"
      ],
      "metadata": {
        "id": "9exxtKL1YREO",
        "colab": {
          "base_uri": "https://localhost:8080/",
          "height": 458
        },
        "outputId": "e6029a15-1a59-4e54-e0d5-95f3acee4cab"
      },
      "execution_count": null,
      "outputs": [
        {
          "output_type": "display_data",
          "data": {
            "text/plain": [
              "<Figure size 1080x504 with 1 Axes>"
            ],
            "image/png": "[encoded data removed]"
          },
          "metadata": {
            "needs_background": "light"
          }
        }
      ]
    },
    {
      "cell_type": "code",
      "source": [
        "result_graph(res, 'not_numbers')"
      ],
      "metadata": {
        "id": "5JOabUiGYRss",
        "colab": {
          "base_uri": "https://localhost:8080/",
          "height": 458
        },
        "outputId": "d3c89b74-dfd6-472f-9830-b4dad83c38f9"
      },
      "execution_count": null,
      "outputs": [
        {
          "output_type": "display_data",
          "data": {
            "text/plain": [
              "<Figure size 720x504 with 1 Axes>"
            ],
            "image/png": "[encoded data removed]"
          },
          "metadata": {
            "needs_background": "light"
          }
        }
      ]
    }
  ]
}