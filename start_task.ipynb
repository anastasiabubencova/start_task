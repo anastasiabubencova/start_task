{
  "nbformat": 4,
  "nbformat_minor": 0,
  "metadata": {
    "colab": {
      "provenance": []
    },
    "kernelspec": {
      "name": "python3",
      "display_name": "Python 3"
    },
    "language_info": {
      "name": "python"
    }
  },
  "cells": [
    {
      "cell_type": "code",
      "source": [
        "pip install datatable"
      ],
      "metadata": {
        "colab": {
          "base_uri": "https://localhost:8080/"
        },
        "id": "1Se4X21X2JeV",
        "outputId": "9be98488-14aa-447f-982e-0eba96c3590a"
      },
      "execution_count": 123,
      "outputs": [
        {
          "output_type": "stream",
          "name": "stdout",
          "text": [
            "Looking in indexes: https://pypi.org/simple, https://us-python.pkg.dev/colab-wheels/public/simple/\n",
            "Requirement already satisfied: datatable in /usr/local/lib/python3.7/dist-packages (1.0.0)\n"
          ]
        }
      ]
    },
    {
      "cell_type": "code",
      "source": [
        "pip install memory_profiler"
      ],
      "metadata": {
        "colab": {
          "base_uri": "https://localhost:8080/"
        },
        "id": "nMaZ4wr7xYbf",
        "outputId": "f8dcaf0f-4c34-4f69-ace5-9bfeaf9fb67a"
      },
      "execution_count": 124,
      "outputs": [
        {
          "output_type": "stream",
          "name": "stdout",
          "text": [
            "Looking in indexes: https://pypi.org/simple, https://us-python.pkg.dev/colab-wheels/public/simple/\n",
            "Requirement already satisfied: memory_profiler in /usr/local/lib/python3.7/dist-packages (0.60.0)\n",
            "Requirement already satisfied: psutil in /usr/local/lib/python3.7/dist-packages (from memory_profiler) (5.4.8)\n"
          ]
        }
      ]
    },
    {
      "cell_type": "code",
      "source": [
        "import pandas as pd\n",
        "import numpy as np\n",
        "import random\n",
        "import string\n",
        "from datetime import datetime\n",
        "import os\n",
        "from matplotlib import pyplot as plt\n",
        "import h5py\n",
        "import warnings\n",
        "import datatable as dt\n",
        "import msgpack\n",
        "import memory_profiler\n",
        "from sklearn import preprocessing\n",
        "warnings.simplefilter(action='ignore', category=FutureWarning)"
      ],
      "metadata": {
        "id": "HA9nkY5a2EEU"
      },
      "execution_count": 133,
      "outputs": []
    },
    {
      "cell_type": "code",
      "source": [
        "types = ['int', 'float', 'string', 'boolean']\n",
        "\n",
        "def int_column(length) :\n",
        "\n",
        "    column = []\n",
        "    for i in range(length) :\n",
        "        column.append(random.randint(-2147483648, 2147483647))\n",
        "    return column\n",
        "\n",
        "def float_column(length) :\n",
        "    column = []\n",
        "    for i in range(length) :\n",
        "        column.append(random.uniform(-100, 100))\n",
        "    return column\n",
        "\n",
        "def boolean_column(length) :\n",
        "    column = []\n",
        "    for i in range(length) :\n",
        "        column.append(bool(random.randint(0,1)))\n",
        "    return column\n",
        "\n",
        "def string_column(length) :\n",
        "    column = []\n",
        "    letters = string.ascii_lowercase\n",
        "    for i in range(length) :\n",
        "        column.append(''.join([random.choice(letters) for j in range(random.randint(0,10))]))\n",
        "    return column\n",
        "\n",
        "def column(column_type, length) :\n",
        "    if types[column_type] == 'int' :\n",
        "        return int_column(length)\n",
        "    elif types[column_type] == 'float':\n",
        "        return float_column(length)\n",
        "    elif types[column_type] == 'boolean' :\n",
        "        return boolean_column(length)\n",
        "    elif types[column_type] == 'string' :\n",
        "        return string_column(length)\n",
        "\n",
        "def write_hdf(filename, ds) :\n",
        "    ds = pd.concat([pd.DataFrame(ds.columns), ds], axis=1)\n",
        "    new_ds = pd.DataFrame([ds[i].astype('string') for i in ds.columns])\n",
        "    with h5py.File(filename, 'w') as f:\n",
        "        f.create_dataset('dataset', data=new_ds.values)\n",
        "\n",
        "def read_hdf(filename) :\n",
        "  with h5py.File(filename, \"r\") as f:\n",
        "        a_group_key = list(f.keys())[0]\n",
        "        readed_ds = h5py.Dataset.asstr(f[a_group_key])\n",
        "        ds = pd.DataFrame(list(readed_ds[1:]))\n",
        "        ds = ds.T\n",
        "        ds.columns = list(readed_ds[0])\n",
        "        return to_correct_types(ds)\n",
        "\n",
        "def write_jay(filename, ds) :\n",
        "  ddt = dt.Frame([i.astype(str) for i in ds.values])\n",
        "  ddt.names = list(ds.columns)\n",
        "  ddt.to_jay('results/dataset.jay', method='auto')\n",
        "\n",
        "def read_jay(filename) :\n",
        "  ddt = dt.fread(filename)\n",
        "  ds = ddt.to_pandas()\n",
        "  col = ds.columns\n",
        "  ind = ds.index\n",
        "  ds = ds.T\n",
        "  ds.columns = col\n",
        "  ds.index = ind\n",
        "  return to_correct_types(ds)\n",
        "\n",
        "def write_msgpack(filename, ds) :\n",
        "  with open(filename, \"wb\") as outfile:\n",
        "    packed = msgpack.packb(ds.to_dict())\n",
        "    outfile.write(packed)\n",
        "\n",
        "def read_msgpack(filename) :\n",
        "  with open('results/dataset.msg', \"rb\") as data_file:\n",
        "    byte_data = data_file.read()\n",
        "    data_loaded = msgpack.unpackb(byte_data, strict_map_key=False)\n",
        "    return pd.DataFrame(data_loaded)\n",
        "\n",
        "def to_correct_types(ds) :\n",
        "  for i in range(len(ds.columns)) :\n",
        "    try :\n",
        "      ds[ds.columns[i]] = ds[ds.columns[i]].astype('boolean')\n",
        "    except :\n",
        "      try :\n",
        "        ds[ds.columns[i]] = ds[ds.columns[i]].astype('int')\n",
        "      except :\n",
        "        try :\n",
        "          ds[ds.columns[i]] = ds[ds.columns[i]].astype('float64')\n",
        "        except :\n",
        "          ds[ds.columns[i]] = ds[ds.columns[i]].astype('string')\n",
        "  return ds"
      ],
      "metadata": {
        "id": "zTD7xi_t2aAZ"
      },
      "execution_count": 126,
      "outputs": []
    },
    {
      "cell_type": "code",
      "source": [
        "def saving(ds) :\n",
        "    before_csv = memory_profiler.memory_usage()[0]\n",
        "    start_csv = datetime.now()\n",
        "    ds.to_csv('results/dataset.csv', index=False)\n",
        "\n",
        "    before_feather = memory_profiler.memory_usage()[0]\n",
        "    start_feather = datetime.now()\n",
        "    ds.reset_index(drop=True).to_feather('results/dataset.feather')\n",
        "\n",
        "    before_hdf = memory_profiler.memory_usage()[0]\n",
        "    start_hdf = datetime.now()\n",
        "    write_hdf('results/dataset.hdf5', ds)\n",
        "\n",
        "    before_msgpack = memory_profiler.memory_usage()[0]\n",
        "    start_msgpack = datetime.now()\n",
        "    write_msgpack('results/dataset.msg', ds)\n",
        "\n",
        "    before_parquet = memory_profiler.memory_usage()[0]\n",
        "    start_parquet = datetime.now()\n",
        "    ds.to_parquet('results/dataset.gzip', compression='gzip')\n",
        "\n",
        "    before_pickle = memory_profiler.memory_usage()[0]\n",
        "    start_pickle = datetime.now()\n",
        "    ds.to_pickle('results/dataset.pkl')\n",
        "\n",
        "    before_jay = memory_profiler.memory_usage()[0]\n",
        "    start_jay = datetime.now()\n",
        "    write_jay('results/dataset.jay', ds)\n",
        "\n",
        "    after = memory_profiler.memory_usage()[0]\n",
        "    end_time = datetime.now()\n",
        "\n",
        "\n",
        "    result = pd.DataFrame()\n",
        "    result['file'] = ['csv', 'feather', 'hdf', 'msgpack', 'parquet', 'pickle', 'jay']\n",
        "    result['save_time'] = [(start_feather - start_csv).microseconds, (start_hdf - start_feather).microseconds,\n",
        "                           (start_msgpack - start_hdf).microseconds, (start_parquet - start_msgpack).microseconds,\n",
        "                           (start_pickle - start_parquet).microseconds, (start_jay - start_pickle).microseconds,\n",
        "                           (end_time - start_jay).microseconds]\n",
        "    result['save_memory'] = [abs(before_feather - before_csv), abs(before_hdf - before_feather),\n",
        "                             abs(before_msgpack - before_hdf), abs(before_parquet - before_msgpack),\n",
        "                             abs(before_pickle - before_parquet), abs(before_jay - before_pickle),\n",
        "                             abs(after - before_jay)]\n",
        "    return result"
      ],
      "metadata": {
        "id": "gcJ_Tf28y7X0"
      },
      "execution_count": 127,
      "outputs": []
    },
    {
      "cell_type": "code",
      "source": [
        "def loading(ds, result) :\n",
        "    before_csv = memory_profiler.memory_usage()[0]\n",
        "    start_csv = datetime.now()\n",
        "    ds = pd.read_csv('results/dataset.csv')\n",
        "\n",
        "    before_feather = memory_profiler.memory_usage()[0]\n",
        "    start_feather = datetime.now()\n",
        "    ds = pd.read_feather('results/dataset.feather')\n",
        "\n",
        "    before_hdf = memory_profiler.memory_usage()[0]\n",
        "    start_hdf = datetime.now()\n",
        "    ds = read_hdf('results/dataset.hdf5')\n",
        "\n",
        "    before_msgpack = memory_profiler.memory_usage()[0]\n",
        "    start_msgpack = datetime.now()\n",
        "    ds = read_msgpack('results/dataset.msg')\n",
        "\n",
        "    before_parquet = memory_profiler.memory_usage()[0]\n",
        "    start_parquet = datetime.now()\n",
        "    ds = pd.read_parquet('results/dataset.gzip')\n",
        "\n",
        "    before_pickle = memory_profiler.memory_usage()[0]\n",
        "    start_pickle = datetime.now()\n",
        "    ds = pd.read_pickle('results/dataset.pkl')\n",
        "\n",
        "    before_jay = memory_profiler.memory_usage()[0]\n",
        "    start_jay = datetime.now()\n",
        "    ds = read_jay('results/dataset.jay')\n",
        "\n",
        "    after = memory_profiler.memory_usage()[0]\n",
        "    end_time = datetime.now()\n",
        "\n",
        "    result['load_time'] = [(start_feather - start_csv).microseconds, (start_hdf - start_feather).microseconds,\n",
        "                           (start_msgpack - start_hdf).microseconds, (start_parquet - start_msgpack).microseconds,\n",
        "                           (start_pickle - start_parquet).microseconds, (start_jay - start_pickle).microseconds,\n",
        "                           (end_time - start_jay).microseconds]\n",
        "\n",
        "    result['load_memory'] = [abs(before_feather - before_csv), abs(before_hdf - before_feather),\n",
        "                             abs(before_msgpack - before_hdf), abs(before_parquet - before_msgpack),\n",
        "                             abs(before_pickle - before_parquet), abs(before_jay - before_pickle),\n",
        "                             abs(after - before_jay)]\n",
        "    return result"
      ],
      "metadata": {
        "id": "A7gkCnNAzZ0q"
      },
      "execution_count": 128,
      "outputs": []
    },
    {
      "cell_type": "code",
      "source": [
        "def main() :\n",
        "    #columns_num = random.randint(1, 100)\n",
        "    #rows_num = random.randint(1, 100)\n",
        "    #dim = columns_num * rows_num\n",
        "\n",
        "    ds = pd.DataFrame()\n",
        "    columns_num = 256\n",
        "    rows_num = 256\n",
        "\n",
        "    for i in range(columns_num) :\n",
        "        type = random.randint(0, 3)\n",
        "        ds = pd.concat([ds, pd.DataFrame(column(type, rows_num), columns=['col' + str(i) + \"_\" + types[type]])], axis=1)\n",
        "        ds.iloc[:, -1] = ds.iloc[:, -1].astype(types[type])\n",
        "\n",
        "    result = saving(ds)\n",
        "\n",
        "\n",
        "    result['size'] = [os.stat('results/dataset.csv').st_size, os.stat('results/dataset.feather').st_size,\n",
        "                      os.stat('results/dataset.hdf5').st_size, os.stat('results/dataset.msg').st_size,\n",
        "                      os.stat('results/dataset.gzip').st_size, os.stat('results/dataset.pkl').st_size, os.stat('results/dataset.jay').st_size]\n",
        "    \n",
        "\n",
        "    result = loading(ds, result)\n",
        "    \n",
        "    return result"
      ],
      "metadata": {
        "id": "EMT0nvOt2a1k"
      },
      "execution_count": 129,
      "outputs": []
    },
    {
      "cell_type": "code",
      "source": [
        "result = pd.DataFrame(columns=['file', 'save_time', 'save_memory', 'load_time', 'load_memory', 'size'])\n",
        "for i in range(100) :\n",
        "        result = pd.concat([result, main()])\n",
        "\n",
        "res = pd.concat([result[['file', 'save_time', 'load_time', 'size']].groupby('file', as_index=False).mean(), result[['file', 'save_memory', 'load_memory']].groupby('file', as_index=False).mean()], axis=1)\n",
        "files = res['file']\n",
        "res = res.drop(res.columns[0], axis=1)\n",
        "\n",
        "for i in range(len(res.columns)) :\n",
        "  try:\n",
        "    res[res.columns[i]] = preprocessing.normalize(res[res.columns[i]].values.reshape(1, -1))[0]\n",
        "  except :\n",
        "    's' \n",
        "\n",
        "res['sum'] = res['save_time'] + res['load_time'] + res['size'] + res['save_memory'] + res['load_memory']\n",
        "res['file'] = files.iloc[:,0]\n",
        "res = res.sort_values(by='sum')\n",
        "print(res)"
      ],
      "metadata": {
        "colab": {
          "base_uri": "https://localhost:8080/"
        },
        "id": "a5StXDDq2gQJ",
        "outputId": "de592866-858b-4ae7-948a-1a5fbc1c2a95"
      },
      "execution_count": 130,
      "outputs": [
        {
          "output_type": "stream",
          "name": "stdout",
          "text": [
            "   save_time  load_time      size  save_memory  load_memory       sum     file\n",
            "6   0.243129   0.186365  0.134637     0.361478     0.013196  0.938805   pickle\n",
            "4   0.366468   0.226662  0.132211     0.185647     0.046046  0.957035  msgpack\n",
            "0   0.341538   0.215646  0.200847     0.122789     0.112670  0.993490      csv\n",
            "1   0.304314   0.215854  0.147382     0.232777     0.265962  1.166289  feather\n",
            "3   0.328591   0.614316  0.264006     0.350514     0.089800  1.647227      jay\n",
            "5   0.367936   0.241556  0.151831     0.743909     0.919475  2.424707  parquet\n",
            "2   0.594967   0.620534  0.899767     0.298907     0.246531  2.660706      hdf\n"
          ]
        }
      ]
    },
    {
      "cell_type": "code",
      "source": [
        "fig = plt.figure(figsize=(24,11))\n",
        "for i in range(1, 6) :\n",
        "  plt.subplot(2, 3, i)\n",
        "  plt.bar(res['file'].values, res[res.columns[i-1]].values)\n",
        "  plt.title(res.columns[i-1])\n",
        "  plt.xlabel(\"Files\")\n",
        "  plt.ylabel(\"Scores\")\n",
        "\n",
        "plt.savefig('results/features.png')"
      ],
      "metadata": {
        "colab": {
          "base_uri": "https://localhost:8080/",
          "height": 545
        },
        "id": "H-Sf5eC9qIBZ",
        "outputId": "a33e3214-b29e-4d34-9aaa-332a6d2b7236"
      },
      "execution_count": 150,
      "outputs": [
        {
          "output_type": "display_data",
          "data": {
            "text/plain": [
              "<Figure size 1728x792 with 5 Axes>"
            ],
            "image/png": "[encoded data removed]"
          },
          "metadata": {
            "needs_background": "light"
          }
        }
      ]
    },
    {
      "cell_type": "code",
      "source": [
        "fig = plt.figure(figsize=(15,7))\n",
        "x = np.arange(7)\n",
        "width = 0.1\n",
        "plt.bar(x-0.2, res['save_time'].values, width, color='cyan')\n",
        "plt.bar(x-0.1, res['load_time'].values, width, color='orange')\n",
        "plt.bar(x, res['save_memory'].values, width, color='green')\n",
        "plt.bar(x+0.1, res['load_memory'].values, width, color='brown')\n",
        "plt.bar(x+0.2, res['size'].values, width, color='slateblue')\n",
        "plt.xticks(x, res['file'].values)\n",
        "plt.xlabel(\"Files\")\n",
        "plt.ylabel(\"Scores\")\n",
        "plt.title('Results sorted by final rank')\n",
        "plt.legend([\"Saving time\", \"Loading time\", \"Saving memory\", \"Loading memory\", \"Size\"])\n",
        "plt.savefig('results/all features.png')"
      ],
      "metadata": {
        "colab": {
          "base_uri": "https://localhost:8080/",
          "height": 458
        },
        "id": "_xvIDKpZoqSy",
        "outputId": "28511507-b444-49c2-e841-6ef3bc25bb71"
      },
      "execution_count": 151,
      "outputs": [
        {
          "output_type": "display_data",
          "data": {
            "text/plain": [
              "<Figure size 1080x504 with 1 Axes>"
            ],
            "image/png": "[encoded data removed]"
          },
          "metadata": {
            "needs_background": "light"
          }
        }
      ]
    },
    {
      "cell_type": "code",
      "source": [
        "fig = plt.figure(figsize=(10,7))\n",
        "plt.bar(res['file'].values, res['sum'].values)\n",
        "plt.title(\"Result\")\n",
        "plt.xlabel(\"Files\")\n",
        "plt.ylabel(\"Scores\")\n",
        "\n",
        "plt.savefig('results/result.png')"
      ],
      "metadata": {
        "colab": {
          "base_uri": "https://localhost:8080/",
          "height": 458
        },
        "id": "nFx-w-yYG6nb",
        "outputId": "41e59d6a-8349-4ff4-b4d0-8aeaeb534b1d"
      },
      "execution_count": 152,
      "outputs": [
        {
          "output_type": "display_data",
          "data": {
            "text/plain": [
              "<Figure size 720x504 with 1 Axes>"
            ],
            "image/png": "[encoded data removed]"
          },
          "metadata": {
            "needs_background": "light"
          }
        }
      ]
    }
  ]
}