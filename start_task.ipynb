{
  "nbformat": 4,
  "nbformat_minor": 0,
  "metadata": {
    "colab": {
      "provenance": []
    },
    "kernelspec": {
      "name": "python3",
      "display_name": "Python 3"
    },
    "language_info": {
      "name": "python"
    }
  },
  "cells": [
    {
      "cell_type": "code",
      "source": [
        "pip install datatable"
      ],
      "metadata": {
        "colab": {
          "base_uri": "https://localhost:8080/"
        },
        "id": "1Se4X21X2JeV",
        "outputId": "81ee8313-970c-4ba9-db02-e84a93b9911e"
      },
      "execution_count": 1,
      "outputs": [
        {
          "output_type": "stream",
          "name": "stdout",
          "text": [
            "Looking in indexes: https://pypi.org/simple, https://us-python.pkg.dev/colab-wheels/public/simple/\n",
            "Requirement already satisfied: datatable in /usr/local/lib/python3.7/dist-packages (1.0.0)\n"
          ]
        }
      ]
    },
    {
      "cell_type": "code",
      "source": [
        "pip install memory_profiler"
      ],
      "metadata": {
        "colab": {
          "base_uri": "https://localhost:8080/"
        },
        "id": "nMaZ4wr7xYbf",
        "outputId": "5c8f4c2d-cac0-49f6-c7e9-f62b6f18d818"
      },
      "execution_count": 2,
      "outputs": [
        {
          "output_type": "stream",
          "name": "stdout",
          "text": [
            "Looking in indexes: https://pypi.org/simple, https://us-python.pkg.dev/colab-wheels/public/simple/\n",
            "Requirement already satisfied: memory_profiler in /usr/local/lib/python3.7/dist-packages (0.60.0)\n",
            "Requirement already satisfied: psutil in /usr/local/lib/python3.7/dist-packages (from memory_profiler) (5.4.8)\n"
          ]
        }
      ]
    },
    {
      "cell_type": "code",
      "source": [
        "import pandas as pd\n",
        "import numpy as np\n",
        "import random\n",
        "import string\n",
        "from datetime import datetime\n",
        "import time\n",
        "import os\n",
        "from matplotlib import pyplot as plt\n",
        "import h5py\n",
        "import warnings\n",
        "import datatable as dt\n",
        "import msgpack\n",
        "import memory_profiler\n",
        "from sklearn import preprocessing\n",
        "import distutils\n",
        "warnings.simplefilter(action='ignore', category=FutureWarning)\n",
        "from tables import NaturalNameWarning\n",
        "warnings.filterwarnings('ignore', category=NaturalNameWarning)"
      ],
      "metadata": {
        "id": "HA9nkY5a2EEU",
        "colab": {
          "base_uri": "https://localhost:8080/",
          "height": 17
        },
        "outputId": "7fd373d1-68c7-4060-ac2f-98a8dced6ea2"
      },
      "execution_count": 3,
      "outputs": [
        {
          "output_type": "display_data",
          "data": {
            "text/plain": [
              "<IPython.core.display.HTML object>"
            ],
            "text/html": [
              "<style type='text/css'>\n",
              ".datatable table.frame { margin-bottom: 0; }\n",
              ".datatable table.frame thead { border-bottom: none; }\n",
              ".datatable table.frame tr.coltypes td {  color: #FFFFFF;  line-height: 6px;  padding: 0 0.5em;}\n",
              ".datatable .bool    { background: #DDDD99; }\n",
              ".datatable .object  { background: #565656; }\n",
              ".datatable .int     { background: #5D9E5D; }\n",
              ".datatable .float   { background: #4040CC; }\n",
              ".datatable .str     { background: #CC4040; }\n",
              ".datatable .time    { background: #40CC40; }\n",
              ".datatable .row_index {  background: var(--jp-border-color3);  border-right: 1px solid var(--jp-border-color0);  color: var(--jp-ui-font-color3);  font-size: 9px;}\n",
              ".datatable .frame tbody td { text-align: left; }\n",
              ".datatable .frame tr.coltypes .row_index {  background: var(--jp-border-color0);}\n",
              ".datatable th:nth-child(2) { padding-left: 12px; }\n",
              ".datatable .hellipsis {  color: var(--jp-cell-editor-border-color);}\n",
              ".datatable .vellipsis {  background: var(--jp-layout-color0);  color: var(--jp-cell-editor-border-color);}\n",
              ".datatable .na {  color: var(--jp-cell-editor-border-color);  font-size: 80%;}\n",
              ".datatable .sp {  opacity: 0.25;}\n",
              ".datatable .footer { font-size: 9px; }\n",
              ".datatable .frame_dimensions {  background: var(--jp-border-color3);  border-top: 1px solid var(--jp-border-color0);  color: var(--jp-ui-font-color3);  display: inline-block;  opacity: 0.6;  padding: 1px 10px 1px 5px;}\n",
              "</style>\n"
            ]
          },
          "metadata": {}
        }
      ]
    },
    {
      "cell_type": "code",
      "source": [
        "os.mkdir(\"results\")"
      ],
      "metadata": {
        "id": "SWA-y4l5JCSH"
      },
      "execution_count": null,
      "outputs": []
    },
    {
      "cell_type": "code",
      "source": [
        "types = ['int', 'float', 'string', 'boolean', 'datetime64[ns]']\n",
        "num_iterations = 10"
      ],
      "metadata": {
        "id": "30UXtnb-uwnu"
      },
      "execution_count": 4,
      "outputs": []
    },
    {
      "cell_type": "markdown",
      "source": [
        "Генерация колонок"
      ],
      "metadata": {
        "id": "XKiuX_f2g2VW"
      }
    },
    {
      "cell_type": "code",
      "source": [
        "def column(column_type, length) :\n",
        "  if types[column_type] == 'int' :\n",
        "    return int_column(length)\n",
        "  elif types[column_type] == 'float':\n",
        "    return float_column(length)\n",
        "  elif types[column_type] == 'boolean' :\n",
        "    return boolean_column(length)\n",
        "  elif types[column_type] == 'string' :\n",
        "    return string_column(length)\n",
        "  elif types[column_type] == 'datetime64[ns]' :\n",
        "    return date_column(length)\n",
        "\n",
        "def int_column(length) :\n",
        "  column = []\n",
        "  for i in range(length) :\n",
        "    column.append(random.randint(-2147483648, 2147483647))\n",
        "  return column\n",
        "\n",
        "def float_column(length) :\n",
        "  column = []\n",
        "  for i in range(length) :\n",
        "    column.append(random.uniform(-100, 100))\n",
        "  return column\n",
        "\n",
        "def boolean_column(length) :\n",
        "  column = []\n",
        "  for i in range(length) :\n",
        "    column.append(bool(random.randint(0,1)))\n",
        "  return column\n",
        "\n",
        "def string_column(length) :\n",
        "  column = []\n",
        "  letters = string.ascii_lowercase\n",
        "  for i in range(length) :\n",
        "    column.append(''.join([random.choice(letters) for j in range(random.randint(0,10))]))\n",
        "  return column\n",
        "\n",
        "def date_column(length) :\n",
        "  column = []\n",
        "  for i in range(length) :\n",
        "    column.append(datetime.fromtimestamp(random.randint(0, round(time.time()))).strftime(\"%Y-%m-%d\"))\n",
        "  return column"
      ],
      "metadata": {
        "id": "K-DbUz5Yg1oN"
      },
      "execution_count": 5,
      "outputs": []
    },
    {
      "cell_type": "markdown",
      "source": [
        "Функции записи и чтения файлов"
      ],
      "metadata": {
        "id": "j36cumTniRsQ"
      }
    },
    {
      "cell_type": "code",
      "source": [
        "def read_csv(filename):\n",
        "  ds = pd.read_csv(filename)\n",
        "  return(to_correct_date(ds))\n",
        "  \n",
        "def write_hdf(filename, ds) :\n",
        "  for i in range(len(ds.columns)) :\n",
        "    if (ds.dtypes[i] == 'boolean') | ((ds.dtypes[i] == 'string')  | (ds.dtypes[i] == 'datetime64[ns]')) :\n",
        "      ds[ds.columns[i]] = ds[ds.columns[i]].astype(str)#.convert_objects()#.astype(object)\n",
        "      h = 0\n",
        "  ds.to_hdf(filename, key='ds', format='table', data_columns=True)\n",
        "\n",
        "def read_hdf(filename) :\n",
        "  ds = pd.read_hdf(filename)\n",
        "  return to_correct_types(ds)\n",
        "\n",
        "def write_jay(filename, ds) :\n",
        "  ddt = dt.Frame([i.astype(str) for i in ds.values])\n",
        "  ddt.names = list(ds.columns)\n",
        "  ddt.to_jay(filename, method='auto')\n",
        "\n",
        "def read_jay(filename) :\n",
        "  ddt = dt.fread(filename)\n",
        "  ds = ddt.to_pandas()\n",
        "  col = ds.columns\n",
        "  ind = ds.index\n",
        "  ds = ds.T\n",
        "  ds.columns = col\n",
        "  ds.index = ind\n",
        "  return to_correct_types(ds)\n",
        "\n",
        "def write_msgpack(filename, ds) :\n",
        "\n",
        "  for i in range(len(ds.columns)) :\n",
        "    if ds.dtypes[i] == 'datetime64[ns]' :\n",
        "      ds[ds.columns[i]] = ds[ds.columns[i]].astype('string')\n",
        "\n",
        "  with open(filename, \"wb\") as outfile:\n",
        "    packed = msgpack.packb(ds.to_dict())\n",
        "    outfile.write(packed)\n",
        "\n",
        "def read_msgpack(filename) :\n",
        "  with open(filename, \"rb\") as data_file:\n",
        "    byte_data = data_file.read()\n",
        "    data_loaded = msgpack.unpackb(byte_data, strict_map_key=False)\n",
        "    return to_correct_date(pd.DataFrame(data_loaded))"
      ],
      "metadata": {
        "id": "zTD7xi_t2aAZ"
      },
      "execution_count": 23,
      "outputs": []
    },
    {
      "cell_type": "markdown",
      "source": [
        "Приведение данных к корректным типам после чтения"
      ],
      "metadata": {
        "id": "VhGCKxDRiQz7"
      }
    },
    {
      "cell_type": "code",
      "source": [
        "def to_correct_types(ds) :\n",
        "  for i in range(len(ds.columns)) :\n",
        "    try :\n",
        "      ds[ds.columns[i]] = [eval(i) for i in ds[ds.columns[i]]]\n",
        "    except :\n",
        "      try :\n",
        "        ds[ds.columns[i]] = ds[ds.columns[i]].astype('int')\n",
        "      except :\n",
        "        try :\n",
        "          ds[ds.columns[i]] = ds[ds.columns[i]].astype('float64')\n",
        "        except :\n",
        "          try:\n",
        "            ds[ds.columns[i]] = ds[ds.columns[i]].astype('datetime64[ns]')\n",
        "          except:\n",
        "            ds[ds.columns[i]] = ds[ds.columns[i]].astype('string')\n",
        "  return ds\n",
        "\n",
        "def to_correct_date(ds) :\n",
        "  for i in range(len(ds.columns)) :\n",
        "    if ds.dtypes[i] == 'object' :\n",
        "      try:\n",
        "        ds[ds.columns[i]] = ds[ds.columns[i]].astype('datetime64[ns]')\n",
        "      except:\n",
        "        ds[ds.columns[i]] = ds[ds.columns[i]].astype('string')\n",
        "  return ds"
      ],
      "metadata": {
        "id": "7JDdtoJWiQXo"
      },
      "execution_count": 7,
      "outputs": []
    },
    {
      "cell_type": "markdown",
      "source": [
        "Запись файлов"
      ],
      "metadata": {
        "id": "vrBPISwUj3dR"
      }
    },
    {
      "cell_type": "code",
      "source": [
        "def saving(ds, name) :\n",
        "  before_csv = memory_profiler.memory_usage()[0]\n",
        "  start_csv = datetime.now()\n",
        "  ds.to_csv('results/' + name + '.csv', index=False)\n",
        "\n",
        "  before_feather = memory_profiler.memory_usage()[0]\n",
        "  start_feather = datetime.now()\n",
        "  ds.reset_index(drop=True).to_feather('results/' + name + '.feather')\n",
        "\n",
        "  dss = ds.copy()\n",
        "  before_hdf = memory_profiler.memory_usage()[0]\n",
        "  start_hdf = datetime.now()\n",
        "  write_hdf('results/' + name + '.hdf5', dss)\n",
        "\n",
        "  dss = ds.copy()\n",
        "  before_msgpack = memory_profiler.memory_usage()[0]\n",
        "  start_msgpack = datetime.now()\n",
        "  write_msgpack('results/' + name + '.msg', dss)\n",
        "\n",
        "  before_parquet = memory_profiler.memory_usage()[0]\n",
        "  start_parquet = datetime.now()\n",
        "  ds.to_parquet('results/' + name + '.gzip', compression='gzip')\n",
        "\n",
        "  before_pickle = memory_profiler.memory_usage()[0]\n",
        "  start_pickle = datetime.now()\n",
        "  ds.to_pickle('results/' + name + '.pkl')\n",
        "\n",
        "  dss = ds.copy()\n",
        "  before_jay = memory_profiler.memory_usage()[0]\n",
        "  start_jay = datetime.now()\n",
        "  write_jay('results/' + name + '.jay', dss)\n",
        "\n",
        "  after = memory_profiler.memory_usage()[0]\n",
        "  end_time = datetime.now()\n",
        "\n",
        "\n",
        "  result = pd.DataFrame()\n",
        "  result['file'] = ['csv', 'feather', 'hdf', 'msgpack', 'parquet', 'pickle', 'jay']\n",
        "  result['save_time'] = [(start_feather - start_csv).microseconds, (start_hdf - start_feather).microseconds,\n",
        "                        (start_msgpack - start_hdf).microseconds, (start_parquet - start_msgpack).microseconds,\n",
        "                        (start_pickle - start_parquet).microseconds, (start_jay - start_pickle).microseconds,\n",
        "                        (end_time - start_jay).microseconds]\n",
        "  result['save_memory'] = [abs(before_feather - before_csv), abs(before_hdf - before_feather),\n",
        "                          abs(before_msgpack - before_hdf), abs(before_parquet - before_msgpack),\n",
        "                          abs(before_pickle - before_parquet), abs(before_jay - before_pickle),\n",
        "                          abs(after - before_jay)]\n",
        "  return result"
      ],
      "metadata": {
        "id": "gcJ_Tf28y7X0"
      },
      "execution_count": 8,
      "outputs": []
    },
    {
      "cell_type": "markdown",
      "source": [
        "Чтение файлов"
      ],
      "metadata": {
        "id": "CPof9Gfdj5ck"
      }
    },
    {
      "cell_type": "code",
      "source": [
        "def loading(ds, result, name) :\n",
        "  before_csv = memory_profiler.memory_usage()[0]\n",
        "  start_csv = datetime.now()\n",
        "  ds = pd.read_csv('results/' + name + '.csv')\n",
        "\n",
        "  before_feather = memory_profiler.memory_usage()[0]\n",
        "  start_feather = datetime.now()\n",
        "  ds = pd.read_feather('results/' + name + '.feather')\n",
        "\n",
        "  before_hdf = memory_profiler.memory_usage()[0]\n",
        "  start_hdf = datetime.now()\n",
        "  ds = read_hdf('results/' + name + '.hdf5')\n",
        "\n",
        "  before_msgpack = memory_profiler.memory_usage()[0]\n",
        "  start_msgpack = datetime.now()\n",
        "  ds = read_msgpack('results/' + name + '.msg')\n",
        "\n",
        "  before_parquet = memory_profiler.memory_usage()[0]\n",
        "  start_parquet = datetime.now()\n",
        "  ds = pd.read_parquet('results/' + name + '.gzip')\n",
        "\n",
        "  before_pickle = memory_profiler.memory_usage()[0]\n",
        "  start_pickle = datetime.now()\n",
        "  ds = pd.read_pickle('results/' + name + '.pkl')\n",
        "\n",
        "  before_jay = memory_profiler.memory_usage()[0]\n",
        "  start_jay = datetime.now()\n",
        "  ds = read_jay('results/' + name + '.jay')\n",
        "\n",
        "  after = memory_profiler.memory_usage()[0]\n",
        "  end_time = datetime.now()\n",
        "\n",
        "  result['load_time'] = [(start_feather - start_csv).microseconds, (start_hdf - start_feather).microseconds,\n",
        "                        (start_msgpack - start_hdf).microseconds, (start_parquet - start_msgpack).microseconds,\n",
        "                        (start_pickle - start_parquet).microseconds, (start_jay - start_pickle).microseconds,\n",
        "                        (end_time - start_jay).microseconds]\n",
        "\n",
        "  result['load_memory'] = [abs(before_feather - before_csv), abs(before_hdf - before_feather),\n",
        "                          abs(before_msgpack - before_hdf), abs(before_parquet - before_msgpack),\n",
        "                          abs(before_pickle - before_parquet), abs(before_jay - before_pickle),\n",
        "                          abs(after - before_jay)]\n",
        "  return result"
      ],
      "metadata": {
        "id": "A7gkCnNAzZ0q"
      },
      "execution_count": 9,
      "outputs": []
    },
    {
      "cell_type": "markdown",
      "source": [
        "Генерация датасета"
      ],
      "metadata": {
        "id": "PhKnZQ8Kkwtt"
      }
    },
    {
      "cell_type": "code",
      "source": [
        "def generate_dataset(types) :\n",
        "  ds = pd.DataFrame()\n",
        "  columns_num = 256\n",
        "  rows_num = 256\n",
        "\n",
        "  for i in range(columns_num) :\n",
        "    type_ = random.randint(0, len(types)-1)\n",
        "    ds = pd.concat([ds, pd.DataFrame(column(type_, rows_num), columns=['col' + str(i) + \"_\" + types[type_]])], axis=1)\n",
        "    ds.iloc[:, -1] = ds.iloc[:, -1].astype(types[type_])\n",
        "    if types[type_] == 'datetime64[ns]' :\n",
        "      ds[ds.columns[i]] = ds[ds.columns[i]].dt.tz_localize(None)\n",
        "  return ds"
      ],
      "metadata": {
        "id": "jlzdqYFMkykD"
      },
      "execution_count": 10,
      "outputs": []
    },
    {
      "cell_type": "markdown",
      "source": [
        "Результаты по одной итерации"
      ],
      "metadata": {
        "id": "EMSlWM5okwn5"
      }
    },
    {
      "cell_type": "code",
      "source": [
        "def iteration_result(name, types) :\n",
        "  ds = generate_dataset(types)\n",
        "  result = saving(ds, name)\n",
        "  result['size'] = [os.stat('results/' + name + '.csv').st_size, os.stat('results/' + name + '.feather').st_size,\n",
        "                   os.stat('results/' + name + '.hdf5').st_size, os.stat('results/' + name + '.msg').st_size,\n",
        "                   os.stat('results/' + name + '.gzip').st_size, os.stat('results/' + name + '.pkl').st_size, os.stat('results/' + name + '.jay').st_size]   \n",
        "  result = loading(ds, result, name)\n",
        "  return result"
      ],
      "metadata": {
        "id": "EMT0nvOt2a1k"
      },
      "execution_count": 11,
      "outputs": []
    },
    {
      "cell_type": "markdown",
      "source": [
        "Средние результаты по всем итерациям"
      ],
      "metadata": {
        "id": "0mHy1Cyfnh6D"
      }
    },
    {
      "cell_type": "code",
      "source": [
        "def final_result(name, types) :\n",
        "  result = pd.DataFrame(columns=['file', 'save_time', 'save_memory', 'load_time', 'load_memory', 'size'])\n",
        "  for i in range(num_iterations) :\n",
        "     result = pd.concat([result, iteration_result(name, types)])\n",
        "     print(str(i) + ' iteration finished')\n",
        "\n",
        "  res = pd.concat([result[['file', 'save_time', 'load_time', 'size']].groupby('file', as_index=False).mean(), result[['file', 'save_memory', 'load_memory']].groupby('file', as_index=False).mean()], axis=1)\n",
        "  files = res['file']\n",
        "  res = res.drop(res.columns[0], axis=1)\n",
        "\n",
        "  for i in range(len(res.columns)) :\n",
        "    try:\n",
        "      res[res.columns[i]] = preprocessing.normalize(res[res.columns[i]].values.reshape(1, -1))[0]\n",
        "    except :\n",
        "      's' \n",
        "\n",
        "  res['sum'] = res['save_time'] + res['load_time'] + res['size'] + res['save_memory'] + res['load_memory']\n",
        "  res['file'] = files.iloc[:,0]\n",
        "  res = res.sort_values(by='sum')\n",
        "  #print(res)\n",
        "  return res"
      ],
      "metadata": {
        "id": "a5StXDDq2gQJ"
      },
      "execution_count": 12,
      "outputs": []
    },
    {
      "cell_type": "code",
      "source": [
        "def features(res, name) :\n",
        "  fig = plt.figure(figsize=(24,11))\n",
        "  for i in range(1, 6) :\n",
        "    plt.subplot(2, 3, i)\n",
        "    plt.bar(res['file'].values, res[res.columns[i-1]].values)\n",
        "    plt.title(res.columns[i-1])\n",
        "    plt.xlabel(\"Files\")\n",
        "    plt.ylabel(\"Scores\")\n",
        "\n",
        "  plt.savefig('results/features_' + name + '.png')"
      ],
      "metadata": {
        "id": "D1-vwu14p6f7"
      },
      "execution_count": 13,
      "outputs": []
    },
    {
      "cell_type": "code",
      "source": [
        "def all_features(res, name) :\n",
        "  fig = plt.figure(figsize=(15,7))\n",
        "  x = np.arange(7)\n",
        "  width = 0.1\n",
        "  plt.bar(x-0.2, res['save_time'].values, width, color='cyan')\n",
        "  plt.bar(x-0.1, res['load_time'].values, width, color='orange')\n",
        "  plt.bar(x, res['save_memory'].values, width, color='green')\n",
        "  plt.bar(x+0.1, res['load_memory'].values, width, color='brown')\n",
        "  plt.bar(x+0.2, res['size'].values, width, color='slateblue')\n",
        "  plt.xticks(x, res['file'].values)\n",
        "  plt.xlabel(\"Files\")\n",
        "  plt.ylabel(\"Scores\")\n",
        "  plt.title('Results sorted by final rank')\n",
        "  plt.legend([\"Saving time\", \"Loading time\", \"Saving memory\", \"Loading memory\", \"Size\"])\n",
        "  plt.savefig('results/all features_' + name + '.png')"
      ],
      "metadata": {
        "id": "9lqXFE3RqI3U"
      },
      "execution_count": 14,
      "outputs": []
    },
    {
      "cell_type": "code",
      "source": [
        "def result_graph(res, name) :\n",
        "  fig = plt.figure(figsize=(10,7))\n",
        "  plt.bar(res['file'].values, res['sum'].values)\n",
        "  plt.title(\"Result\")\n",
        "  plt.xlabel(\"Files\")\n",
        "  plt.ylabel(\"Scores\")\n",
        "\n",
        "  plt.savefig('results/result_' + name + '.png')"
      ],
      "metadata": {
        "id": "0EXr2qyCqlEq"
      },
      "execution_count": 15,
      "outputs": []
    },
    {
      "cell_type": "markdown",
      "source": [
        "<h1>Данные разных типов</h1>"
      ],
      "metadata": {
        "id": "pIEA7gl4huL5"
      }
    },
    {
      "cell_type": "code",
      "source": [
        "res = final_result('dataset', types)\n",
        "res"
      ],
      "metadata": {
        "colab": {
          "base_uri": "https://localhost:8080/",
          "height": 442
        },
        "id": "rk8Jr1eFpWFR",
        "outputId": "9462aa5e-5c49-4c7c-d850-3e90563d6e90"
      },
      "execution_count": 24,
      "outputs": [
        {
          "output_type": "stream",
          "name": "stdout",
          "text": [
            "0 iteration finished\n",
            "1 iteration finished\n",
            "2 iteration finished\n",
            "3 iteration finished\n",
            "4 iteration finished\n",
            "5 iteration finished\n",
            "6 iteration finished\n",
            "7 iteration finished\n",
            "8 iteration finished\n",
            "9 iteration finished\n"
          ]
        },
        {
          "output_type": "execute_result",
          "data": {
            "text/plain": [
              "   save_time  load_time      size  save_memory  load_memory       sum     file\n",
              "6   0.162578   0.120712  0.100694     0.000000     0.000000  0.383984   pickle\n",
              "4   0.548129   0.339026  0.109657     0.000000     0.000000  0.996813  msgpack\n",
              "1   0.220283   0.135947  0.111312     0.387972     0.409683  1.265196  feather\n",
              "0   0.348748   0.145661  0.142395     0.509433     0.195856  1.342093      csv\n",
              "3   0.388290   0.716972  0.212615     0.161948     0.329465  1.809291      jay\n",
              "5   0.255409   0.165237  0.114424     0.530909     0.796185  1.862164  parquet\n",
              "2   0.535696   0.537995  0.941738     0.530909     0.226589  2.772927      hdf"
            ],
            "text/html": [
              "\n",
              "  <div id=\"df-a776982a-b759-4296-9633-9fbed291b859\">\n",
              "    <div class=\"colab-df-container\">\n",
              "      <div>\n",
              "<style scoped>\n",
              "    .dataframe tbody tr th:only-of-type {\n",
              "        vertical-align: middle;\n",
              "    }\n",
              "\n",
              "    .dataframe tbody tr th {\n",
              "        vertical-align: top;\n",
              "    }\n",
              "\n",
              "    .dataframe thead th {\n",
              "        text-align: right;\n",
              "    }\n",
              "</style>\n",
              "<table border=\"1\" class=\"dataframe\">\n",
              "  <thead>\n",
              "    <tr style=\"text-align: right;\">\n",
              "      <th></th>\n",
              "      <th>save_time</th>\n",
              "      <th>load_time</th>\n",
              "      <th>size</th>\n",
              "      <th>save_memory</th>\n",
              "      <th>load_memory</th>\n",
              "      <th>sum</th>\n",
              "      <th>file</th>\n",
              "    </tr>\n",
              "  </thead>\n",
              "  <tbody>\n",
              "    <tr>\n",
              "      <th>6</th>\n",
              "      <td>0.162578</td>\n",
              "      <td>0.120712</td>\n",
              "      <td>0.100694</td>\n",
              "      <td>0.000000</td>\n",
              "      <td>0.000000</td>\n",
              "      <td>0.383984</td>\n",
              "      <td>pickle</td>\n",
              "    </tr>\n",
              "    <tr>\n",
              "      <th>4</th>\n",
              "      <td>0.548129</td>\n",
              "      <td>0.339026</td>\n",
              "      <td>0.109657</td>\n",
              "      <td>0.000000</td>\n",
              "      <td>0.000000</td>\n",
              "      <td>0.996813</td>\n",
              "      <td>msgpack</td>\n",
              "    </tr>\n",
              "    <tr>\n",
              "      <th>1</th>\n",
              "      <td>0.220283</td>\n",
              "      <td>0.135947</td>\n",
              "      <td>0.111312</td>\n",
              "      <td>0.387972</td>\n",
              "      <td>0.409683</td>\n",
              "      <td>1.265196</td>\n",
              "      <td>feather</td>\n",
              "    </tr>\n",
              "    <tr>\n",
              "      <th>0</th>\n",
              "      <td>0.348748</td>\n",
              "      <td>0.145661</td>\n",
              "      <td>0.142395</td>\n",
              "      <td>0.509433</td>\n",
              "      <td>0.195856</td>\n",
              "      <td>1.342093</td>\n",
              "      <td>csv</td>\n",
              "    </tr>\n",
              "    <tr>\n",
              "      <th>3</th>\n",
              "      <td>0.388290</td>\n",
              "      <td>0.716972</td>\n",
              "      <td>0.212615</td>\n",
              "      <td>0.161948</td>\n",
              "      <td>0.329465</td>\n",
              "      <td>1.809291</td>\n",
              "      <td>jay</td>\n",
              "    </tr>\n",
              "    <tr>\n",
              "      <th>5</th>\n",
              "      <td>0.255409</td>\n",
              "      <td>0.165237</td>\n",
              "      <td>0.114424</td>\n",
              "      <td>0.530909</td>\n",
              "      <td>0.796185</td>\n",
              "      <td>1.862164</td>\n",
              "      <td>parquet</td>\n",
              "    </tr>\n",
              "    <tr>\n",
              "      <th>2</th>\n",
              "      <td>0.535696</td>\n",
              "      <td>0.537995</td>\n",
              "      <td>0.941738</td>\n",
              "      <td>0.530909</td>\n",
              "      <td>0.226589</td>\n",
              "      <td>2.772927</td>\n",
              "      <td>hdf</td>\n",
              "    </tr>\n",
              "  </tbody>\n",
              "</table>\n",
              "</div>\n",
              "      <button class=\"colab-df-convert\" onclick=\"convertToInteractive('df-a776982a-b759-4296-9633-9fbed291b859')\"\n",
              "              title=\"Convert this dataframe to an interactive table.\"\n",
              "              style=\"display:none;\">\n",
              "        \n",
              "  <svg xmlns=\"http://www.w3.org/2000/svg\" height=\"24px\"viewBox=\"0 0 24 24\"\n",
              "       width=\"24px\">\n",
              "    <path d=\"M0 0h24v24H0V0z\" fill=\"none\"/>\n",
              "    <path d=\"M18.56 5.44l.94 2.06.94-2.06 2.06-.94-2.06-.94-.94-2.06-.94 2.06-2.06.94zm-11 1L8.5 8.5l.94-2.06 2.06-.94-2.06-.94L8.5 2.5l-.94 2.06-2.06.94zm10 10l.94 2.06.94-2.06 2.06-.94-2.06-.94-.94-2.06-.94 2.06-2.06.94z\"/><path d=\"M17.41 7.96l-1.37-1.37c-.4-.4-.92-.59-1.43-.59-.52 0-1.04.2-1.43.59L10.3 9.45l-7.72 7.72c-.78.78-.78 2.05 0 2.83L4 21.41c.39.39.9.59 1.41.59.51 0 1.02-.2 1.41-.59l7.78-7.78 2.81-2.81c.8-.78.8-2.07 0-2.86zM5.41 20L4 18.59l7.72-7.72 1.47 1.35L5.41 20z\"/>\n",
              "  </svg>\n",
              "      </button>\n",
              "      \n",
              "  <style>\n",
              "    .colab-df-container {\n",
              "      display:flex;\n",
              "      flex-wrap:wrap;\n",
              "      gap: 12px;\n",
              "    }\n",
              "\n",
              "    .colab-df-convert {\n",
              "      background-color: #E8F0FE;\n",
              "      border: none;\n",
              "      border-radius: 50%;\n",
              "      cursor: pointer;\n",
              "      display: none;\n",
              "      fill: #1967D2;\n",
              "      height: 32px;\n",
              "      padding: 0 0 0 0;\n",
              "      width: 32px;\n",
              "    }\n",
              "\n",
              "    .colab-df-convert:hover {\n",
              "      background-color: #E2EBFA;\n",
              "      box-shadow: 0px 1px 2px rgba(60, 64, 67, 0.3), 0px 1px 3px 1px rgba(60, 64, 67, 0.15);\n",
              "      fill: #174EA6;\n",
              "    }\n",
              "\n",
              "    [theme=dark] .colab-df-convert {\n",
              "      background-color: #3B4455;\n",
              "      fill: #D2E3FC;\n",
              "    }\n",
              "\n",
              "    [theme=dark] .colab-df-convert:hover {\n",
              "      background-color: #434B5C;\n",
              "      box-shadow: 0px 1px 3px 1px rgba(0, 0, 0, 0.15);\n",
              "      filter: drop-shadow(0px 1px 2px rgba(0, 0, 0, 0.3));\n",
              "      fill: #FFFFFF;\n",
              "    }\n",
              "  </style>\n",
              "\n",
              "      <script>\n",
              "        const buttonEl =\n",
              "          document.querySelector('#df-a776982a-b759-4296-9633-9fbed291b859 button.colab-df-convert');\n",
              "        buttonEl.style.display =\n",
              "          google.colab.kernel.accessAllowed ? 'block' : 'none';\n",
              "\n",
              "        async function convertToInteractive(key) {\n",
              "          const element = document.querySelector('#df-a776982a-b759-4296-9633-9fbed291b859');\n",
              "          const dataTable =\n",
              "            await google.colab.kernel.invokeFunction('convertToInteractive',\n",
              "                                                     [key], {});\n",
              "          if (!dataTable) return;\n",
              "\n",
              "          const docLinkHtml = 'Like what you see? Visit the ' +\n",
              "            '<a target=\"_blank\" href=https://colab.research.google.com/notebooks/data_table.ipynb>data table notebook</a>'\n",
              "            + ' to learn more about interactive tables.';\n",
              "          element.innerHTML = '';\n",
              "          dataTable['output_type'] = 'display_data';\n",
              "          await google.colab.output.renderOutput(dataTable, element);\n",
              "          const docLink = document.createElement('div');\n",
              "          docLink.innerHTML = docLinkHtml;\n",
              "          element.appendChild(docLink);\n",
              "        }\n",
              "      </script>\n",
              "    </div>\n",
              "  </div>\n",
              "  "
            ]
          },
          "metadata": {},
          "execution_count": 24
        }
      ]
    },
    {
      "cell_type": "code",
      "source": [
        "features(res, 'different types')"
      ],
      "metadata": {
        "id": "o7P0zhBzqGp0",
        "colab": {
          "base_uri": "https://localhost:8080/",
          "height": 545
        },
        "outputId": "23f81258-5bc6-4fa4-ef02-f717cdc81150"
      },
      "execution_count": 25,
      "outputs": [
        {
          "output_type": "display_data",
          "data": {
            "text/plain": [
              "<Figure size 1728x792 with 5 Axes>"
            ],
            "image/png": "[encoded data removed]"
          },
          "metadata": {
            "needs_background": "light"
          }
        }
      ]
    },
    {
      "cell_type": "code",
      "source": [
        "all_features(res, 'different types')"
      ],
      "metadata": {
        "id": "x-7UOJJqq3_B",
        "colab": {
          "base_uri": "https://localhost:8080/",
          "height": 458
        },
        "outputId": "1b983d6d-3f22-4fdc-c716-b31438f33442"
      },
      "execution_count": 26,
      "outputs": [
        {
          "output_type": "display_data",
          "data": {
            "text/plain": [
              "<Figure size 1080x504 with 1 Axes>"
            ],
            "image/png": "[encoded data removed]"
          },
          "metadata": {
            "needs_background": "light"
          }
        }
      ]
    },
    {
      "cell_type": "code",
      "source": [
        "result_graph(res, 'different types')"
      ],
      "metadata": {
        "colab": {
          "base_uri": "https://localhost:8080/",
          "height": 458
        },
        "id": "ukX3dVbJq4Xn",
        "outputId": "b75391d1-b512-411d-a79d-6330c9ecb46e"
      },
      "execution_count": 27,
      "outputs": [
        {
          "output_type": "display_data",
          "data": {
            "text/plain": [
              "<Figure size 720x504 with 1 Axes>"
            ],
            "image/png": "[encoded data removed]"
          },
          "metadata": {
            "needs_background": "light"
          }
        }
      ]
    },
    {
      "cell_type": "markdown",
      "source": [
        "<h1>Числовые данные</h1>"
      ],
      "metadata": {
        "id": "Q4M-FFmfh1K9"
      }
    },
    {
      "cell_type": "code",
      "source": [
        "res = final_result('numbers', ['int', 'float'])\n",
        "res"
      ],
      "metadata": {
        "id": "sHaagddGwwL5",
        "colab": {
          "base_uri": "https://localhost:8080/",
          "height": 442
        },
        "outputId": "edacbc17-12ac-4042-ec27-d8b9340fbc1f"
      },
      "execution_count": 28,
      "outputs": [
        {
          "output_type": "stream",
          "name": "stdout",
          "text": [
            "0 iteration finished\n",
            "1 iteration finished\n",
            "2 iteration finished\n",
            "3 iteration finished\n",
            "4 iteration finished\n",
            "5 iteration finished\n",
            "6 iteration finished\n",
            "7 iteration finished\n",
            "8 iteration finished\n",
            "9 iteration finished\n"
          ]
        },
        {
          "output_type": "execute_result",
          "data": {
            "text/plain": [
              "   save_time  load_time      size  save_memory  load_memory       sum     file\n",
              "6   0.149278   0.136280  0.119627     0.000000     0.000000  0.405185   pickle\n",
              "4   0.238548   0.200343  0.122238     0.000000     0.036326  0.597455  msgpack\n",
              "0   0.234292   0.160664  0.212467     0.077898     0.148838  0.834158      csv\n",
              "1   0.193052   0.141335  0.128714     0.252065     0.603675  1.318841  feather\n",
              "5   0.262646   0.164303  0.148574     0.084702     0.769162  1.429387  parquet\n",
              "3   0.202799   0.901044  0.273664     0.145592     0.142531  1.665630      jay\n",
              "2   0.847667   0.237962  0.901150     0.949749     0.013370  2.949899      hdf"
            ],
            "text/html": [
              "\n",
              "  <div id=\"df-dda8ac70-4cee-4f54-adf5-2326270cca33\">\n",
              "    <div class=\"colab-df-container\">\n",
              "      <div>\n",
              "<style scoped>\n",
              "    .dataframe tbody tr th:only-of-type {\n",
              "        vertical-align: middle;\n",
              "    }\n",
              "\n",
              "    .dataframe tbody tr th {\n",
              "        vertical-align: top;\n",
              "    }\n",
              "\n",
              "    .dataframe thead th {\n",
              "        text-align: right;\n",
              "    }\n",
              "</style>\n",
              "<table border=\"1\" class=\"dataframe\">\n",
              "  <thead>\n",
              "    <tr style=\"text-align: right;\">\n",
              "      <th></th>\n",
              "      <th>save_time</th>\n",
              "      <th>load_time</th>\n",
              "      <th>size</th>\n",
              "      <th>save_memory</th>\n",
              "      <th>load_memory</th>\n",
              "      <th>sum</th>\n",
              "      <th>file</th>\n",
              "    </tr>\n",
              "  </thead>\n",
              "  <tbody>\n",
              "    <tr>\n",
              "      <th>6</th>\n",
              "      <td>0.149278</td>\n",
              "      <td>0.136280</td>\n",
              "      <td>0.119627</td>\n",
              "      <td>0.000000</td>\n",
              "      <td>0.000000</td>\n",
              "      <td>0.405185</td>\n",
              "      <td>pickle</td>\n",
              "    </tr>\n",
              "    <tr>\n",
              "      <th>4</th>\n",
              "      <td>0.238548</td>\n",
              "      <td>0.200343</td>\n",
              "      <td>0.122238</td>\n",
              "      <td>0.000000</td>\n",
              "      <td>0.036326</td>\n",
              "      <td>0.597455</td>\n",
              "      <td>msgpack</td>\n",
              "    </tr>\n",
              "    <tr>\n",
              "      <th>0</th>\n",
              "      <td>0.234292</td>\n",
              "      <td>0.160664</td>\n",
              "      <td>0.212467</td>\n",
              "      <td>0.077898</td>\n",
              "      <td>0.148838</td>\n",
              "      <td>0.834158</td>\n",
              "      <td>csv</td>\n",
              "    </tr>\n",
              "    <tr>\n",
              "      <th>1</th>\n",
              "      <td>0.193052</td>\n",
              "      <td>0.141335</td>\n",
              "      <td>0.128714</td>\n",
              "      <td>0.252065</td>\n",
              "      <td>0.603675</td>\n",
              "      <td>1.318841</td>\n",
              "      <td>feather</td>\n",
              "    </tr>\n",
              "    <tr>\n",
              "      <th>5</th>\n",
              "      <td>0.262646</td>\n",
              "      <td>0.164303</td>\n",
              "      <td>0.148574</td>\n",
              "      <td>0.084702</td>\n",
              "      <td>0.769162</td>\n",
              "      <td>1.429387</td>\n",
              "      <td>parquet</td>\n",
              "    </tr>\n",
              "    <tr>\n",
              "      <th>3</th>\n",
              "      <td>0.202799</td>\n",
              "      <td>0.901044</td>\n",
              "      <td>0.273664</td>\n",
              "      <td>0.145592</td>\n",
              "      <td>0.142531</td>\n",
              "      <td>1.665630</td>\n",
              "      <td>jay</td>\n",
              "    </tr>\n",
              "    <tr>\n",
              "      <th>2</th>\n",
              "      <td>0.847667</td>\n",
              "      <td>0.237962</td>\n",
              "      <td>0.901150</td>\n",
              "      <td>0.949749</td>\n",
              "      <td>0.013370</td>\n",
              "      <td>2.949899</td>\n",
              "      <td>hdf</td>\n",
              "    </tr>\n",
              "  </tbody>\n",
              "</table>\n",
              "</div>\n",
              "      <button class=\"colab-df-convert\" onclick=\"convertToInteractive('df-dda8ac70-4cee-4f54-adf5-2326270cca33')\"\n",
              "              title=\"Convert this dataframe to an interactive table.\"\n",
              "              style=\"display:none;\">\n",
              "        \n",
              "  <svg xmlns=\"http://www.w3.org/2000/svg\" height=\"24px\"viewBox=\"0 0 24 24\"\n",
              "       width=\"24px\">\n",
              "    <path d=\"M0 0h24v24H0V0z\" fill=\"none\"/>\n",
              "    <path d=\"M18.56 5.44l.94 2.06.94-2.06 2.06-.94-2.06-.94-.94-2.06-.94 2.06-2.06.94zm-11 1L8.5 8.5l.94-2.06 2.06-.94-2.06-.94L8.5 2.5l-.94 2.06-2.06.94zm10 10l.94 2.06.94-2.06 2.06-.94-2.06-.94-.94-2.06-.94 2.06-2.06.94z\"/><path d=\"M17.41 7.96l-1.37-1.37c-.4-.4-.92-.59-1.43-.59-.52 0-1.04.2-1.43.59L10.3 9.45l-7.72 7.72c-.78.78-.78 2.05 0 2.83L4 21.41c.39.39.9.59 1.41.59.51 0 1.02-.2 1.41-.59l7.78-7.78 2.81-2.81c.8-.78.8-2.07 0-2.86zM5.41 20L4 18.59l7.72-7.72 1.47 1.35L5.41 20z\"/>\n",
              "  </svg>\n",
              "      </button>\n",
              "      \n",
              "  <style>\n",
              "    .colab-df-container {\n",
              "      display:flex;\n",
              "      flex-wrap:wrap;\n",
              "      gap: 12px;\n",
              "    }\n",
              "\n",
              "    .colab-df-convert {\n",
              "      background-color: #E8F0FE;\n",
              "      border: none;\n",
              "      border-radius: 50%;\n",
              "      cursor: pointer;\n",
              "      display: none;\n",
              "      fill: #1967D2;\n",
              "      height: 32px;\n",
              "      padding: 0 0 0 0;\n",
              "      width: 32px;\n",
              "    }\n",
              "\n",
              "    .colab-df-convert:hover {\n",
              "      background-color: #E2EBFA;\n",
              "      box-shadow: 0px 1px 2px rgba(60, 64, 67, 0.3), 0px 1px 3px 1px rgba(60, 64, 67, 0.15);\n",
              "      fill: #174EA6;\n",
              "    }\n",
              "\n",
              "    [theme=dark] .colab-df-convert {\n",
              "      background-color: #3B4455;\n",
              "      fill: #D2E3FC;\n",
              "    }\n",
              "\n",
              "    [theme=dark] .colab-df-convert:hover {\n",
              "      background-color: #434B5C;\n",
              "      box-shadow: 0px 1px 3px 1px rgba(0, 0, 0, 0.15);\n",
              "      filter: drop-shadow(0px 1px 2px rgba(0, 0, 0, 0.3));\n",
              "      fill: #FFFFFF;\n",
              "    }\n",
              "  </style>\n",
              "\n",
              "      <script>\n",
              "        const buttonEl =\n",
              "          document.querySelector('#df-dda8ac70-4cee-4f54-adf5-2326270cca33 button.colab-df-convert');\n",
              "        buttonEl.style.display =\n",
              "          google.colab.kernel.accessAllowed ? 'block' : 'none';\n",
              "\n",
              "        async function convertToInteractive(key) {\n",
              "          const element = document.querySelector('#df-dda8ac70-4cee-4f54-adf5-2326270cca33');\n",
              "          const dataTable =\n",
              "            await google.colab.kernel.invokeFunction('convertToInteractive',\n",
              "                                                     [key], {});\n",
              "          if (!dataTable) return;\n",
              "\n",
              "          const docLinkHtml = 'Like what you see? Visit the ' +\n",
              "            '<a target=\"_blank\" href=https://colab.research.google.com/notebooks/data_table.ipynb>data table notebook</a>'\n",
              "            + ' to learn more about interactive tables.';\n",
              "          element.innerHTML = '';\n",
              "          dataTable['output_type'] = 'display_data';\n",
              "          await google.colab.output.renderOutput(dataTable, element);\n",
              "          const docLink = document.createElement('div');\n",
              "          docLink.innerHTML = docLinkHtml;\n",
              "          element.appendChild(docLink);\n",
              "        }\n",
              "      </script>\n",
              "    </div>\n",
              "  </div>\n",
              "  "
            ]
          },
          "metadata": {},
          "execution_count": 28
        }
      ]
    },
    {
      "cell_type": "code",
      "source": [
        "features(res, 'numbers')"
      ],
      "metadata": {
        "colab": {
          "base_uri": "https://localhost:8080/",
          "height": 545
        },
        "id": "CEGdf52bX3TC",
        "outputId": "3c191f33-341f-4afb-b6b2-9b4ae77dd834"
      },
      "execution_count": 29,
      "outputs": [
        {
          "output_type": "display_data",
          "data": {
            "text/plain": [
              "<Figure size 1728x792 with 5 Axes>"
            ],
            "image/png": "[encoded data removed]"
          },
          "metadata": {
            "needs_background": "light"
          }
        }
      ]
    },
    {
      "cell_type": "code",
      "source": [
        "all_features(res, 'numbers')"
      ],
      "metadata": {
        "colab": {
          "base_uri": "https://localhost:8080/",
          "height": 458
        },
        "id": "HruM86-GX41v",
        "outputId": "212e8e3a-89d2-4312-e8cc-ddcf52c4c032"
      },
      "execution_count": 30,
      "outputs": [
        {
          "output_type": "display_data",
          "data": {
            "text/plain": [
              "<Figure size 1080x504 with 1 Axes>"
            ],
            "image/png": "[encoded data removed]"
          },
          "metadata": {
            "needs_background": "light"
          }
        }
      ]
    },
    {
      "cell_type": "code",
      "source": [
        "result_graph(res, 'numbers')"
      ],
      "metadata": {
        "colab": {
          "base_uri": "https://localhost:8080/",
          "height": 458
        },
        "id": "_vaUN931X6WJ",
        "outputId": "90003a9b-fb1f-4dd5-9162-62774897bf66"
      },
      "execution_count": 31,
      "outputs": [
        {
          "output_type": "display_data",
          "data": {
            "text/plain": [
              "<Figure size 720x504 with 1 Axes>"
            ],
            "image/png": "[encoded data removed]"
          },
          "metadata": {
            "needs_background": "light"
          }
        }
      ]
    },
    {
      "cell_type": "markdown",
      "source": [
        "<h1>boolean, string, datetime</h1>"
      ],
      "metadata": {
        "id": "K9ZJDpv3irAt"
      }
    },
    {
      "cell_type": "code",
      "source": [
        "res = final_result('not_numbers', ['string', 'boolean', 'datetime64[ns]'])\n",
        "res"
      ],
      "metadata": {
        "colab": {
          "base_uri": "https://localhost:8080/",
          "height": 449
        },
        "id": "cEfEcVThX-SF",
        "outputId": "0d999730-b626-40d7-a7a8-2c1f4080fc41"
      },
      "execution_count": 35,
      "outputs": [
        {
          "output_type": "error",
          "ename": "ParserError",
          "evalue": "ignored",
          "traceback": [
            "\u001b[0;31m---------------------------------------------------------------------------\u001b[0m",
            "\u001b[0;31mTypeError\u001b[0m                                 Traceback (most recent call last)",
            "\u001b[0;32m/usr/local/lib/python3.7/dist-packages/pandas/core/arrays/datetimes.py\u001b[0m in \u001b[0;36mobjects_to_datetime64ns\u001b[0;34m(data, dayfirst, yearfirst, utc, errors, require_iso8601, allow_object, allow_mixed)\u001b[0m\n\u001b[1;32m   2191\u001b[0m         \u001b[0;32mtry\u001b[0m\u001b[0;34m:\u001b[0m\u001b[0;34m\u001b[0m\u001b[0;34m\u001b[0m\u001b[0m\n\u001b[0;32m-> 2192\u001b[0;31m             \u001b[0mvalues\u001b[0m\u001b[0;34m,\u001b[0m \u001b[0mtz_parsed\u001b[0m \u001b[0;34m=\u001b[0m \u001b[0mconversion\u001b[0m\u001b[0;34m.\u001b[0m\u001b[0mdatetime_to_datetime64\u001b[0m\u001b[0;34m(\u001b[0m\u001b[0mdata\u001b[0m\u001b[0;34m.\u001b[0m\u001b[0mravel\u001b[0m\u001b[0;34m(\u001b[0m\u001b[0;34m\"K\"\u001b[0m\u001b[0;34m)\u001b[0m\u001b[0;34m)\u001b[0m\u001b[0;34m\u001b[0m\u001b[0;34m\u001b[0m\u001b[0m\n\u001b[0m\u001b[1;32m   2193\u001b[0m             \u001b[0;31m# If tzaware, these values represent unix timestamps, so we\u001b[0m\u001b[0;34m\u001b[0m\u001b[0;34m\u001b[0m\u001b[0;34m\u001b[0m\u001b[0m\n",
            "\u001b[0;32m/usr/local/lib/python3.7/dist-packages/pandas/_libs/tslibs/conversion.pyx\u001b[0m in \u001b[0;36mpandas._libs.tslibs.conversion.datetime_to_datetime64\u001b[0;34m()\u001b[0m\n",
            "\u001b[0;31mTypeError\u001b[0m: Unrecognized value type: <class 'str'>",
            "\nDuring handling of the above exception, another exception occurred:\n",
            "\u001b[0;31mParserError\u001b[0m                               Traceback (most recent call last)",
            "\u001b[0;32m<ipython-input-35-9ad4ed2cbbcc>\u001b[0m in \u001b[0;36m<module>\u001b[0;34m\u001b[0m\n\u001b[0;32m----> 1\u001b[0;31m \u001b[0mres\u001b[0m \u001b[0;34m=\u001b[0m \u001b[0mfinal_result\u001b[0m\u001b[0;34m(\u001b[0m\u001b[0;34m'not_numbers'\u001b[0m\u001b[0;34m,\u001b[0m \u001b[0;34m[\u001b[0m\u001b[0;34m'string'\u001b[0m\u001b[0;34m,\u001b[0m \u001b[0;34m'boolean'\u001b[0m\u001b[0;34m,\u001b[0m \u001b[0;34m'datetime64[ns]'\u001b[0m\u001b[0;34m]\u001b[0m\u001b[0;34m)\u001b[0m\u001b[0;34m\u001b[0m\u001b[0;34m\u001b[0m\u001b[0m\n\u001b[0m\u001b[1;32m      2\u001b[0m \u001b[0mres\u001b[0m\u001b[0;34m\u001b[0m\u001b[0;34m\u001b[0m\u001b[0m\n",
            "\u001b[0;32m<ipython-input-12-0c28255fd191>\u001b[0m in \u001b[0;36mfinal_result\u001b[0;34m(name, types)\u001b[0m\n\u001b[1;32m      2\u001b[0m   \u001b[0mresult\u001b[0m \u001b[0;34m=\u001b[0m \u001b[0mpd\u001b[0m\u001b[0;34m.\u001b[0m\u001b[0mDataFrame\u001b[0m\u001b[0;34m(\u001b[0m\u001b[0mcolumns\u001b[0m\u001b[0;34m=\u001b[0m\u001b[0;34m[\u001b[0m\u001b[0;34m'file'\u001b[0m\u001b[0;34m,\u001b[0m \u001b[0;34m'save_time'\u001b[0m\u001b[0;34m,\u001b[0m \u001b[0;34m'save_memory'\u001b[0m\u001b[0;34m,\u001b[0m \u001b[0;34m'load_time'\u001b[0m\u001b[0;34m,\u001b[0m \u001b[0;34m'load_memory'\u001b[0m\u001b[0;34m,\u001b[0m \u001b[0;34m'size'\u001b[0m\u001b[0;34m]\u001b[0m\u001b[0;34m)\u001b[0m\u001b[0;34m\u001b[0m\u001b[0;34m\u001b[0m\u001b[0m\n\u001b[1;32m      3\u001b[0m   \u001b[0;32mfor\u001b[0m \u001b[0mi\u001b[0m \u001b[0;32min\u001b[0m \u001b[0mrange\u001b[0m\u001b[0;34m(\u001b[0m\u001b[0mnum_iterations\u001b[0m\u001b[0;34m)\u001b[0m \u001b[0;34m:\u001b[0m\u001b[0;34m\u001b[0m\u001b[0;34m\u001b[0m\u001b[0m\n\u001b[0;32m----> 4\u001b[0;31m      \u001b[0mresult\u001b[0m \u001b[0;34m=\u001b[0m \u001b[0mpd\u001b[0m\u001b[0;34m.\u001b[0m\u001b[0mconcat\u001b[0m\u001b[0;34m(\u001b[0m\u001b[0;34m[\u001b[0m\u001b[0mresult\u001b[0m\u001b[0;34m,\u001b[0m \u001b[0miteration_result\u001b[0m\u001b[0;34m(\u001b[0m\u001b[0mname\u001b[0m\u001b[0;34m,\u001b[0m \u001b[0mtypes\u001b[0m\u001b[0;34m)\u001b[0m\u001b[0;34m]\u001b[0m\u001b[0;34m)\u001b[0m\u001b[0;34m\u001b[0m\u001b[0;34m\u001b[0m\u001b[0m\n\u001b[0m\u001b[1;32m      5\u001b[0m      \u001b[0mprint\u001b[0m\u001b[0;34m(\u001b[0m\u001b[0mstr\u001b[0m\u001b[0;34m(\u001b[0m\u001b[0mi\u001b[0m\u001b[0;34m)\u001b[0m \u001b[0;34m+\u001b[0m \u001b[0;34m' iteration finished'\u001b[0m\u001b[0;34m)\u001b[0m\u001b[0;34m\u001b[0m\u001b[0;34m\u001b[0m\u001b[0m\n\u001b[1;32m      6\u001b[0m \u001b[0;34m\u001b[0m\u001b[0m\n",
            "\u001b[0;32m<ipython-input-11-ce3c16df6771>\u001b[0m in \u001b[0;36miteration_result\u001b[0;34m(name, types)\u001b[0m\n\u001b[1;32m      1\u001b[0m \u001b[0;32mdef\u001b[0m \u001b[0miteration_result\u001b[0m\u001b[0;34m(\u001b[0m\u001b[0mname\u001b[0m\u001b[0;34m,\u001b[0m \u001b[0mtypes\u001b[0m\u001b[0;34m)\u001b[0m \u001b[0;34m:\u001b[0m\u001b[0;34m\u001b[0m\u001b[0;34m\u001b[0m\u001b[0m\n\u001b[0;32m----> 2\u001b[0;31m   \u001b[0mds\u001b[0m \u001b[0;34m=\u001b[0m \u001b[0mgenerate_dataset\u001b[0m\u001b[0;34m(\u001b[0m\u001b[0mtypes\u001b[0m\u001b[0;34m)\u001b[0m\u001b[0;34m\u001b[0m\u001b[0;34m\u001b[0m\u001b[0m\n\u001b[0m\u001b[1;32m      3\u001b[0m   \u001b[0mresult\u001b[0m \u001b[0;34m=\u001b[0m \u001b[0msaving\u001b[0m\u001b[0;34m(\u001b[0m\u001b[0mds\u001b[0m\u001b[0;34m,\u001b[0m \u001b[0mname\u001b[0m\u001b[0;34m)\u001b[0m\u001b[0;34m\u001b[0m\u001b[0;34m\u001b[0m\u001b[0m\n\u001b[1;32m      4\u001b[0m   result['size'] = [os.stat('results/' + name + '.csv').st_size, os.stat('results/' + name + '.feather').st_size,\n\u001b[1;32m      5\u001b[0m                    \u001b[0mos\u001b[0m\u001b[0;34m.\u001b[0m\u001b[0mstat\u001b[0m\u001b[0;34m(\u001b[0m\u001b[0;34m'results/'\u001b[0m \u001b[0;34m+\u001b[0m \u001b[0mname\u001b[0m \u001b[0;34m+\u001b[0m \u001b[0;34m'.hdf5'\u001b[0m\u001b[0;34m)\u001b[0m\u001b[0;34m.\u001b[0m\u001b[0mst_size\u001b[0m\u001b[0;34m,\u001b[0m \u001b[0mos\u001b[0m\u001b[0;34m.\u001b[0m\u001b[0mstat\u001b[0m\u001b[0;34m(\u001b[0m\u001b[0;34m'results/'\u001b[0m \u001b[0;34m+\u001b[0m \u001b[0mname\u001b[0m \u001b[0;34m+\u001b[0m \u001b[0;34m'.msg'\u001b[0m\u001b[0;34m)\u001b[0m\u001b[0;34m.\u001b[0m\u001b[0mst_size\u001b[0m\u001b[0;34m,\u001b[0m\u001b[0;34m\u001b[0m\u001b[0;34m\u001b[0m\u001b[0m\n",
            "\u001b[0;32m<ipython-input-10-ae4141ced034>\u001b[0m in \u001b[0;36mgenerate_dataset\u001b[0;34m(types)\u001b[0m\n\u001b[1;32m      7\u001b[0m     \u001b[0mtype_\u001b[0m \u001b[0;34m=\u001b[0m \u001b[0mrandom\u001b[0m\u001b[0;34m.\u001b[0m\u001b[0mrandint\u001b[0m\u001b[0;34m(\u001b[0m\u001b[0;36m0\u001b[0m\u001b[0;34m,\u001b[0m \u001b[0mlen\u001b[0m\u001b[0;34m(\u001b[0m\u001b[0mtypes\u001b[0m\u001b[0;34m)\u001b[0m\u001b[0;34m-\u001b[0m\u001b[0;36m1\u001b[0m\u001b[0;34m)\u001b[0m\u001b[0;34m\u001b[0m\u001b[0;34m\u001b[0m\u001b[0m\n\u001b[1;32m      8\u001b[0m     \u001b[0mds\u001b[0m \u001b[0;34m=\u001b[0m \u001b[0mpd\u001b[0m\u001b[0;34m.\u001b[0m\u001b[0mconcat\u001b[0m\u001b[0;34m(\u001b[0m\u001b[0;34m[\u001b[0m\u001b[0mds\u001b[0m\u001b[0;34m,\u001b[0m \u001b[0mpd\u001b[0m\u001b[0;34m.\u001b[0m\u001b[0mDataFrame\u001b[0m\u001b[0;34m(\u001b[0m\u001b[0mcolumn\u001b[0m\u001b[0;34m(\u001b[0m\u001b[0mtype_\u001b[0m\u001b[0;34m,\u001b[0m \u001b[0mrows_num\u001b[0m\u001b[0;34m)\u001b[0m\u001b[0;34m,\u001b[0m \u001b[0mcolumns\u001b[0m\u001b[0;34m=\u001b[0m\u001b[0;34m[\u001b[0m\u001b[0;34m'col'\u001b[0m \u001b[0;34m+\u001b[0m \u001b[0mstr\u001b[0m\u001b[0;34m(\u001b[0m\u001b[0mi\u001b[0m\u001b[0;34m)\u001b[0m \u001b[0;34m+\u001b[0m \u001b[0;34m\"_\"\u001b[0m \u001b[0;34m+\u001b[0m \u001b[0mtypes\u001b[0m\u001b[0;34m[\u001b[0m\u001b[0mtype_\u001b[0m\u001b[0;34m]\u001b[0m\u001b[0;34m]\u001b[0m\u001b[0;34m)\u001b[0m\u001b[0;34m]\u001b[0m\u001b[0;34m,\u001b[0m \u001b[0maxis\u001b[0m\u001b[0;34m=\u001b[0m\u001b[0;36m1\u001b[0m\u001b[0;34m)\u001b[0m\u001b[0;34m\u001b[0m\u001b[0;34m\u001b[0m\u001b[0m\n\u001b[0;32m----> 9\u001b[0;31m     \u001b[0mds\u001b[0m\u001b[0;34m.\u001b[0m\u001b[0miloc\u001b[0m\u001b[0;34m[\u001b[0m\u001b[0;34m:\u001b[0m\u001b[0;34m,\u001b[0m \u001b[0;34m-\u001b[0m\u001b[0;36m1\u001b[0m\u001b[0;34m]\u001b[0m \u001b[0;34m=\u001b[0m \u001b[0mds\u001b[0m\u001b[0;34m.\u001b[0m\u001b[0miloc\u001b[0m\u001b[0;34m[\u001b[0m\u001b[0;34m:\u001b[0m\u001b[0;34m,\u001b[0m \u001b[0;34m-\u001b[0m\u001b[0;36m1\u001b[0m\u001b[0;34m]\u001b[0m\u001b[0;34m.\u001b[0m\u001b[0mastype\u001b[0m\u001b[0;34m(\u001b[0m\u001b[0mtypes\u001b[0m\u001b[0;34m[\u001b[0m\u001b[0mtype_\u001b[0m\u001b[0;34m]\u001b[0m\u001b[0;34m)\u001b[0m\u001b[0;34m\u001b[0m\u001b[0;34m\u001b[0m\u001b[0m\n\u001b[0m\u001b[1;32m     10\u001b[0m     \u001b[0;32mif\u001b[0m \u001b[0mtypes\u001b[0m\u001b[0;34m[\u001b[0m\u001b[0mtype_\u001b[0m\u001b[0;34m]\u001b[0m \u001b[0;34m==\u001b[0m \u001b[0;34m'datetime64[ns]'\u001b[0m \u001b[0;34m:\u001b[0m\u001b[0;34m\u001b[0m\u001b[0;34m\u001b[0m\u001b[0m\n\u001b[1;32m     11\u001b[0m       \u001b[0mds\u001b[0m\u001b[0;34m[\u001b[0m\u001b[0mds\u001b[0m\u001b[0;34m.\u001b[0m\u001b[0mcolumns\u001b[0m\u001b[0;34m[\u001b[0m\u001b[0mi\u001b[0m\u001b[0;34m]\u001b[0m\u001b[0;34m]\u001b[0m \u001b[0;34m=\u001b[0m \u001b[0mds\u001b[0m\u001b[0;34m[\u001b[0m\u001b[0mds\u001b[0m\u001b[0;34m.\u001b[0m\u001b[0mcolumns\u001b[0m\u001b[0;34m[\u001b[0m\u001b[0mi\u001b[0m\u001b[0;34m]\u001b[0m\u001b[0;34m]\u001b[0m\u001b[0;34m.\u001b[0m\u001b[0mdt\u001b[0m\u001b[0;34m.\u001b[0m\u001b[0mtz_localize\u001b[0m\u001b[0;34m(\u001b[0m\u001b[0;32mNone\u001b[0m\u001b[0;34m)\u001b[0m\u001b[0;34m\u001b[0m\u001b[0;34m\u001b[0m\u001b[0m\n",
            "\u001b[0;32m/usr/local/lib/python3.7/dist-packages/pandas/core/generic.py\u001b[0m in \u001b[0;36mastype\u001b[0;34m(self, dtype, copy, errors)\u001b[0m\n\u001b[1;32m   5813\u001b[0m         \u001b[0;32melse\u001b[0m\u001b[0;34m:\u001b[0m\u001b[0;34m\u001b[0m\u001b[0;34m\u001b[0m\u001b[0m\n\u001b[1;32m   5814\u001b[0m             \u001b[0;31m# else, only a single dtype is given\u001b[0m\u001b[0;34m\u001b[0m\u001b[0;34m\u001b[0m\u001b[0;34m\u001b[0m\u001b[0m\n\u001b[0;32m-> 5815\u001b[0;31m             \u001b[0mnew_data\u001b[0m \u001b[0;34m=\u001b[0m \u001b[0mself\u001b[0m\u001b[0;34m.\u001b[0m\u001b[0m_mgr\u001b[0m\u001b[0;34m.\u001b[0m\u001b[0mastype\u001b[0m\u001b[0;34m(\u001b[0m\u001b[0mdtype\u001b[0m\u001b[0;34m=\u001b[0m\u001b[0mdtype\u001b[0m\u001b[0;34m,\u001b[0m \u001b[0mcopy\u001b[0m\u001b[0;34m=\u001b[0m\u001b[0mcopy\u001b[0m\u001b[0;34m,\u001b[0m \u001b[0merrors\u001b[0m\u001b[0;34m=\u001b[0m\u001b[0merrors\u001b[0m\u001b[0;34m)\u001b[0m\u001b[0;34m\u001b[0m\u001b[0;34m\u001b[0m\u001b[0m\n\u001b[0m\u001b[1;32m   5816\u001b[0m             \u001b[0;32mreturn\u001b[0m \u001b[0mself\u001b[0m\u001b[0;34m.\u001b[0m\u001b[0m_constructor\u001b[0m\u001b[0;34m(\u001b[0m\u001b[0mnew_data\u001b[0m\u001b[0;34m)\u001b[0m\u001b[0;34m.\u001b[0m\u001b[0m__finalize__\u001b[0m\u001b[0;34m(\u001b[0m\u001b[0mself\u001b[0m\u001b[0;34m,\u001b[0m \u001b[0mmethod\u001b[0m\u001b[0;34m=\u001b[0m\u001b[0;34m\"astype\"\u001b[0m\u001b[0;34m)\u001b[0m\u001b[0;34m\u001b[0m\u001b[0;34m\u001b[0m\u001b[0m\n\u001b[1;32m   5817\u001b[0m \u001b[0;34m\u001b[0m\u001b[0m\n",
            "\u001b[0;32m/usr/local/lib/python3.7/dist-packages/pandas/core/internals/managers.py\u001b[0m in \u001b[0;36mastype\u001b[0;34m(self, dtype, copy, errors)\u001b[0m\n\u001b[1;32m    416\u001b[0m \u001b[0;34m\u001b[0m\u001b[0m\n\u001b[1;32m    417\u001b[0m     \u001b[0;32mdef\u001b[0m \u001b[0mastype\u001b[0m\u001b[0;34m(\u001b[0m\u001b[0mself\u001b[0m\u001b[0;34m:\u001b[0m \u001b[0mT\u001b[0m\u001b[0;34m,\u001b[0m \u001b[0mdtype\u001b[0m\u001b[0;34m,\u001b[0m \u001b[0mcopy\u001b[0m\u001b[0;34m:\u001b[0m \u001b[0mbool\u001b[0m \u001b[0;34m=\u001b[0m \u001b[0;32mFalse\u001b[0m\u001b[0;34m,\u001b[0m \u001b[0merrors\u001b[0m\u001b[0;34m:\u001b[0m \u001b[0mstr\u001b[0m \u001b[0;34m=\u001b[0m \u001b[0;34m\"raise\"\u001b[0m\u001b[0;34m)\u001b[0m \u001b[0;34m->\u001b[0m \u001b[0mT\u001b[0m\u001b[0;34m:\u001b[0m\u001b[0;34m\u001b[0m\u001b[0;34m\u001b[0m\u001b[0m\n\u001b[0;32m--> 418\u001b[0;31m         \u001b[0;32mreturn\u001b[0m \u001b[0mself\u001b[0m\u001b[0;34m.\u001b[0m\u001b[0mapply\u001b[0m\u001b[0;34m(\u001b[0m\u001b[0;34m\"astype\"\u001b[0m\u001b[0;34m,\u001b[0m \u001b[0mdtype\u001b[0m\u001b[0;34m=\u001b[0m\u001b[0mdtype\u001b[0m\u001b[0;34m,\u001b[0m \u001b[0mcopy\u001b[0m\u001b[0;34m=\u001b[0m\u001b[0mcopy\u001b[0m\u001b[0;34m,\u001b[0m \u001b[0merrors\u001b[0m\u001b[0;34m=\u001b[0m\u001b[0merrors\u001b[0m\u001b[0;34m)\u001b[0m\u001b[0;34m\u001b[0m\u001b[0;34m\u001b[0m\u001b[0m\n\u001b[0m\u001b[1;32m    419\u001b[0m \u001b[0;34m\u001b[0m\u001b[0m\n\u001b[1;32m    420\u001b[0m     def convert(\n",
            "\u001b[0;32m/usr/local/lib/python3.7/dist-packages/pandas/core/internals/managers.py\u001b[0m in \u001b[0;36mapply\u001b[0;34m(self, f, align_keys, ignore_failures, **kwargs)\u001b[0m\n\u001b[1;32m    325\u001b[0m                     \u001b[0mapplied\u001b[0m \u001b[0;34m=\u001b[0m \u001b[0mb\u001b[0m\u001b[0;34m.\u001b[0m\u001b[0mapply\u001b[0m\u001b[0;34m(\u001b[0m\u001b[0mf\u001b[0m\u001b[0;34m,\u001b[0m \u001b[0;34m**\u001b[0m\u001b[0mkwargs\u001b[0m\u001b[0;34m)\u001b[0m\u001b[0;34m\u001b[0m\u001b[0;34m\u001b[0m\u001b[0m\n\u001b[1;32m    326\u001b[0m                 \u001b[0;32melse\u001b[0m\u001b[0;34m:\u001b[0m\u001b[0;34m\u001b[0m\u001b[0;34m\u001b[0m\u001b[0m\n\u001b[0;32m--> 327\u001b[0;31m                     \u001b[0mapplied\u001b[0m \u001b[0;34m=\u001b[0m \u001b[0mgetattr\u001b[0m\u001b[0;34m(\u001b[0m\u001b[0mb\u001b[0m\u001b[0;34m,\u001b[0m \u001b[0mf\u001b[0m\u001b[0;34m)\u001b[0m\u001b[0;34m(\u001b[0m\u001b[0;34m**\u001b[0m\u001b[0mkwargs\u001b[0m\u001b[0;34m)\u001b[0m\u001b[0;34m\u001b[0m\u001b[0;34m\u001b[0m\u001b[0m\n\u001b[0m\u001b[1;32m    328\u001b[0m             \u001b[0;32mexcept\u001b[0m \u001b[0;34m(\u001b[0m\u001b[0mTypeError\u001b[0m\u001b[0;34m,\u001b[0m \u001b[0mNotImplementedError\u001b[0m\u001b[0;34m)\u001b[0m\u001b[0;34m:\u001b[0m\u001b[0;34m\u001b[0m\u001b[0;34m\u001b[0m\u001b[0m\n\u001b[1;32m    329\u001b[0m                 \u001b[0;32mif\u001b[0m \u001b[0;32mnot\u001b[0m \u001b[0mignore_failures\u001b[0m\u001b[0;34m:\u001b[0m\u001b[0;34m\u001b[0m\u001b[0;34m\u001b[0m\u001b[0m\n",
            "\u001b[0;32m/usr/local/lib/python3.7/dist-packages/pandas/core/internals/blocks.py\u001b[0m in \u001b[0;36mastype\u001b[0;34m(self, dtype, copy, errors)\u001b[0m\n\u001b[1;32m    589\u001b[0m         \u001b[0mvalues\u001b[0m \u001b[0;34m=\u001b[0m \u001b[0mself\u001b[0m\u001b[0;34m.\u001b[0m\u001b[0mvalues\u001b[0m\u001b[0;34m\u001b[0m\u001b[0;34m\u001b[0m\u001b[0m\n\u001b[1;32m    590\u001b[0m \u001b[0;34m\u001b[0m\u001b[0m\n\u001b[0;32m--> 591\u001b[0;31m         \u001b[0mnew_values\u001b[0m \u001b[0;34m=\u001b[0m \u001b[0mastype_array_safe\u001b[0m\u001b[0;34m(\u001b[0m\u001b[0mvalues\u001b[0m\u001b[0;34m,\u001b[0m \u001b[0mdtype\u001b[0m\u001b[0;34m,\u001b[0m \u001b[0mcopy\u001b[0m\u001b[0;34m=\u001b[0m\u001b[0mcopy\u001b[0m\u001b[0;34m,\u001b[0m \u001b[0merrors\u001b[0m\u001b[0;34m=\u001b[0m\u001b[0merrors\u001b[0m\u001b[0;34m)\u001b[0m\u001b[0;34m\u001b[0m\u001b[0;34m\u001b[0m\u001b[0m\n\u001b[0m\u001b[1;32m    592\u001b[0m \u001b[0;34m\u001b[0m\u001b[0m\n\u001b[1;32m    593\u001b[0m         \u001b[0mnew_values\u001b[0m \u001b[0;34m=\u001b[0m \u001b[0mmaybe_coerce_values\u001b[0m\u001b[0;34m(\u001b[0m\u001b[0mnew_values\u001b[0m\u001b[0;34m)\u001b[0m\u001b[0;34m\u001b[0m\u001b[0;34m\u001b[0m\u001b[0m\n",
            "\u001b[0;32m/usr/local/lib/python3.7/dist-packages/pandas/core/dtypes/cast.py\u001b[0m in \u001b[0;36mastype_array_safe\u001b[0;34m(values, dtype, copy, errors)\u001b[0m\n\u001b[1;32m   1307\u001b[0m \u001b[0;34m\u001b[0m\u001b[0m\n\u001b[1;32m   1308\u001b[0m     \u001b[0;32mtry\u001b[0m\u001b[0;34m:\u001b[0m\u001b[0;34m\u001b[0m\u001b[0;34m\u001b[0m\u001b[0m\n\u001b[0;32m-> 1309\u001b[0;31m         \u001b[0mnew_values\u001b[0m \u001b[0;34m=\u001b[0m \u001b[0mastype_array\u001b[0m\u001b[0;34m(\u001b[0m\u001b[0mvalues\u001b[0m\u001b[0;34m,\u001b[0m \u001b[0mdtype\u001b[0m\u001b[0;34m,\u001b[0m \u001b[0mcopy\u001b[0m\u001b[0;34m=\u001b[0m\u001b[0mcopy\u001b[0m\u001b[0;34m)\u001b[0m\u001b[0;34m\u001b[0m\u001b[0;34m\u001b[0m\u001b[0m\n\u001b[0m\u001b[1;32m   1310\u001b[0m     \u001b[0;32mexcept\u001b[0m \u001b[0;34m(\u001b[0m\u001b[0mValueError\u001b[0m\u001b[0;34m,\u001b[0m \u001b[0mTypeError\u001b[0m\u001b[0;34m)\u001b[0m\u001b[0;34m:\u001b[0m\u001b[0;34m\u001b[0m\u001b[0;34m\u001b[0m\u001b[0m\n\u001b[1;32m   1311\u001b[0m         \u001b[0;31m# e.g. astype_nansafe can fail on object-dtype of strings\u001b[0m\u001b[0;34m\u001b[0m\u001b[0;34m\u001b[0m\u001b[0;34m\u001b[0m\u001b[0m\n",
            "\u001b[0;32m/usr/local/lib/python3.7/dist-packages/pandas/core/dtypes/cast.py\u001b[0m in \u001b[0;36mastype_array\u001b[0;34m(values, dtype, copy)\u001b[0m\n\u001b[1;32m   1255\u001b[0m \u001b[0;34m\u001b[0m\u001b[0m\n\u001b[1;32m   1256\u001b[0m     \u001b[0;32melse\u001b[0m\u001b[0;34m:\u001b[0m\u001b[0;34m\u001b[0m\u001b[0;34m\u001b[0m\u001b[0m\n\u001b[0;32m-> 1257\u001b[0;31m         \u001b[0mvalues\u001b[0m \u001b[0;34m=\u001b[0m \u001b[0mastype_nansafe\u001b[0m\u001b[0;34m(\u001b[0m\u001b[0mvalues\u001b[0m\u001b[0;34m,\u001b[0m \u001b[0mdtype\u001b[0m\u001b[0;34m,\u001b[0m \u001b[0mcopy\u001b[0m\u001b[0;34m=\u001b[0m\u001b[0mcopy\u001b[0m\u001b[0;34m)\u001b[0m\u001b[0;34m\u001b[0m\u001b[0;34m\u001b[0m\u001b[0m\n\u001b[0m\u001b[1;32m   1258\u001b[0m \u001b[0;34m\u001b[0m\u001b[0m\n\u001b[1;32m   1259\u001b[0m     \u001b[0;31m# in pandas we don't store numpy str dtypes, so convert to object\u001b[0m\u001b[0;34m\u001b[0m\u001b[0;34m\u001b[0m\u001b[0;34m\u001b[0m\u001b[0m\n",
            "\u001b[0;32m/usr/local/lib/python3.7/dist-packages/pandas/core/dtypes/cast.py\u001b[0m in \u001b[0;36mastype_nansafe\u001b[0;34m(arr, dtype, copy, skipna)\u001b[0m\n\u001b[1;32m   1181\u001b[0m \u001b[0;34m\u001b[0m\u001b[0m\n\u001b[1;32m   1182\u001b[0m             return astype_nansafe(\n\u001b[0;32m-> 1183\u001b[0;31m                 \u001b[0mto_datetime\u001b[0m\u001b[0;34m(\u001b[0m\u001b[0marr\u001b[0m\u001b[0;34m)\u001b[0m\u001b[0;34m.\u001b[0m\u001b[0mvalues\u001b[0m\u001b[0;34m,\u001b[0m\u001b[0;34m\u001b[0m\u001b[0;34m\u001b[0m\u001b[0m\n\u001b[0m\u001b[1;32m   1184\u001b[0m                 \u001b[0mdtype\u001b[0m\u001b[0;34m,\u001b[0m\u001b[0;34m\u001b[0m\u001b[0;34m\u001b[0m\u001b[0m\n\u001b[1;32m   1185\u001b[0m                 \u001b[0mcopy\u001b[0m\u001b[0;34m=\u001b[0m\u001b[0mcopy\u001b[0m\u001b[0;34m,\u001b[0m\u001b[0;34m\u001b[0m\u001b[0;34m\u001b[0m\u001b[0m\n",
            "\u001b[0;32m/usr/local/lib/python3.7/dist-packages/pandas/core/tools/datetimes.py\u001b[0m in \u001b[0;36mto_datetime\u001b[0;34m(arg, errors, dayfirst, yearfirst, utc, format, exact, unit, infer_datetime_format, origin, cache)\u001b[0m\n\u001b[1;32m    910\u001b[0m             \u001b[0mresult\u001b[0m \u001b[0;34m=\u001b[0m \u001b[0m_convert_and_box_cache\u001b[0m\u001b[0;34m(\u001b[0m\u001b[0marg\u001b[0m\u001b[0;34m,\u001b[0m \u001b[0mcache_array\u001b[0m\u001b[0;34m)\u001b[0m\u001b[0;34m\u001b[0m\u001b[0;34m\u001b[0m\u001b[0m\n\u001b[1;32m    911\u001b[0m         \u001b[0;32melse\u001b[0m\u001b[0;34m:\u001b[0m\u001b[0;34m\u001b[0m\u001b[0;34m\u001b[0m\u001b[0m\n\u001b[0;32m--> 912\u001b[0;31m             \u001b[0mresult\u001b[0m \u001b[0;34m=\u001b[0m \u001b[0mconvert_listlike\u001b[0m\u001b[0;34m(\u001b[0m\u001b[0marg\u001b[0m\u001b[0;34m,\u001b[0m \u001b[0mformat\u001b[0m\u001b[0;34m)\u001b[0m\u001b[0;34m\u001b[0m\u001b[0;34m\u001b[0m\u001b[0m\n\u001b[0m\u001b[1;32m    913\u001b[0m     \u001b[0;32melse\u001b[0m\u001b[0;34m:\u001b[0m\u001b[0;34m\u001b[0m\u001b[0;34m\u001b[0m\u001b[0m\n\u001b[1;32m    914\u001b[0m         \u001b[0mresult\u001b[0m \u001b[0;34m=\u001b[0m \u001b[0mconvert_listlike\u001b[0m\u001b[0;34m(\u001b[0m\u001b[0mnp\u001b[0m\u001b[0;34m.\u001b[0m\u001b[0marray\u001b[0m\u001b[0;34m(\u001b[0m\u001b[0;34m[\u001b[0m\u001b[0marg\u001b[0m\u001b[0;34m]\u001b[0m\u001b[0;34m)\u001b[0m\u001b[0;34m,\u001b[0m \u001b[0mformat\u001b[0m\u001b[0;34m)\u001b[0m\u001b[0;34m[\u001b[0m\u001b[0;36m0\u001b[0m\u001b[0;34m]\u001b[0m\u001b[0;34m\u001b[0m\u001b[0;34m\u001b[0m\u001b[0m\n",
            "\u001b[0;32m/usr/local/lib/python3.7/dist-packages/pandas/core/tools/datetimes.py\u001b[0m in \u001b[0;36m_convert_listlike_datetimes\u001b[0;34m(arg, format, name, tz, unit, errors, infer_datetime_format, dayfirst, yearfirst, exact)\u001b[0m\n\u001b[1;32m    406\u001b[0m         \u001b[0merrors\u001b[0m\u001b[0;34m=\u001b[0m\u001b[0merrors\u001b[0m\u001b[0;34m,\u001b[0m\u001b[0;34m\u001b[0m\u001b[0;34m\u001b[0m\u001b[0m\n\u001b[1;32m    407\u001b[0m         \u001b[0mrequire_iso8601\u001b[0m\u001b[0;34m=\u001b[0m\u001b[0mrequire_iso8601\u001b[0m\u001b[0;34m,\u001b[0m\u001b[0;34m\u001b[0m\u001b[0;34m\u001b[0m\u001b[0m\n\u001b[0;32m--> 408\u001b[0;31m         \u001b[0mallow_object\u001b[0m\u001b[0;34m=\u001b[0m\u001b[0;32mTrue\u001b[0m\u001b[0;34m,\u001b[0m\u001b[0;34m\u001b[0m\u001b[0;34m\u001b[0m\u001b[0m\n\u001b[0m\u001b[1;32m    409\u001b[0m     )\n\u001b[1;32m    410\u001b[0m \u001b[0;34m\u001b[0m\u001b[0m\n",
            "\u001b[0;32m/usr/local/lib/python3.7/dist-packages/pandas/core/arrays/datetimes.py\u001b[0m in \u001b[0;36mobjects_to_datetime64ns\u001b[0;34m(data, dayfirst, yearfirst, utc, errors, require_iso8601, allow_object, allow_mixed)\u001b[0m\n\u001b[1;32m   2196\u001b[0m             \u001b[0;32mreturn\u001b[0m \u001b[0mvalues\u001b[0m\u001b[0;34m.\u001b[0m\u001b[0mview\u001b[0m\u001b[0;34m(\u001b[0m\u001b[0;34m\"i8\"\u001b[0m\u001b[0;34m)\u001b[0m\u001b[0;34m,\u001b[0m \u001b[0mtz_parsed\u001b[0m\u001b[0;34m\u001b[0m\u001b[0;34m\u001b[0m\u001b[0m\n\u001b[1;32m   2197\u001b[0m         \u001b[0;32mexcept\u001b[0m \u001b[0;34m(\u001b[0m\u001b[0mValueError\u001b[0m\u001b[0;34m,\u001b[0m \u001b[0mTypeError\u001b[0m\u001b[0;34m)\u001b[0m\u001b[0;34m:\u001b[0m\u001b[0;34m\u001b[0m\u001b[0;34m\u001b[0m\u001b[0m\n\u001b[0;32m-> 2198\u001b[0;31m             \u001b[0;32mraise\u001b[0m \u001b[0merr\u001b[0m\u001b[0;34m\u001b[0m\u001b[0;34m\u001b[0m\u001b[0m\n\u001b[0m\u001b[1;32m   2199\u001b[0m \u001b[0;34m\u001b[0m\u001b[0m\n\u001b[1;32m   2200\u001b[0m     \u001b[0;32mif\u001b[0m \u001b[0mtz_parsed\u001b[0m \u001b[0;32mis\u001b[0m \u001b[0;32mnot\u001b[0m \u001b[0;32mNone\u001b[0m\u001b[0;34m:\u001b[0m\u001b[0;34m\u001b[0m\u001b[0;34m\u001b[0m\u001b[0m\n",
            "\u001b[0;32m/usr/local/lib/python3.7/dist-packages/pandas/core/arrays/datetimes.py\u001b[0m in \u001b[0;36mobjects_to_datetime64ns\u001b[0;34m(data, dayfirst, yearfirst, utc, errors, require_iso8601, allow_object, allow_mixed)\u001b[0m\n\u001b[1;32m   2185\u001b[0m             \u001b[0myearfirst\u001b[0m\u001b[0;34m=\u001b[0m\u001b[0myearfirst\u001b[0m\u001b[0;34m,\u001b[0m\u001b[0;34m\u001b[0m\u001b[0;34m\u001b[0m\u001b[0m\n\u001b[1;32m   2186\u001b[0m             \u001b[0mrequire_iso8601\u001b[0m\u001b[0;34m=\u001b[0m\u001b[0mrequire_iso8601\u001b[0m\u001b[0;34m,\u001b[0m\u001b[0;34m\u001b[0m\u001b[0;34m\u001b[0m\u001b[0m\n\u001b[0;32m-> 2187\u001b[0;31m             \u001b[0mallow_mixed\u001b[0m\u001b[0;34m=\u001b[0m\u001b[0mallow_mixed\u001b[0m\u001b[0;34m,\u001b[0m\u001b[0;34m\u001b[0m\u001b[0;34m\u001b[0m\u001b[0m\n\u001b[0m\u001b[1;32m   2188\u001b[0m         )\n\u001b[1;32m   2189\u001b[0m         \u001b[0mresult\u001b[0m \u001b[0;34m=\u001b[0m \u001b[0mresult\u001b[0m\u001b[0;34m.\u001b[0m\u001b[0mreshape\u001b[0m\u001b[0;34m(\u001b[0m\u001b[0mdata\u001b[0m\u001b[0;34m.\u001b[0m\u001b[0mshape\u001b[0m\u001b[0;34m,\u001b[0m \u001b[0morder\u001b[0m\u001b[0;34m=\u001b[0m\u001b[0morder\u001b[0m\u001b[0;34m)\u001b[0m\u001b[0;34m\u001b[0m\u001b[0;34m\u001b[0m\u001b[0m\n",
            "\u001b[0;32m/usr/local/lib/python3.7/dist-packages/pandas/_libs/tslib.pyx\u001b[0m in \u001b[0;36mpandas._libs.tslib.array_to_datetime\u001b[0;34m()\u001b[0m\n",
            "\u001b[0;32m/usr/local/lib/python3.7/dist-packages/pandas/_libs/tslib.pyx\u001b[0m in \u001b[0;36mpandas._libs.tslib.array_to_datetime\u001b[0;34m()\u001b[0m\n",
            "\u001b[0;32m/usr/local/lib/python3.7/dist-packages/pandas/_libs/tslib.pyx\u001b[0m in \u001b[0;36mpandas._libs.tslib._array_to_datetime_object\u001b[0;34m()\u001b[0m\n",
            "\u001b[0;32m/usr/local/lib/python3.7/dist-packages/pandas/_libs/tslib.pyx\u001b[0m in \u001b[0;36mpandas._libs.tslib._array_to_datetime_object\u001b[0;34m()\u001b[0m\n",
            "\u001b[0;32m/usr/local/lib/python3.7/dist-packages/pandas/_libs/tslibs/parsing.pyx\u001b[0m in \u001b[0;36mpandas._libs.tslibs.parsing.parse_datetime_string\u001b[0;34m()\u001b[0m\n",
            "\u001b[0;32m/usr/local/lib/python3.7/dist-packages/dateutil/parser/_parser.py\u001b[0m in \u001b[0;36mparse\u001b[0;34m(timestr, parserinfo, **kwargs)\u001b[0m\n\u001b[1;32m   1366\u001b[0m         \u001b[0;32mreturn\u001b[0m \u001b[0mparser\u001b[0m\u001b[0;34m(\u001b[0m\u001b[0mparserinfo\u001b[0m\u001b[0;34m)\u001b[0m\u001b[0;34m.\u001b[0m\u001b[0mparse\u001b[0m\u001b[0;34m(\u001b[0m\u001b[0mtimestr\u001b[0m\u001b[0;34m,\u001b[0m \u001b[0;34m**\u001b[0m\u001b[0mkwargs\u001b[0m\u001b[0;34m)\u001b[0m\u001b[0;34m\u001b[0m\u001b[0;34m\u001b[0m\u001b[0m\n\u001b[1;32m   1367\u001b[0m     \u001b[0;32melse\u001b[0m\u001b[0;34m:\u001b[0m\u001b[0;34m\u001b[0m\u001b[0;34m\u001b[0m\u001b[0m\n\u001b[0;32m-> 1368\u001b[0;31m         \u001b[0;32mreturn\u001b[0m \u001b[0mDEFAULTPARSER\u001b[0m\u001b[0;34m.\u001b[0m\u001b[0mparse\u001b[0m\u001b[0;34m(\u001b[0m\u001b[0mtimestr\u001b[0m\u001b[0;34m,\u001b[0m \u001b[0;34m**\u001b[0m\u001b[0mkwargs\u001b[0m\u001b[0;34m)\u001b[0m\u001b[0;34m\u001b[0m\u001b[0;34m\u001b[0m\u001b[0m\n\u001b[0m\u001b[1;32m   1369\u001b[0m \u001b[0;34m\u001b[0m\u001b[0m\n\u001b[1;32m   1370\u001b[0m \u001b[0;34m\u001b[0m\u001b[0m\n",
            "\u001b[0;32m/usr/local/lib/python3.7/dist-packages/dateutil/parser/_parser.py\u001b[0m in \u001b[0;36mparse\u001b[0;34m(self, timestr, default, ignoretz, tzinfos, **kwargs)\u001b[0m\n\u001b[1;32m    641\u001b[0m \u001b[0;34m\u001b[0m\u001b[0m\n\u001b[1;32m    642\u001b[0m         \u001b[0;32mif\u001b[0m \u001b[0mres\u001b[0m \u001b[0;32mis\u001b[0m \u001b[0;32mNone\u001b[0m\u001b[0;34m:\u001b[0m\u001b[0;34m\u001b[0m\u001b[0;34m\u001b[0m\u001b[0m\n\u001b[0;32m--> 643\u001b[0;31m             \u001b[0;32mraise\u001b[0m \u001b[0mParserError\u001b[0m\u001b[0;34m(\u001b[0m\u001b[0;34m\"Unknown string format: %s\"\u001b[0m\u001b[0;34m,\u001b[0m \u001b[0mtimestr\u001b[0m\u001b[0;34m)\u001b[0m\u001b[0;34m\u001b[0m\u001b[0;34m\u001b[0m\u001b[0m\n\u001b[0m\u001b[1;32m    644\u001b[0m \u001b[0;34m\u001b[0m\u001b[0m\n\u001b[1;32m    645\u001b[0m         \u001b[0;32mif\u001b[0m \u001b[0mlen\u001b[0m\u001b[0;34m(\u001b[0m\u001b[0mres\u001b[0m\u001b[0;34m)\u001b[0m \u001b[0;34m==\u001b[0m \u001b[0;36m0\u001b[0m\u001b[0;34m:\u001b[0m\u001b[0;34m\u001b[0m\u001b[0;34m\u001b[0m\u001b[0m\n",
            "\u001b[0;31mParserError\u001b[0m: Unknown string format: n"
          ]
        }
      ]
    },
    {
      "cell_type": "code",
      "source": [
        "features(res, 'not_numbers')"
      ],
      "metadata": {
        "id": "RNpli4erYP-8"
      },
      "execution_count": null,
      "outputs": []
    },
    {
      "cell_type": "code",
      "source": [
        "all_features(res, 'not_numbers')"
      ],
      "metadata": {
        "id": "9exxtKL1YREO"
      },
      "execution_count": null,
      "outputs": []
    },
    {
      "cell_type": "code",
      "source": [
        "result_graph(res, 'not_numbers')"
      ],
      "metadata": {
        "id": "5JOabUiGYRss"
      },
      "execution_count": null,
      "outputs": []
    },
    {
      "cell_type": "markdown",
      "source": [
        "<h1></h1>"
      ],
      "metadata": {
        "id": "pEfzVS2lh7SQ"
      }
    },
    {
      "cell_type": "code",
      "source": [
        "dss = generate_dataset(types)"
      ],
      "metadata": {
        "id": "nP4QKIlR0j71"
      },
      "execution_count": 60,
      "outputs": []
    },
    {
      "cell_type": "code",
      "source": [
        "dss.dtypes"
      ],
      "metadata": {
        "colab": {
          "base_uri": "https://localhost:8080/"
        },
        "id": "K8ohcUJI97iF",
        "outputId": "866a562e-98aa-4b45-c00a-098ac29dbf22"
      },
      "execution_count": 61,
      "outputs": [
        {
          "output_type": "execute_result",
          "data": {
            "text/plain": [
              "col0_int                          int64\n",
              "col1_float                      float64\n",
              "col2_datetime64[ns]      datetime64[ns]\n",
              "col3_boolean                    boolean\n",
              "col4_boolean                    boolean\n",
              "                              ...      \n",
              "col251_boolean                  boolean\n",
              "col252_datetime64[ns]    datetime64[ns]\n",
              "col253_string                    string\n",
              "col254_datetime64[ns]    datetime64[ns]\n",
              "col255_boolean                  boolean\n",
              "Length: 256, dtype: object"
            ]
          },
          "metadata": {},
          "execution_count": 61
        }
      ]
    },
    {
      "cell_type": "code",
      "source": [
        "write_hdf('hello', dss)"
      ],
      "metadata": {
        "id": "gIV2vkHU5Z3p"
      },
      "execution_count": 62,
      "outputs": []
    },
    {
      "cell_type": "code",
      "source": [
        "d = read_hdf('hello')"
      ],
      "metadata": {
        "id": "l42SEiXv5lnu"
      },
      "execution_count": 63,
      "outputs": []
    },
    {
      "cell_type": "code",
      "source": [
        "dss"
      ],
      "metadata": {
        "id": "pATB9xrAKnSC"
      },
      "execution_count": null,
      "outputs": []
    },
    {
      "cell_type": "code",
      "source": [
        "dss.to_hdf('hhh.h5', key='ds')"
      ],
      "metadata": {
        "id": "BAox5Z210u2c"
      },
      "execution_count": null,
      "outputs": []
    },
    {
      "cell_type": "code",
      "source": [
        "pd.read_hdf('hhh.h5')"
      ],
      "metadata": {
        "colab": {
          "base_uri": "https://localhost:8080/",
          "height": 488
        },
        "id": "Uyrrw1Sy4AO_",
        "outputId": "782725c2-5589-4d24-a97d-18249a741b3c"
      },
      "execution_count": null,
      "outputs": [
        {
          "output_type": "execute_result",
          "data": {
            "text/plain": [
              "     col0_float  col1_float  col2_float    col3_int  col4_float    col5_int  \\\n",
              "0    -98.365393  -75.786465  -16.145046  1217746282  -22.121469  -782450763   \n",
              "1     23.875524   25.000326   55.689844   801561782  -30.339099  1786487046   \n",
              "2    -67.257228  -32.966149  -62.541754  -829829833  -98.158106   199010626   \n",
              "3      8.172022  -26.400448   57.096808  1791054559    1.549681 -1100460844   \n",
              "4    -50.257821  -46.624125    1.390975  -465300388   79.996914  1819122320   \n",
              "..          ...         ...         ...         ...         ...         ...   \n",
              "251   64.948924    9.429042  -20.341477   -29513002  -43.389792   508283238   \n",
              "252  -11.839489   15.085593   22.533509   727977328  -16.699185  1452728650   \n",
              "253  -92.101573  -55.581796  -92.464836  1423076055   89.599576   960906190   \n",
              "254  -34.026755   85.834719   -7.091149  -805477606  -39.008158   255260048   \n",
              "255  -65.999020   77.862303   -6.893252  -568796643   93.058600  -821786150   \n",
              "\n",
              "       col6_int    col7_int  col8_float    col9_int  ...  col246_float  \\\n",
              "0    2053101332 -1897618824  -49.693683   677086572  ...     20.214991   \n",
              "1    -964942593 -2135212095   63.678134 -1507151762  ...    -89.220527   \n",
              "2   -1204798484   473068908  -34.277452  1474936753  ...     92.616511   \n",
              "3   -1706585506 -1469334607  -39.677921  -388875810  ...    -35.513196   \n",
              "4   -1877239389 -1583023495    8.845690 -2090978772  ...     34.636203   \n",
              "..          ...         ...         ...         ...  ...           ...   \n",
              "251  -687757895   400456505   67.487602  2101648741  ...    -17.986591   \n",
              "252  1325133473  1652574825  -82.897434  1693742858  ...    -96.053123   \n",
              "253  1695482549   952158083   13.105339 -1390922712  ...    -81.693775   \n",
              "254 -2117631110    16913635  -38.677091 -1486668755  ...    -24.108501   \n",
              "255   806314057  1387771811   64.041477  -622525895  ...     34.351517   \n",
              "\n",
              "     col247_float  col248_float  col249_int  col250_int  col251_int  \\\n",
              "0       87.223217    -77.618757  2143497513   454716396  -506975208   \n",
              "1       12.475190     80.314498 -2057177012  -558385189  -223497577   \n",
              "2      -29.981760    -20.124696 -1251101214  1749652319 -1046629519   \n",
              "3      -60.417921     80.221665  1750357879  1199190468  1469012136   \n",
              "4      -88.714694    -38.699232  -929207298  -623121212  -859509089   \n",
              "..            ...           ...         ...         ...         ...   \n",
              "251     22.926826    -54.222089 -2069268820   494871161   200612768   \n",
              "252     76.167816    -77.601209  1193529483  1828129455  -248042547   \n",
              "253    -68.294583    -25.911743   440298781   582151577  1080832330   \n",
              "254     31.852633     58.630682   992088110   724178843  1040284960   \n",
              "255    -10.993909     53.706051   658098558  2084009488   841226302   \n",
              "\n",
              "     col252_int  col253_float  col254_float  col255_float  \n",
              "0     124812363     -7.417121    -33.787060    -28.084861  \n",
              "1   -1950353224     77.737273     92.794091     51.903124  \n",
              "2    -727347845     -2.632341    -39.136932      9.274307  \n",
              "3   -1969611520     55.169371    -59.763333    -26.277238  \n",
              "4     552424438      3.373398     72.311822     41.954837  \n",
              "..          ...           ...           ...           ...  \n",
              "251   994360259    -56.742548    -17.724215    -23.414329  \n",
              "252  -430769430    -85.260356     -7.175965      7.820259  \n",
              "253 -1103623905    -79.784605    -56.975790    -96.866477  \n",
              "254 -1949011451     26.513434     43.213314    -92.396419  \n",
              "255   607570762     87.868657    -66.983877    -61.561587  \n",
              "\n",
              "[256 rows x 256 columns]"
            ],
            "text/html": [
              "\n",
              "  <div id=\"df-5de91333-a216-426b-8b5c-3c6a4c7237ca\">\n",
              "    <div class=\"colab-df-container\">\n",
              "      <div>\n",
              "<style scoped>\n",
              "    .dataframe tbody tr th:only-of-type {\n",
              "        vertical-align: middle;\n",
              "    }\n",
              "\n",
              "    .dataframe tbody tr th {\n",
              "        vertical-align: top;\n",
              "    }\n",
              "\n",
              "    .dataframe thead th {\n",
              "        text-align: right;\n",
              "    }\n",
              "</style>\n",
              "<table border=\"1\" class=\"dataframe\">\n",
              "  <thead>\n",
              "    <tr style=\"text-align: right;\">\n",
              "      <th></th>\n",
              "      <th>col0_float</th>\n",
              "      <th>col1_float</th>\n",
              "      <th>col2_float</th>\n",
              "      <th>col3_int</th>\n",
              "      <th>col4_float</th>\n",
              "      <th>col5_int</th>\n",
              "      <th>col6_int</th>\n",
              "      <th>col7_int</th>\n",
              "      <th>col8_float</th>\n",
              "      <th>col9_int</th>\n",
              "      <th>...</th>\n",
              "      <th>col246_float</th>\n",
              "      <th>col247_float</th>\n",
              "      <th>col248_float</th>\n",
              "      <th>col249_int</th>\n",
              "      <th>col250_int</th>\n",
              "      <th>col251_int</th>\n",
              "      <th>col252_int</th>\n",
              "      <th>col253_float</th>\n",
              "      <th>col254_float</th>\n",
              "      <th>col255_float</th>\n",
              "    </tr>\n",
              "  </thead>\n",
              "  <tbody>\n",
              "    <tr>\n",
              "      <th>0</th>\n",
              "      <td>-98.365393</td>\n",
              "      <td>-75.786465</td>\n",
              "      <td>-16.145046</td>\n",
              "      <td>1217746282</td>\n",
              "      <td>-22.121469</td>\n",
              "      <td>-782450763</td>\n",
              "      <td>2053101332</td>\n",
              "      <td>-1897618824</td>\n",
              "      <td>-49.693683</td>\n",
              "      <td>677086572</td>\n",
              "      <td>...</td>\n",
              "      <td>20.214991</td>\n",
              "      <td>87.223217</td>\n",
              "      <td>-77.618757</td>\n",
              "      <td>2143497513</td>\n",
              "      <td>454716396</td>\n",
              "      <td>-506975208</td>\n",
              "      <td>124812363</td>\n",
              "      <td>-7.417121</td>\n",
              "      <td>-33.787060</td>\n",
              "      <td>-28.084861</td>\n",
              "    </tr>\n",
              "    <tr>\n",
              "      <th>1</th>\n",
              "      <td>23.875524</td>\n",
              "      <td>25.000326</td>\n",
              "      <td>55.689844</td>\n",
              "      <td>801561782</td>\n",
              "      <td>-30.339099</td>\n",
              "      <td>1786487046</td>\n",
              "      <td>-964942593</td>\n",
              "      <td>-2135212095</td>\n",
              "      <td>63.678134</td>\n",
              "      <td>-1507151762</td>\n",
              "      <td>...</td>\n",
              "      <td>-89.220527</td>\n",
              "      <td>12.475190</td>\n",
              "      <td>80.314498</td>\n",
              "      <td>-2057177012</td>\n",
              "      <td>-558385189</td>\n",
              "      <td>-223497577</td>\n",
              "      <td>-1950353224</td>\n",
              "      <td>77.737273</td>\n",
              "      <td>92.794091</td>\n",
              "      <td>51.903124</td>\n",
              "    </tr>\n",
              "    <tr>\n",
              "      <th>2</th>\n",
              "      <td>-67.257228</td>\n",
              "      <td>-32.966149</td>\n",
              "      <td>-62.541754</td>\n",
              "      <td>-829829833</td>\n",
              "      <td>-98.158106</td>\n",
              "      <td>199010626</td>\n",
              "      <td>-1204798484</td>\n",
              "      <td>473068908</td>\n",
              "      <td>-34.277452</td>\n",
              "      <td>1474936753</td>\n",
              "      <td>...</td>\n",
              "      <td>92.616511</td>\n",
              "      <td>-29.981760</td>\n",
              "      <td>-20.124696</td>\n",
              "      <td>-1251101214</td>\n",
              "      <td>1749652319</td>\n",
              "      <td>-1046629519</td>\n",
              "      <td>-727347845</td>\n",
              "      <td>-2.632341</td>\n",
              "      <td>-39.136932</td>\n",
              "      <td>9.274307</td>\n",
              "    </tr>\n",
              "    <tr>\n",
              "      <th>3</th>\n",
              "      <td>8.172022</td>\n",
              "      <td>-26.400448</td>\n",
              "      <td>57.096808</td>\n",
              "      <td>1791054559</td>\n",
              "      <td>1.549681</td>\n",
              "      <td>-1100460844</td>\n",
              "      <td>-1706585506</td>\n",
              "      <td>-1469334607</td>\n",
              "      <td>-39.677921</td>\n",
              "      <td>-388875810</td>\n",
              "      <td>...</td>\n",
              "      <td>-35.513196</td>\n",
              "      <td>-60.417921</td>\n",
              "      <td>80.221665</td>\n",
              "      <td>1750357879</td>\n",
              "      <td>1199190468</td>\n",
              "      <td>1469012136</td>\n",
              "      <td>-1969611520</td>\n",
              "      <td>55.169371</td>\n",
              "      <td>-59.763333</td>\n",
              "      <td>-26.277238</td>\n",
              "    </tr>\n",
              "    <tr>\n",
              "      <th>4</th>\n",
              "      <td>-50.257821</td>\n",
              "      <td>-46.624125</td>\n",
              "      <td>1.390975</td>\n",
              "      <td>-465300388</td>\n",
              "      <td>79.996914</td>\n",
              "      <td>1819122320</td>\n",
              "      <td>-1877239389</td>\n",
              "      <td>-1583023495</td>\n",
              "      <td>8.845690</td>\n",
              "      <td>-2090978772</td>\n",
              "      <td>...</td>\n",
              "      <td>34.636203</td>\n",
              "      <td>-88.714694</td>\n",
              "      <td>-38.699232</td>\n",
              "      <td>-929207298</td>\n",
              "      <td>-623121212</td>\n",
              "      <td>-859509089</td>\n",
              "      <td>552424438</td>\n",
              "      <td>3.373398</td>\n",
              "      <td>72.311822</td>\n",
              "      <td>41.954837</td>\n",
              "    </tr>\n",
              "    <tr>\n",
              "      <th>...</th>\n",
              "      <td>...</td>\n",
              "      <td>...</td>\n",
              "      <td>...</td>\n",
              "      <td>...</td>\n",
              "      <td>...</td>\n",
              "      <td>...</td>\n",
              "      <td>...</td>\n",
              "      <td>...</td>\n",
              "      <td>...</td>\n",
              "      <td>...</td>\n",
              "      <td>...</td>\n",
              "      <td>...</td>\n",
              "      <td>...</td>\n",
              "      <td>...</td>\n",
              "      <td>...</td>\n",
              "      <td>...</td>\n",
              "      <td>...</td>\n",
              "      <td>...</td>\n",
              "      <td>...</td>\n",
              "      <td>...</td>\n",
              "      <td>...</td>\n",
              "    </tr>\n",
              "    <tr>\n",
              "      <th>251</th>\n",
              "      <td>64.948924</td>\n",
              "      <td>9.429042</td>\n",
              "      <td>-20.341477</td>\n",
              "      <td>-29513002</td>\n",
              "      <td>-43.389792</td>\n",
              "      <td>508283238</td>\n",
              "      <td>-687757895</td>\n",
              "      <td>400456505</td>\n",
              "      <td>67.487602</td>\n",
              "      <td>2101648741</td>\n",
              "      <td>...</td>\n",
              "      <td>-17.986591</td>\n",
              "      <td>22.926826</td>\n",
              "      <td>-54.222089</td>\n",
              "      <td>-2069268820</td>\n",
              "      <td>494871161</td>\n",
              "      <td>200612768</td>\n",
              "      <td>994360259</td>\n",
              "      <td>-56.742548</td>\n",
              "      <td>-17.724215</td>\n",
              "      <td>-23.414329</td>\n",
              "    </tr>\n",
              "    <tr>\n",
              "      <th>252</th>\n",
              "      <td>-11.839489</td>\n",
              "      <td>15.085593</td>\n",
              "      <td>22.533509</td>\n",
              "      <td>727977328</td>\n",
              "      <td>-16.699185</td>\n",
              "      <td>1452728650</td>\n",
              "      <td>1325133473</td>\n",
              "      <td>1652574825</td>\n",
              "      <td>-82.897434</td>\n",
              "      <td>1693742858</td>\n",
              "      <td>...</td>\n",
              "      <td>-96.053123</td>\n",
              "      <td>76.167816</td>\n",
              "      <td>-77.601209</td>\n",
              "      <td>1193529483</td>\n",
              "      <td>1828129455</td>\n",
              "      <td>-248042547</td>\n",
              "      <td>-430769430</td>\n",
              "      <td>-85.260356</td>\n",
              "      <td>-7.175965</td>\n",
              "      <td>7.820259</td>\n",
              "    </tr>\n",
              "    <tr>\n",
              "      <th>253</th>\n",
              "      <td>-92.101573</td>\n",
              "      <td>-55.581796</td>\n",
              "      <td>-92.464836</td>\n",
              "      <td>1423076055</td>\n",
              "      <td>89.599576</td>\n",
              "      <td>960906190</td>\n",
              "      <td>1695482549</td>\n",
              "      <td>952158083</td>\n",
              "      <td>13.105339</td>\n",
              "      <td>-1390922712</td>\n",
              "      <td>...</td>\n",
              "      <td>-81.693775</td>\n",
              "      <td>-68.294583</td>\n",
              "      <td>-25.911743</td>\n",
              "      <td>440298781</td>\n",
              "      <td>582151577</td>\n",
              "      <td>1080832330</td>\n",
              "      <td>-1103623905</td>\n",
              "      <td>-79.784605</td>\n",
              "      <td>-56.975790</td>\n",
              "      <td>-96.866477</td>\n",
              "    </tr>\n",
              "    <tr>\n",
              "      <th>254</th>\n",
              "      <td>-34.026755</td>\n",
              "      <td>85.834719</td>\n",
              "      <td>-7.091149</td>\n",
              "      <td>-805477606</td>\n",
              "      <td>-39.008158</td>\n",
              "      <td>255260048</td>\n",
              "      <td>-2117631110</td>\n",
              "      <td>16913635</td>\n",
              "      <td>-38.677091</td>\n",
              "      <td>-1486668755</td>\n",
              "      <td>...</td>\n",
              "      <td>-24.108501</td>\n",
              "      <td>31.852633</td>\n",
              "      <td>58.630682</td>\n",
              "      <td>992088110</td>\n",
              "      <td>724178843</td>\n",
              "      <td>1040284960</td>\n",
              "      <td>-1949011451</td>\n",
              "      <td>26.513434</td>\n",
              "      <td>43.213314</td>\n",
              "      <td>-92.396419</td>\n",
              "    </tr>\n",
              "    <tr>\n",
              "      <th>255</th>\n",
              "      <td>-65.999020</td>\n",
              "      <td>77.862303</td>\n",
              "      <td>-6.893252</td>\n",
              "      <td>-568796643</td>\n",
              "      <td>93.058600</td>\n",
              "      <td>-821786150</td>\n",
              "      <td>806314057</td>\n",
              "      <td>1387771811</td>\n",
              "      <td>64.041477</td>\n",
              "      <td>-622525895</td>\n",
              "      <td>...</td>\n",
              "      <td>34.351517</td>\n",
              "      <td>-10.993909</td>\n",
              "      <td>53.706051</td>\n",
              "      <td>658098558</td>\n",
              "      <td>2084009488</td>\n",
              "      <td>841226302</td>\n",
              "      <td>607570762</td>\n",
              "      <td>87.868657</td>\n",
              "      <td>-66.983877</td>\n",
              "      <td>-61.561587</td>\n",
              "    </tr>\n",
              "  </tbody>\n",
              "</table>\n",
              "<p>256 rows × 256 columns</p>\n",
              "</div>\n",
              "      <button class=\"colab-df-convert\" onclick=\"convertToInteractive('df-5de91333-a216-426b-8b5c-3c6a4c7237ca')\"\n",
              "              title=\"Convert this dataframe to an interactive table.\"\n",
              "              style=\"display:none;\">\n",
              "        \n",
              "  <svg xmlns=\"http://www.w3.org/2000/svg\" height=\"24px\"viewBox=\"0 0 24 24\"\n",
              "       width=\"24px\">\n",
              "    <path d=\"M0 0h24v24H0V0z\" fill=\"none\"/>\n",
              "    <path d=\"M18.56 5.44l.94 2.06.94-2.06 2.06-.94-2.06-.94-.94-2.06-.94 2.06-2.06.94zm-11 1L8.5 8.5l.94-2.06 2.06-.94-2.06-.94L8.5 2.5l-.94 2.06-2.06.94zm10 10l.94 2.06.94-2.06 2.06-.94-2.06-.94-.94-2.06-.94 2.06-2.06.94z\"/><path d=\"M17.41 7.96l-1.37-1.37c-.4-.4-.92-.59-1.43-.59-.52 0-1.04.2-1.43.59L10.3 9.45l-7.72 7.72c-.78.78-.78 2.05 0 2.83L4 21.41c.39.39.9.59 1.41.59.51 0 1.02-.2 1.41-.59l7.78-7.78 2.81-2.81c.8-.78.8-2.07 0-2.86zM5.41 20L4 18.59l7.72-7.72 1.47 1.35L5.41 20z\"/>\n",
              "  </svg>\n",
              "      </button>\n",
              "      \n",
              "  <style>\n",
              "    .colab-df-container {\n",
              "      display:flex;\n",
              "      flex-wrap:wrap;\n",
              "      gap: 12px;\n",
              "    }\n",
              "\n",
              "    .colab-df-convert {\n",
              "      background-color: #E8F0FE;\n",
              "      border: none;\n",
              "      border-radius: 50%;\n",
              "      cursor: pointer;\n",
              "      display: none;\n",
              "      fill: #1967D2;\n",
              "      height: 32px;\n",
              "      padding: 0 0 0 0;\n",
              "      width: 32px;\n",
              "    }\n",
              "\n",
              "    .colab-df-convert:hover {\n",
              "      background-color: #E2EBFA;\n",
              "      box-shadow: 0px 1px 2px rgba(60, 64, 67, 0.3), 0px 1px 3px 1px rgba(60, 64, 67, 0.15);\n",
              "      fill: #174EA6;\n",
              "    }\n",
              "\n",
              "    [theme=dark] .colab-df-convert {\n",
              "      background-color: #3B4455;\n",
              "      fill: #D2E3FC;\n",
              "    }\n",
              "\n",
              "    [theme=dark] .colab-df-convert:hover {\n",
              "      background-color: #434B5C;\n",
              "      box-shadow: 0px 1px 3px 1px rgba(0, 0, 0, 0.15);\n",
              "      filter: drop-shadow(0px 1px 2px rgba(0, 0, 0, 0.3));\n",
              "      fill: #FFFFFF;\n",
              "    }\n",
              "  </style>\n",
              "\n",
              "      <script>\n",
              "        const buttonEl =\n",
              "          document.querySelector('#df-5de91333-a216-426b-8b5c-3c6a4c7237ca button.colab-df-convert');\n",
              "        buttonEl.style.display =\n",
              "          google.colab.kernel.accessAllowed ? 'block' : 'none';\n",
              "\n",
              "        async function convertToInteractive(key) {\n",
              "          const element = document.querySelector('#df-5de91333-a216-426b-8b5c-3c6a4c7237ca');\n",
              "          const dataTable =\n",
              "            await google.colab.kernel.invokeFunction('convertToInteractive',\n",
              "                                                     [key], {});\n",
              "          if (!dataTable) return;\n",
              "\n",
              "          const docLinkHtml = 'Like what you see? Visit the ' +\n",
              "            '<a target=\"_blank\" href=https://colab.research.google.com/notebooks/data_table.ipynb>data table notebook</a>'\n",
              "            + ' to learn more about interactive tables.';\n",
              "          element.innerHTML = '';\n",
              "          dataTable['output_type'] = 'display_data';\n",
              "          await google.colab.output.renderOutput(dataTable, element);\n",
              "          const docLink = document.createElement('div');\n",
              "          docLink.innerHTML = docLinkHtml;\n",
              "          element.appendChild(docLink);\n",
              "        }\n",
              "      </script>\n",
              "    </div>\n",
              "  </div>\n",
              "  "
            ]
          },
          "metadata": {},
          "execution_count": 45
        }
      ]
    },
    {
      "cell_type": "code",
      "source": [
        "ds = dss.copy()\n",
        "ds.to_csv('results/dataset.csv', index=False)\n",
        "ds = read_csv('results/dataset.csv')\n",
        "print(ds.dtypes[246])"
      ],
      "metadata": {
        "id": "_88e4J_JyIuN",
        "colab": {
          "base_uri": "https://localhost:8080/"
        },
        "outputId": "226f032b-ef79-4ad7-e495-342fb65fb54f"
      },
      "execution_count": null,
      "outputs": [
        {
          "output_type": "stream",
          "name": "stdout",
          "text": [
            "datetime64[ns]\n"
          ]
        }
      ]
    },
    {
      "cell_type": "code",
      "source": [
        "ds = dss.copy()\n",
        "ds.reset_index(drop=True).to_feather('results/dataset.feather')\n",
        "ds = pd.read_feather('results/dataset.feather')\n",
        "print(ds.dtypes[246])"
      ],
      "metadata": {
        "colab": {
          "base_uri": "https://localhost:8080/"
        },
        "id": "SeovnPtV-GNG",
        "outputId": "fdae9765-b191-4260-9374-9c9ffca0c6ed"
      },
      "execution_count": null,
      "outputs": [
        {
          "output_type": "stream",
          "name": "stdout",
          "text": [
            "datetime64[ns]\n"
          ]
        }
      ]
    },
    {
      "cell_type": "code",
      "source": [
        "ds = dss.copy()\n",
        "write_hdf('results/dataset.hdf5', ds)\n",
        "ds = read_hdf('results/dataset.hdf5')\n",
        "print(ds.dtypes[246])"
      ],
      "metadata": {
        "colab": {
          "base_uri": "https://localhost:8080/"
        },
        "id": "HMPQidRPAtP5",
        "outputId": "993fe2b3-7bd2-40f3-cdc4-f7f9de7c5569"
      },
      "execution_count": null,
      "outputs": [
        {
          "output_type": "stream",
          "name": "stdout",
          "text": [
            "datetime64[ns]\n"
          ]
        }
      ]
    },
    {
      "cell_type": "code",
      "source": [
        "ds = dss.copy()\n",
        "write_msgpack('results/dataset.msg', ds)\n",
        "ds = read_msgpack('results/dataset.msg')\n",
        "print(ds.dtypes[246])"
      ],
      "metadata": {
        "colab": {
          "base_uri": "https://localhost:8080/"
        },
        "id": "Y3ujVttFAwXo",
        "outputId": "6c1e81bf-f65a-48ae-e340-51cc9f7a7568"
      },
      "execution_count": null,
      "outputs": [
        {
          "output_type": "stream",
          "name": "stdout",
          "text": [
            "datetime64[ns]\n"
          ]
        }
      ]
    },
    {
      "cell_type": "code",
      "source": [
        "ds = dss.copy()\n",
        "ds.to_parquet('results/dataset.gzip', compression='gzip')\n",
        "ds = pd.read_parquet('results/dataset.gzip')\n",
        "print(ds.dtypes[246])"
      ],
      "metadata": {
        "colab": {
          "base_uri": "https://localhost:8080/"
        },
        "id": "yl7ao2YNAwps",
        "outputId": "cc392173-0d60-4a0a-9c8f-7d0949f70f80"
      },
      "execution_count": null,
      "outputs": [
        {
          "output_type": "stream",
          "name": "stdout",
          "text": [
            "datetime64[ns]\n"
          ]
        }
      ]
    },
    {
      "cell_type": "code",
      "source": [
        "ds = dss.copy()\n",
        "ds.to_pickle('results/dataset.pkl')\n",
        "ds = pd.read_pickle('results/dataset.pkl')\n",
        "print(ds.dtypes[246])"
      ],
      "metadata": {
        "colab": {
          "base_uri": "https://localhost:8080/"
        },
        "id": "DgahVAKzAw7x",
        "outputId": "6f0eaf2c-e931-407f-f5ab-4a2cf9527adb"
      },
      "execution_count": null,
      "outputs": [
        {
          "output_type": "stream",
          "name": "stdout",
          "text": [
            "datetime64[ns]\n"
          ]
        }
      ]
    },
    {
      "cell_type": "code",
      "source": [
        "ds = dss.copy()\n",
        "write_jay('results/dataset.jay', ds)\n",
        "ds = read_jay('results/dataset.jay')\n",
        "print(ds.dtypes[246])"
      ],
      "metadata": {
        "colab": {
          "base_uri": "https://localhost:8080/"
        },
        "id": "qzl5s1T1AxNJ",
        "outputId": "4dd48508-2801-4f67-e87c-1f2581781fc7"
      },
      "execution_count": null,
      "outputs": [
        {
          "output_type": "stream",
          "name": "stdout",
          "text": [
            "datetime64[ns]\n"
          ]
        }
      ]
    }
  ]
}